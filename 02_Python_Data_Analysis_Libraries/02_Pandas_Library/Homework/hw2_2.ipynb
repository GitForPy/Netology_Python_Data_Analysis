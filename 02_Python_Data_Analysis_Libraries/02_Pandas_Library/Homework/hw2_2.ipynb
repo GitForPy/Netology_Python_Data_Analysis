{
 "cells": [
  {
   "cell_type": "markdown",
   "id": "e790839c",
   "metadata": {},
   "source": [
    "# Домашнее задание"
   ]
  },
  {
   "cell_type": "markdown",
   "id": "b0e39236",
   "metadata": {},
   "source": [
    "# Задание 1\n",
    "\n",
    "1. Скачайте датасет любого размера с сайта [GroupLens](https://grouplens.org/datasets/movielens/).\n",
    "2. Определите, какому фильму было выставлено больше всего оценок 5.0.\n",
    "\n",
    "**Примечание:** Для анализа данных вы можете использовать библиотеки pandas и numpy. Датасет может состоять из нескольких файлов. Обычно оценки и названия фильмов хранятся в разных файлах, поэтому может потребоваться объединить данные для полного анализа.\n",
    "\n",
    "Ваша задача – найти фильм с наибольшим количеством оценок 5.0. Удачи!\n"
   ]
  },
  {
   "cell_type": "code",
   "execution_count": 4,
   "id": "14d0ed61",
   "metadata": {},
   "outputs": [],
   "source": [
    "import pandas as pd\n",
    "\n",
    "# Читаем все необходимые файлы\n",
    "movies = pd.read_csv('movies.csv')\n",
    "tags = pd.read_csv('tags.csv')\n",
    "rating = pd.read_csv('ratings.csv')\n",
    "links = pd.read_csv('links.csv')\n",
    "power = pd.read_csv('power.csv')"
   ]
  },
  {
   "cell_type": "code",
   "execution_count": 9,
   "id": "87ac0c44",
   "metadata": {},
   "outputs": [
    {
     "data": {
      "text/html": [
       "<div>\n",
       "<style scoped>\n",
       "    .dataframe tbody tr th:only-of-type {\n",
       "        vertical-align: middle;\n",
       "    }\n",
       "\n",
       "    .dataframe tbody tr th {\n",
       "        vertical-align: top;\n",
       "    }\n",
       "\n",
       "    .dataframe thead th {\n",
       "        text-align: right;\n",
       "    }\n",
       "</style>\n",
       "<table border=\"1\" class=\"dataframe\">\n",
       "  <thead>\n",
       "    <tr style=\"text-align: right;\">\n",
       "      <th></th>\n",
       "      <th>userId</th>\n",
       "      <th>movieId</th>\n",
       "      <th>rating</th>\n",
       "      <th>timestamp</th>\n",
       "    </tr>\n",
       "  </thead>\n",
       "  <tbody>\n",
       "    <tr>\n",
       "      <th>0</th>\n",
       "      <td>1</td>\n",
       "      <td>1</td>\n",
       "      <td>4.0</td>\n",
       "      <td>964982703</td>\n",
       "    </tr>\n",
       "    <tr>\n",
       "      <th>1</th>\n",
       "      <td>1</td>\n",
       "      <td>3</td>\n",
       "      <td>4.0</td>\n",
       "      <td>964981247</td>\n",
       "    </tr>\n",
       "    <tr>\n",
       "      <th>2</th>\n",
       "      <td>1</td>\n",
       "      <td>6</td>\n",
       "      <td>4.0</td>\n",
       "      <td>964982224</td>\n",
       "    </tr>\n",
       "    <tr>\n",
       "      <th>3</th>\n",
       "      <td>1</td>\n",
       "      <td>47</td>\n",
       "      <td>5.0</td>\n",
       "      <td>964983815</td>\n",
       "    </tr>\n",
       "    <tr>\n",
       "      <th>4</th>\n",
       "      <td>1</td>\n",
       "      <td>50</td>\n",
       "      <td>5.0</td>\n",
       "      <td>964982931</td>\n",
       "    </tr>\n",
       "  </tbody>\n",
       "</table>\n",
       "</div>"
      ],
      "text/plain": [
       "   userId  movieId  rating  timestamp\n",
       "0       1        1     4.0  964982703\n",
       "1       1        3     4.0  964981247\n",
       "2       1        6     4.0  964982224\n",
       "3       1       47     5.0  964983815\n",
       "4       1       50     5.0  964982931"
      ]
     },
     "execution_count": 9,
     "metadata": {},
     "output_type": "execute_result"
    }
   ],
   "source": [
    "rating.head()"
   ]
  },
  {
   "cell_type": "code",
   "execution_count": 61,
   "id": "27f15dfa",
   "metadata": {},
   "outputs": [],
   "source": [
    "# Отбираем только строки, где рейтинг равен 5.0\n",
    "high_rating_df = ratings_df[ratings_df['rating'] == 5.0]\n",
    "\n",
    "# Находим фильм с максимальным количеством высоких оценок\n",
    "top_rated_movie_id = high_rating_df['movieId'].value_counts().idxmax()\n",
    "\n",
    "# Используем movies_df, чтобы получить название фильма по movieId\n",
    "top_rated_movie = movies_df[movies_df['movieId'] == top_rated_movie_id]['title'].values[0]\n",
    "\n",
    "top_rated_movietop_rated_movie"
   ]
  },
  {
   "cell_type": "markdown",
   "id": "da2662c2",
   "metadata": {},
   "source": [
    "# Задание 2"
   ]
  },
  {
   "cell_type": "markdown",
   "id": "14eaade8",
   "metadata": {},
   "source": [
    "По данным файла power.csv (находится в архиве в разделе Материалы к лекции «Библиотека Pandas» - файл “Дополнительные файлы для домашнего задания”) посчитайте суммарное потребление стран Прибалтики (Латвия, Литва и Эстония) категорий 4, 12 и 21 за период с 2005 по 2010 год. Не учитывайте в расчётах отрицательные значения quantity."
   ]
  },
  {
   "cell_type": "code",
   "execution_count": 63,
   "id": "248ae982",
   "metadata": {},
   "outputs": [
    {
     "data": {
      "text/html": [
       "<div>\n",
       "<style scoped>\n",
       "    .dataframe tbody tr th:only-of-type {\n",
       "        vertical-align: middle;\n",
       "    }\n",
       "\n",
       "    .dataframe tbody tr th {\n",
       "        vertical-align: top;\n",
       "    }\n",
       "\n",
       "    .dataframe thead th {\n",
       "        text-align: right;\n",
       "    }\n",
       "</style>\n",
       "<table border=\"1\" class=\"dataframe\">\n",
       "  <thead>\n",
       "    <tr style=\"text-align: right;\">\n",
       "      <th></th>\n",
       "      <th>country</th>\n",
       "      <th>year</th>\n",
       "      <th>quantity</th>\n",
       "      <th>category</th>\n",
       "    </tr>\n",
       "  </thead>\n",
       "  <tbody>\n",
       "    <tr>\n",
       "      <th>0</th>\n",
       "      <td>Austria</td>\n",
       "      <td>1996</td>\n",
       "      <td>5.0</td>\n",
       "      <td>1</td>\n",
       "    </tr>\n",
       "    <tr>\n",
       "      <th>1</th>\n",
       "      <td>Austria</td>\n",
       "      <td>1995</td>\n",
       "      <td>17.0</td>\n",
       "      <td>1</td>\n",
       "    </tr>\n",
       "    <tr>\n",
       "      <th>2</th>\n",
       "      <td>Belgium</td>\n",
       "      <td>2014</td>\n",
       "      <td>0.0</td>\n",
       "      <td>1</td>\n",
       "    </tr>\n",
       "    <tr>\n",
       "      <th>3</th>\n",
       "      <td>Belgium</td>\n",
       "      <td>2013</td>\n",
       "      <td>0.0</td>\n",
       "      <td>1</td>\n",
       "    </tr>\n",
       "    <tr>\n",
       "      <th>4</th>\n",
       "      <td>Belgium</td>\n",
       "      <td>2012</td>\n",
       "      <td>35.0</td>\n",
       "      <td>1</td>\n",
       "    </tr>\n",
       "  </tbody>\n",
       "</table>\n",
       "</div>"
      ],
      "text/plain": [
       "   country  year  quantity  category\n",
       "0  Austria  1996       5.0         1\n",
       "1  Austria  1995      17.0         1\n",
       "2  Belgium  2014       0.0         1\n",
       "3  Belgium  2013       0.0         1\n",
       "4  Belgium  2012      35.0         1"
      ]
     },
     "execution_count": 63,
     "metadata": {},
     "output_type": "execute_result"
    }
   ],
   "source": [
    "power.head()"
   ]
  },
  {
   "cell_type": "code",
   "execution_count": 42,
   "id": "490618b7",
   "metadata": {},
   "outputs": [
    {
     "data": {
      "text/plain": [
       "quantity    240580.0\n",
       "dtype: object"
      ]
     },
     "execution_count": 42,
     "metadata": {},
     "output_type": "execute_result"
    }
   ],
   "source": [
    "# Определяем нужные страны и категории\n",
    "countries = ['Latvia', 'Lithuania', 'Estonia']\n",
    "categories = [4, 12, 21]\n",
    "\n",
    "# Фильтруем данные\n",
    "filtered_data = power[\n",
    "    (power['country'].isin(countries)) &\n",
    "    (power['category'].isin(categories)) &\n",
    "    (power['year'].between(2005, 2010)) &\n",
    "    (power['quantity'] > 0)\n",
    "]\n",
    "\n",
    "# Вычисляем сумму\n",
    "total_consumption = filtered_data['quantity'].sum()\n",
    "total_consumption\n"
   ]
  },
  {
   "cell_type": "markdown",
   "id": "a1964bde",
   "metadata": {},
   "source": [
    "# Задание 3"
   ]
  },
  {
   "cell_type": "markdown",
   "id": "58b18847",
   "metadata": {},
   "source": [
    "\n",
    "\n",
    "1. Выберите страницу любого сайта с табличными данными. В качестве примера можете использовать следующие страницы:\n",
    "\n",
    "    - [ForTrader](https://fortrader.org/quotes)\n",
    "    - [PythonWorld](https://pythonworld.ru/tipy-dannyx-v-python/stroki-funkcii-i-metody-strok.html)\n",
    "    \n",
    "\n",
    "2. Импортируйте таблицы с этой страницы в pandas DataFrame.\n"
   ]
  },
  {
   "cell_type": "code",
   "execution_count": 59,
   "id": "0abd28be",
   "metadata": {},
   "outputs": [
    {
     "data": {
      "text/html": [
       "<div>\n",
       "<style scoped>\n",
       "    .dataframe tbody tr th:only-of-type {\n",
       "        vertical-align: middle;\n",
       "    }\n",
       "\n",
       "    .dataframe tbody tr th {\n",
       "        vertical-align: top;\n",
       "    }\n",
       "\n",
       "    .dataframe thead th {\n",
       "        text-align: right;\n",
       "    }\n",
       "</style>\n",
       "<table border=\"1\" class=\"dataframe\">\n",
       "  <thead>\n",
       "    <tr style=\"text-align: right;\">\n",
       "      <th></th>\n",
       "      <th>Название</th>\n",
       "      <th>Цена</th>\n",
       "      <th>Изменение</th>\n",
       "      <th>Изменение(%)</th>\n",
       "      <th>Обновлено</th>\n",
       "    </tr>\n",
       "  </thead>\n",
       "  <tbody>\n",
       "    <tr>\n",
       "      <th>0</th>\n",
       "      <td>Золото Цена золота на бирже</td>\n",
       "      <td>1 812</td>\n",
       "      <td>-1.0</td>\n",
       "      <td>-0.00</td>\n",
       "      <td>NaN</td>\n",
       "    </tr>\n",
       "    <tr>\n",
       "      <th>1</th>\n",
       "      <td>Серебро Цена на серебро на бирже</td>\n",
       "      <td>25.65</td>\n",
       "      <td>-0.0</td>\n",
       "      <td>-0.00</td>\n",
       "      <td>NaN</td>\n",
       "    </tr>\n",
       "    <tr>\n",
       "      <th>2</th>\n",
       "      <td>Палладий Цена на Палладий</td>\n",
       "      <td>2 624</td>\n",
       "      <td>-7.0</td>\n",
       "      <td>-0.00</td>\n",
       "      <td>NaN</td>\n",
       "    </tr>\n",
       "    <tr>\n",
       "      <th>3</th>\n",
       "      <td>Платина Цены на платину</td>\n",
       "      <td>1 100</td>\n",
       "      <td>-0.0</td>\n",
       "      <td>-0.00</td>\n",
       "      <td>NaN</td>\n",
       "    </tr>\n",
       "    <tr>\n",
       "      <th>4</th>\n",
       "      <td>Медь Цена меди на бирже</td>\n",
       "      <td>4.31</td>\n",
       "      <td>-0.0</td>\n",
       "      <td>-0.01</td>\n",
       "      <td>NaN</td>\n",
       "    </tr>\n",
       "  </tbody>\n",
       "</table>\n",
       "</div>"
      ],
      "text/plain": [
       "                           Название   Цена  Изменение  Изменение(%)  Обновлено\n",
       "0       Золото Цена золота на бирже  1 812       -1.0         -0.00        NaN\n",
       "1  Серебро Цена на серебро на бирже  25.65       -0.0         -0.00        NaN\n",
       "2         Палладий Цена на Палладий  2 624       -7.0         -0.00        NaN\n",
       "3           Платина Цены на платину  1 100       -0.0         -0.00        NaN\n",
       "4           Медь Цена меди на бирже   4.31       -0.0         -0.01        NaN"
      ]
     },
     "execution_count": 59,
     "metadata": {},
     "output_type": "execute_result"
    }
   ],
   "source": [
    "pd.read_html('https://fortrader.org/quotes')[2]"
   ]
  },
  {
   "cell_type": "code",
   "execution_count": 65,
   "id": "edee4618",
   "metadata": {},
   "outputs": [
    {
     "data": {
      "text/html": [
       "<div>\n",
       "<style scoped>\n",
       "    .dataframe tbody tr th:only-of-type {\n",
       "        vertical-align: middle;\n",
       "    }\n",
       "\n",
       "    .dataframe tbody tr th {\n",
       "        vertical-align: top;\n",
       "    }\n",
       "\n",
       "    .dataframe thead th {\n",
       "        text-align: right;\n",
       "    }\n",
       "</style>\n",
       "<table border=\"1\" class=\"dataframe\">\n",
       "  <thead>\n",
       "    <tr style=\"text-align: right;\">\n",
       "      <th></th>\n",
       "      <th>Название</th>\n",
       "      <th>Цена</th>\n",
       "      <th>Изменение</th>\n",
       "      <th>Изменение(%)</th>\n",
       "      <th>Обновлено</th>\n",
       "    </tr>\n",
       "  </thead>\n",
       "  <tbody>\n",
       "    <tr>\n",
       "      <th>0</th>\n",
       "      <td>Золото Цена золота на бирже</td>\n",
       "      <td>1 812</td>\n",
       "      <td>-1.0</td>\n",
       "      <td>-0.00</td>\n",
       "      <td>NaN</td>\n",
       "    </tr>\n",
       "    <tr>\n",
       "      <th>1</th>\n",
       "      <td>Серебро Цена на серебро на бирже</td>\n",
       "      <td>25.65</td>\n",
       "      <td>-0.0</td>\n",
       "      <td>-0.00</td>\n",
       "      <td>NaN</td>\n",
       "    </tr>\n",
       "    <tr>\n",
       "      <th>2</th>\n",
       "      <td>Палладий Цена на Палладий</td>\n",
       "      <td>2 624</td>\n",
       "      <td>-7.0</td>\n",
       "      <td>-0.00</td>\n",
       "      <td>NaN</td>\n",
       "    </tr>\n",
       "    <tr>\n",
       "      <th>3</th>\n",
       "      <td>Платина Цены на платину</td>\n",
       "      <td>1 100</td>\n",
       "      <td>-0.0</td>\n",
       "      <td>-0.00</td>\n",
       "      <td>NaN</td>\n",
       "    </tr>\n",
       "    <tr>\n",
       "      <th>4</th>\n",
       "      <td>Медь Цена меди на бирже</td>\n",
       "      <td>4.31</td>\n",
       "      <td>-0.0</td>\n",
       "      <td>-0.01</td>\n",
       "      <td>NaN</td>\n",
       "    </tr>\n",
       "  </tbody>\n",
       "</table>\n",
       "</div>"
      ],
      "text/plain": [
       "                           Название   Цена  Изменение  Изменение(%)  Обновлено\n",
       "0       Золото Цена золота на бирже  1 812       -1.0         -0.00        NaN\n",
       "1  Серебро Цена на серебро на бирже  25.65       -0.0         -0.00        NaN\n",
       "2         Палладий Цена на Палладий  2 624       -7.0         -0.00        NaN\n",
       "3           Платина Цены на платину  1 100       -0.0         -0.00        NaN\n",
       "4           Медь Цена меди на бирже   4.31       -0.0         -0.01        NaN"
      ]
     },
     "execution_count": 65,
     "metadata": {},
     "output_type": "execute_result"
    }
   ],
   "source": [
    "readhtml = 'https://fortrader.org/quotes'\n",
    "\n",
    "df = pd.read_html(readhtml)\n",
    "df[2]\n"
   ]
  }
 ],
 "metadata": {
  "kernelspec": {
   "display_name": "Python 3 (ipykernel)",
   "language": "python",
   "name": "python3"
  },
  "language_info": {
   "codemirror_mode": {
    "name": "ipython",
    "version": 3
   },
   "file_extension": ".py",
   "mimetype": "text/x-python",
   "name": "python",
   "nbconvert_exporter": "python",
   "pygments_lexer": "ipython3",
   "version": "3.10.9"
  }
 },
 "nbformat": 4,
 "nbformat_minor": 5
}
