{
 "cells": [
  {
   "cell_type": "markdown",
   "id": "ebdd2fe6",
   "metadata": {},
   "source": [
    "# Домашнее задание"
   ]
  },
  {
   "cell_type": "markdown",
   "id": "89a247da",
   "metadata": {},
   "source": [
    "# Задание 1"
   ]
  },
  {
   "cell_type": "markdown",
   "id": "6510477d",
   "metadata": {},
   "source": [
    "Создайте numpy array с элементами от числа N до 0. Например, для N = 10 это будет array([9, 8, 7, 6, 5, 4, 3, 2, 1, 0]))."
   ]
  },
  {
   "cell_type": "code",
   "execution_count": 7,
   "id": "0079614f",
   "metadata": {},
   "outputs": [
    {
     "data": {
      "text/plain": [
       "array([10,  9,  8,  7,  6,  5,  4,  3,  2,  1])"
      ]
     },
     "execution_count": 7,
     "metadata": {},
     "output_type": "execute_result"
    }
   ],
   "source": [
    "import numpy as np\n",
    "\n",
    "n = 10\n",
    "np.arange(n, 0, -1)"
   ]
  },
  {
   "cell_type": "markdown",
   "id": "a57c5f2d",
   "metadata": {},
   "source": [
    "# Задание 2"
   ]
  },
  {
   "cell_type": "markdown",
   "id": "d3656aa0",
   "metadata": {},
   "source": [
    "Создайте диагональную матрицу с элементами от N до 0. Посчитайте сумму её значений на диагонали."
   ]
  },
  {
   "cell_type": "code",
   "execution_count": null,
   "id": "33550796",
   "metadata": {},
   "outputs": [],
   "source": [
    "def diag_sum(n):\n",
    "    # np.diag создает диаг.матрицу; по диаг число от n до 0 с шагом -1. Пример, значения по диагонали: 10, 9, 8,...,1\n",
    "    matrix = np.diag(np.arange(n, 0, -1)) # 0 не включая\n",
    "    diag_sum = 0\n",
    "    for i in range(len(matrix)):\n",
    "        # Сумма значений по диагонали.\n",
    "        diag_sum += matrix[i][i]\n",
    "    return diag_sum\n",
    "\n",
    "print(diag_sum(10))\n"
   ]
  },
  {
   "cell_type": "markdown",
   "id": "4fa3864f",
   "metadata": {},
   "source": [
    "# Задание 3"
   ]
  },
  {
   "cell_type": "markdown",
   "id": "ad0691f3",
   "metadata": {},
   "source": [
    "Решите систему уравнений:\n",
    "- 4x + 2y + z = 4\n",
    "- x + 3y = 12\n",
    "- 5y + 4z = -3"
   ]
  },
  {
   "cell_type": "code",
   "execution_count": 4,
   "id": "48d79d1a",
   "metadata": {},
   "outputs": [
    {
     "name": "stdout",
     "output_type": "stream",
     "text": [
      "Решение системы уравнений: [ 0.46666667  3.84444444 -5.55555556]\n"
     ]
    }
   ],
   "source": [
    "from numpy import linalg\n",
    "\n",
    "# Создаем матрицу коэффициентов\n",
    "A = np.array([\n",
    "                [4, 2, 1], \n",
    "                [1, 3, 0], \n",
    "                [0, 5, 4]])\n",
    "\n",
    "# и вектор (правую часть системы)\n",
    "B = np.array([4, 12, -3])\n",
    "\n",
    "# Решаем систему уравнений\n",
    "solution = linalg.solve(A, B)\n",
    "print('Решение системы уравнений:', solution)\n"
   ]
  },
  {
   "cell_type": "markdown",
   "id": "112d3f37",
   "metadata": {},
   "source": [
    "# Задание 4"
   ]
  },
  {
   "cell_type": "markdown",
   "id": "c7436b08",
   "metadata": {},
   "source": [
    "Задание и входные данные к нему находятся в материалах занятия: ноутбук к лекции «Библиотека NumPy. Вычислительные задачи» ---- Python_9_Numpy.ipynb ---- Косинусное сходство между векторами ---- Задача 4 домашнего задания."
   ]
  },
  {
   "cell_type": "code",
   "execution_count": 5,
   "id": "fc795eda",
   "metadata": {},
   "outputs": [],
   "source": [
    "users_stats = np.array(\n",
    "    [\n",
    "        [2, 1, 0, 0, 0, 0],\n",
    "        [1, 1, 2, 1, 0, 0],\n",
    "        [2, 0, 1, 0, 0, 0],\n",
    "        [1, 1, 2, 1, 0, 1],\n",
    "        [0, 0, 1, 2, 0, 0],\n",
    "        [0, 0, 0, 0, 0, 5],\n",
    "        [1, 0, 0, 0, 0, 0],\n",
    "        [0, 1, 1, 0, 0, 0],\n",
    "        [0, 0, 0, 1, 1, 3],\n",
    "        [1, 0, 0, 2, 1, 4]\n",
    "    ], \n",
    "    np.int32\n",
    ")\n",
    "\n",
    "next_user_stats = np.array([0, 1, 2, 0, 0, 0])"
   ]
  },
  {
   "cell_type": "code",
   "execution_count": 6,
   "id": "d2b2e740",
   "metadata": {},
   "outputs": [
    {
     "name": "stdout",
     "output_type": "stream",
     "text": [
      "Самый похожий пользователь с ID 8, косинусное сходство: 0.9486832980505138\n"
     ]
    }
   ],
   "source": [
    "def calculate_cosine_similarity( a, b ):\n",
    "    \"\"\"\n",
    "    Подсчет косинуса угла между векторами a, b по их координатам\n",
    "    \"\"\"\n",
    "    # длины векторов\n",
    "    aLength = np.linalg.norm( a )\n",
    "    bLength = np.linalg.norm( b )\n",
    "    \n",
    "    return np.dot( a, b ) / ( aLength * bLength )\n",
    "\n",
    "# Инициализация переменных\n",
    "max_cosine = 0\n",
    "user_id = 0\n",
    "\n",
    "# Перебор всех пользователей и сравнение косинусного сходства с новым пользователем\n",
    "for i, user in enumerate(users_stats):\n",
    "    user_cosine = calculate_cosine_similarity(user, next_user_stats)\n",
    "    if user_cosine > max_cosine:\n",
    "        max_cosine = user_cosine\n",
    "        user_id = i + 1\n",
    "\n",
    "print(f'Самый похожий пользователь с ID {user_id}, косинусное сходство: {max_cosine}')"
   ]
  }
 ],
 "metadata": {
  "kernelspec": {
   "display_name": "Python 3 (ipykernel)",
   "language": "python",
   "name": "python3"
  },
  "language_info": {
   "codemirror_mode": {
    "name": "ipython",
    "version": 3
   },
   "file_extension": ".py",
   "mimetype": "text/x-python",
   "name": "python",
   "nbconvert_exporter": "python",
   "pygments_lexer": "ipython3",
   "version": "3.10.9"
  }
 },
 "nbformat": 4,
 "nbformat_minor": 5
}
