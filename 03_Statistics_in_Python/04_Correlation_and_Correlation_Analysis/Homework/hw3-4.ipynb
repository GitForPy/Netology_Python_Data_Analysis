{
  "nbformat": 4,
  "nbformat_minor": 0,
  "metadata": {
    "colab": {
      "provenance": []
    },
    "kernelspec": {
      "name": "python3",
      "display_name": "Python 3"
    },
    "language_info": {
      "name": "python"
    }
  },
  "cells": [
    {
      "cell_type": "markdown",
      "source": [
        "# Домашнее задание к лекции «Корреляция и корреляционный анализ»"
      ],
      "metadata": {
        "id": "utaoLCKjC_D3"
      }
    },
    {
      "cell_type": "markdown",
      "source": [
        "### Задание 1"
      ],
      "metadata": {
        "id": "6k9eU4kPVirK"
      }
    },
    {
      "cell_type": "markdown",
      "source": [
        "Возьмите датасет Mortality and Water Hardness\n",
        "https://www.kaggle.com/datasets/ukveteran/mortality-and-water-hardness\n",
        "\n",
        "В этом датасете содержатся данные по средней годовой смертности на\n",
        "100000 населения и концентрации кальция в питьевой воде для 61\n",
        "большого города в Англии и Уэльсе. Города дополнительно поделены на\n",
        "северные и южные.\n",
        "1. Задача - ответить на вопрос есть ли связь между жёсткостью воды и средней годовой смертностью?\n",
        "- a. Построить точечный график\n",
        "- b. Рассчитать коэффициенты корреляции Пирсона и Спирмена\n",
        "- c. Построить модель линейной регрессии\n",
        "- d. Рассчитать коэффициент детерминации\n",
        "- e. Вывести график остатков\n",
        "2. Сохраняется ли аналогичная зависимость для северных и южных городов по отдельности?\n",
        "- a. Разделить данные на 2 группы\n",
        "- b. Повторить аналогичные шаги из пункта 1 для каждой группы по отдельности."
      ],
      "metadata": {
        "id": "NSZWAo7N6aiw"
      }
    },
    {
      "cell_type": "code",
      "source": [
        "import pandas as pd\n",
        "import matplotlib.pyplot as plt\n",
        "import numpy as np\n",
        "import seaborn as sns\n",
        "from sklearn.linear_model import LinearRegression\n",
        "from sklearn.model_selection import train_test_split"
      ],
      "metadata": {
        "id": "DX1PsbHFDiKO"
      },
      "execution_count": null,
      "outputs": []
    },
    {
      "cell_type": "code",
      "source": [
        "df = pd.read_csv('water.csv', sep=',')"
      ],
      "metadata": {
        "id": "Bn4GgnCDDokG"
      },
      "execution_count": null,
      "outputs": []
    },
    {
      "cell_type": "code",
      "source": [
        "df = df[['location', 'town', 'mortality', 'hardness']]\n",
        "df.head()"
      ],
      "metadata": {
        "colab": {
          "base_uri": "https://localhost:8080/",
          "height": 206
        },
        "id": "NM3ayI4WDvFv",
        "outputId": "b5be6d1c-197a-4508-a6dc-36a1a007255f"
      },
      "execution_count": null,
      "outputs": [
        {
          "output_type": "execute_result",
          "data": {
            "text/plain": [
              "  location        town  mortality  hardness\n",
              "0    South        Bath       1247       105\n",
              "1    North  Birkenhead       1668        17\n",
              "2    South  Birmingham       1466         5\n",
              "3    North   Blackburn       1800        14\n",
              "4    North   Blackpool       1609        18"
            ],
            "text/html": [
              "\n",
              "  <div id=\"df-8ed7987e-20bc-4f18-8568-8109d80e7b76\">\n",
              "    <div class=\"colab-df-container\">\n",
              "      <div>\n",
              "<style scoped>\n",
              "    .dataframe tbody tr th:only-of-type {\n",
              "        vertical-align: middle;\n",
              "    }\n",
              "\n",
              "    .dataframe tbody tr th {\n",
              "        vertical-align: top;\n",
              "    }\n",
              "\n",
              "    .dataframe thead th {\n",
              "        text-align: right;\n",
              "    }\n",
              "</style>\n",
              "<table border=\"1\" class=\"dataframe\">\n",
              "  <thead>\n",
              "    <tr style=\"text-align: right;\">\n",
              "      <th></th>\n",
              "      <th>location</th>\n",
              "      <th>town</th>\n",
              "      <th>mortality</th>\n",
              "      <th>hardness</th>\n",
              "    </tr>\n",
              "  </thead>\n",
              "  <tbody>\n",
              "    <tr>\n",
              "      <th>0</th>\n",
              "      <td>South</td>\n",
              "      <td>Bath</td>\n",
              "      <td>1247</td>\n",
              "      <td>105</td>\n",
              "    </tr>\n",
              "    <tr>\n",
              "      <th>1</th>\n",
              "      <td>North</td>\n",
              "      <td>Birkenhead</td>\n",
              "      <td>1668</td>\n",
              "      <td>17</td>\n",
              "    </tr>\n",
              "    <tr>\n",
              "      <th>2</th>\n",
              "      <td>South</td>\n",
              "      <td>Birmingham</td>\n",
              "      <td>1466</td>\n",
              "      <td>5</td>\n",
              "    </tr>\n",
              "    <tr>\n",
              "      <th>3</th>\n",
              "      <td>North</td>\n",
              "      <td>Blackburn</td>\n",
              "      <td>1800</td>\n",
              "      <td>14</td>\n",
              "    </tr>\n",
              "    <tr>\n",
              "      <th>4</th>\n",
              "      <td>North</td>\n",
              "      <td>Blackpool</td>\n",
              "      <td>1609</td>\n",
              "      <td>18</td>\n",
              "    </tr>\n",
              "  </tbody>\n",
              "</table>\n",
              "</div>\n",
              "      <button class=\"colab-df-convert\" onclick=\"convertToInteractive('df-8ed7987e-20bc-4f18-8568-8109d80e7b76')\"\n",
              "              title=\"Convert this dataframe to an interactive table.\"\n",
              "              style=\"display:none;\">\n",
              "        \n",
              "  <svg xmlns=\"http://www.w3.org/2000/svg\" height=\"24px\"viewBox=\"0 0 24 24\"\n",
              "       width=\"24px\">\n",
              "    <path d=\"M0 0h24v24H0V0z\" fill=\"none\"/>\n",
              "    <path d=\"M18.56 5.44l.94 2.06.94-2.06 2.06-.94-2.06-.94-.94-2.06-.94 2.06-2.06.94zm-11 1L8.5 8.5l.94-2.06 2.06-.94-2.06-.94L8.5 2.5l-.94 2.06-2.06.94zm10 10l.94 2.06.94-2.06 2.06-.94-2.06-.94-.94-2.06-.94 2.06-2.06.94z\"/><path d=\"M17.41 7.96l-1.37-1.37c-.4-.4-.92-.59-1.43-.59-.52 0-1.04.2-1.43.59L10.3 9.45l-7.72 7.72c-.78.78-.78 2.05 0 2.83L4 21.41c.39.39.9.59 1.41.59.51 0 1.02-.2 1.41-.59l7.78-7.78 2.81-2.81c.8-.78.8-2.07 0-2.86zM5.41 20L4 18.59l7.72-7.72 1.47 1.35L5.41 20z\"/>\n",
              "  </svg>\n",
              "      </button>\n",
              "      \n",
              "  <style>\n",
              "    .colab-df-container {\n",
              "      display:flex;\n",
              "      flex-wrap:wrap;\n",
              "      gap: 12px;\n",
              "    }\n",
              "\n",
              "    .colab-df-convert {\n",
              "      background-color: #E8F0FE;\n",
              "      border: none;\n",
              "      border-radius: 50%;\n",
              "      cursor: pointer;\n",
              "      display: none;\n",
              "      fill: #1967D2;\n",
              "      height: 32px;\n",
              "      padding: 0 0 0 0;\n",
              "      width: 32px;\n",
              "    }\n",
              "\n",
              "    .colab-df-convert:hover {\n",
              "      background-color: #E2EBFA;\n",
              "      box-shadow: 0px 1px 2px rgba(60, 64, 67, 0.3), 0px 1px 3px 1px rgba(60, 64, 67, 0.15);\n",
              "      fill: #174EA6;\n",
              "    }\n",
              "\n",
              "    [theme=dark] .colab-df-convert {\n",
              "      background-color: #3B4455;\n",
              "      fill: #D2E3FC;\n",
              "    }\n",
              "\n",
              "    [theme=dark] .colab-df-convert:hover {\n",
              "      background-color: #434B5C;\n",
              "      box-shadow: 0px 1px 3px 1px rgba(0, 0, 0, 0.15);\n",
              "      filter: drop-shadow(0px 1px 2px rgba(0, 0, 0, 0.3));\n",
              "      fill: #FFFFFF;\n",
              "    }\n",
              "  </style>\n",
              "\n",
              "      <script>\n",
              "        const buttonEl =\n",
              "          document.querySelector('#df-8ed7987e-20bc-4f18-8568-8109d80e7b76 button.colab-df-convert');\n",
              "        buttonEl.style.display =\n",
              "          google.colab.kernel.accessAllowed ? 'block' : 'none';\n",
              "\n",
              "        async function convertToInteractive(key) {\n",
              "          const element = document.querySelector('#df-8ed7987e-20bc-4f18-8568-8109d80e7b76');\n",
              "          const dataTable =\n",
              "            await google.colab.kernel.invokeFunction('convertToInteractive',\n",
              "                                                     [key], {});\n",
              "          if (!dataTable) return;\n",
              "\n",
              "          const docLinkHtml = 'Like what you see? Visit the ' +\n",
              "            '<a target=\"_blank\" href=https://colab.research.google.com/notebooks/data_table.ipynb>data table notebook</a>'\n",
              "            + ' to learn more about interactive tables.';\n",
              "          element.innerHTML = '';\n",
              "          dataTable['output_type'] = 'display_data';\n",
              "          await google.colab.output.renderOutput(dataTable, element);\n",
              "          const docLink = document.createElement('div');\n",
              "          docLink.innerHTML = docLinkHtml;\n",
              "          element.appendChild(docLink);\n",
              "        }\n",
              "      </script>\n",
              "    </div>\n",
              "  </div>\n",
              "  "
            ]
          },
          "metadata": {},
          "execution_count": 255
        }
      ]
    },
    {
      "cell_type": "code",
      "source": [
        "df.info()"
      ],
      "metadata": {
        "colab": {
          "base_uri": "https://localhost:8080/"
        },
        "id": "X5kiqIsbEwcI",
        "outputId": "f3d1237d-9953-4161-c7db-ea8be3cf87f0"
      },
      "execution_count": null,
      "outputs": [
        {
          "output_type": "stream",
          "name": "stdout",
          "text": [
            "<class 'pandas.core.frame.DataFrame'>\n",
            "RangeIndex: 61 entries, 0 to 60\n",
            "Data columns (total 4 columns):\n",
            " #   Column     Non-Null Count  Dtype \n",
            "---  ------     --------------  ----- \n",
            " 0   location   61 non-null     object\n",
            " 1   town       61 non-null     object\n",
            " 2   mortality  61 non-null     int64 \n",
            " 3   hardness   61 non-null     int64 \n",
            "dtypes: int64(2), object(2)\n",
            "memory usage: 2.0+ KB\n"
          ]
        }
      ]
    },
    {
      "cell_type": "markdown",
      "source": [
        "### Построим график связи между mortality и hardness"
      ],
      "metadata": {
        "id": "KhAUAQ0VJaLh"
      }
    },
    {
      "cell_type": "code",
      "source": [
        "plt.figure(figsize=(10, 5))\n",
        "sns.regplot(y=df['mortality'], x=df['hardness'])"
      ],
      "metadata": {
        "colab": {
          "base_uri": "https://localhost:8080/",
          "height": 351
        },
        "id": "h54HlbV4FOwY",
        "outputId": "c683b532-5eb2-4eb6-d853-f1d56bf663c5"
      },
      "execution_count": null,
      "outputs": [
        {
          "output_type": "execute_result",
          "data": {
            "text/plain": [
              "<matplotlib.axes._subplots.AxesSubplot at 0x7f10c99ad5d0>"
            ]
          },
          "metadata": {},
          "execution_count": 257
        },
        {
          "output_type": "display_data",
          "data": {
            "text/plain": [
              "<Figure size 720x360 with 1 Axes>"
            ],
            "image/png": "[encoded data removed]"
          },
          "metadata": {
            "needs_background": "light"
          }
        }
      ]
    },
    {
      "cell_type": "markdown",
      "source": [
        "Наблюдается обратная корреляция между смертностью и жесткости воды. Чем ниже жесткость воды, тем выше смертность."
      ],
      "metadata": {
        "id": "ZRrO84wERLnB"
      }
    },
    {
      "cell_type": "markdown",
      "source": [
        "### Коэффициенты Пирсона и Спирмена\n"
      ],
      "metadata": {
        "id": "y5ZlRhr3Jsro"
      }
    },
    {
      "cell_type": "code",
      "source": [
        "pearson_ = df['mortality'].corr(df['hardness'], method='pearson')\n",
        "spearman_ = df['mortality'].corr( df['hardness'], method='spearman')\n",
        "\n",
        "print(f'Коээфициент Пирсона: {pearson_.round(2)}')\n",
        "print(f'Коээфициент Спирмена: {spearman_.round(2)}')"
      ],
      "metadata": {
        "colab": {
          "base_uri": "https://localhost:8080/"
        },
        "id": "3wO-inwAE1Lf",
        "outputId": "b073c8c9-b401-4734-eec0-8eaa90dd6285"
      },
      "execution_count": null,
      "outputs": [
        {
          "output_type": "stream",
          "name": "stdout",
          "text": [
            "Коээфициент Пирсона: -0.65\n",
            "Коээфициент Спирмена: -0.63\n"
          ]
        }
      ]
    },
    {
      "cell_type": "markdown",
      "source": [
        "### Построение модели линейной регрессии"
      ],
      "metadata": {
        "id": "SvKEPh7NJ_cq"
      }
    },
    {
      "cell_type": "code",
      "source": [
        "# Выделение признаков (features) и целевой метки (target)\n",
        "X = df.drop('mortality', axis=1)\n",
        "y = df['mortality']"
      ],
      "metadata": {
        "id": "4xznxrTELGPM"
      },
      "execution_count": null,
      "outputs": []
    },
    {
      "cell_type": "code",
      "source": [
        "# Применение One-hot coding для категориальных переменных\n",
        "X = pd.get_dummies(df.loc[:, ['location', 'town', 'hardness']])\n",
        "X.head()"
      ],
      "metadata": {
        "colab": {
          "base_uri": "https://localhost:8080/",
          "height": 317
        },
        "id": "4PNdAyXWNE6R",
        "outputId": "53bf9e06-73e4-4212-b229-5b9651bc2765"
      },
      "execution_count": null,
      "outputs": [
        {
          "output_type": "execute_result",
          "data": {
            "text/plain": [
              "   hardness  location_North  location_South  town_Bath  town_Birkenhead  \\\n",
              "0       105               0               1          1                0   \n",
              "1        17               1               0          0                1   \n",
              "2         5               0               1          0                0   \n",
              "3        14               1               0          0                0   \n",
              "4        18               1               0          0                0   \n",
              "\n",
              "   town_Birmingham  town_Blackburn  town_Blackpool  town_Bolton  town_Bootle  \\\n",
              "0                0               0               0            0            0   \n",
              "1                0               0               0            0            0   \n",
              "2                1               0               0            0            0   \n",
              "3                0               1               0            0            0   \n",
              "4                0               0               1            0            0   \n",
              "\n",
              "   ...  town_Stockport  town_Stoke  town_Sunderland  town_Swansea  \\\n",
              "0  ...               0           0                0             0   \n",
              "1  ...               0           0                0             0   \n",
              "2  ...               0           0                0             0   \n",
              "3  ...               0           0                0             0   \n",
              "4  ...               0           0                0             0   \n",
              "\n",
              "   town_Wallasey  town_Walsall  town_West Bromwich  town_West Ham  \\\n",
              "0              0             0                   0              0   \n",
              "1              0             0                   0              0   \n",
              "2              0             0                   0              0   \n",
              "3              0             0                   0              0   \n",
              "4              0             0                   0              0   \n",
              "\n",
              "   town_Wolverhampton  town_York  \n",
              "0                   0          0  \n",
              "1                   0          0  \n",
              "2                   0          0  \n",
              "3                   0          0  \n",
              "4                   0          0  \n",
              "\n",
              "[5 rows x 64 columns]"
            ],
            "text/html": [
              "\n",
              "  <div id=\"df-7938e90f-1a3c-4bb4-9c70-86079309f089\">\n",
              "    <div class=\"colab-df-container\">\n",
              "      <div>\n",
              "<style scoped>\n",
              "    .dataframe tbody tr th:only-of-type {\n",
              "        vertical-align: middle;\n",
              "    }\n",
              "\n",
              "    .dataframe tbody tr th {\n",
              "        vertical-align: top;\n",
              "    }\n",
              "\n",
              "    .dataframe thead th {\n",
              "        text-align: right;\n",
              "    }\n",
              "</style>\n",
              "<table border=\"1\" class=\"dataframe\">\n",
              "  <thead>\n",
              "    <tr style=\"text-align: right;\">\n",
              "      <th></th>\n",
              "      <th>hardness</th>\n",
              "      <th>location_North</th>\n",
              "      <th>location_South</th>\n",
              "      <th>town_Bath</th>\n",
              "      <th>town_Birkenhead</th>\n",
              "      <th>town_Birmingham</th>\n",
              "      <th>town_Blackburn</th>\n",
              "      <th>town_Blackpool</th>\n",
              "      <th>town_Bolton</th>\n",
              "      <th>town_Bootle</th>\n",
              "      <th>...</th>\n",
              "      <th>town_Stockport</th>\n",
              "      <th>town_Stoke</th>\n",
              "      <th>town_Sunderland</th>\n",
              "      <th>town_Swansea</th>\n",
              "      <th>town_Wallasey</th>\n",
              "      <th>town_Walsall</th>\n",
              "      <th>town_West Bromwich</th>\n",
              "      <th>town_West Ham</th>\n",
              "      <th>town_Wolverhampton</th>\n",
              "      <th>town_York</th>\n",
              "    </tr>\n",
              "  </thead>\n",
              "  <tbody>\n",
              "    <tr>\n",
              "      <th>0</th>\n",
              "      <td>105</td>\n",
              "      <td>0</td>\n",
              "      <td>1</td>\n",
              "      <td>1</td>\n",
              "      <td>0</td>\n",
              "      <td>0</td>\n",
              "      <td>0</td>\n",
              "      <td>0</td>\n",
              "      <td>0</td>\n",
              "      <td>0</td>\n",
              "      <td>...</td>\n",
              "      <td>0</td>\n",
              "      <td>0</td>\n",
              "      <td>0</td>\n",
              "      <td>0</td>\n",
              "      <td>0</td>\n",
              "      <td>0</td>\n",
              "      <td>0</td>\n",
              "      <td>0</td>\n",
              "      <td>0</td>\n",
              "      <td>0</td>\n",
              "    </tr>\n",
              "    <tr>\n",
              "      <th>1</th>\n",
              "      <td>17</td>\n",
              "      <td>1</td>\n",
              "      <td>0</td>\n",
              "      <td>0</td>\n",
              "      <td>1</td>\n",
              "      <td>0</td>\n",
              "      <td>0</td>\n",
              "      <td>0</td>\n",
              "      <td>0</td>\n",
              "      <td>0</td>\n",
              "      <td>...</td>\n",
              "      <td>0</td>\n",
              "      <td>0</td>\n",
              "      <td>0</td>\n",
              "      <td>0</td>\n",
              "      <td>0</td>\n",
              "      <td>0</td>\n",
              "      <td>0</td>\n",
              "      <td>0</td>\n",
              "      <td>0</td>\n",
              "      <td>0</td>\n",
              "    </tr>\n",
              "    <tr>\n",
              "      <th>2</th>\n",
              "      <td>5</td>\n",
              "      <td>0</td>\n",
              "      <td>1</td>\n",
              "      <td>0</td>\n",
              "      <td>0</td>\n",
              "      <td>1</td>\n",
              "      <td>0</td>\n",
              "      <td>0</td>\n",
              "      <td>0</td>\n",
              "      <td>0</td>\n",
              "      <td>...</td>\n",
              "      <td>0</td>\n",
              "      <td>0</td>\n",
              "      <td>0</td>\n",
              "      <td>0</td>\n",
              "      <td>0</td>\n",
              "      <td>0</td>\n",
              "      <td>0</td>\n",
              "      <td>0</td>\n",
              "      <td>0</td>\n",
              "      <td>0</td>\n",
              "    </tr>\n",
              "    <tr>\n",
              "      <th>3</th>\n",
              "      <td>14</td>\n",
              "      <td>1</td>\n",
              "      <td>0</td>\n",
              "      <td>0</td>\n",
              "      <td>0</td>\n",
              "      <td>0</td>\n",
              "      <td>1</td>\n",
              "      <td>0</td>\n",
              "      <td>0</td>\n",
              "      <td>0</td>\n",
              "      <td>...</td>\n",
              "      <td>0</td>\n",
              "      <td>0</td>\n",
              "      <td>0</td>\n",
              "      <td>0</td>\n",
              "      <td>0</td>\n",
              "      <td>0</td>\n",
              "      <td>0</td>\n",
              "      <td>0</td>\n",
              "      <td>0</td>\n",
              "      <td>0</td>\n",
              "    </tr>\n",
              "    <tr>\n",
              "      <th>4</th>\n",
              "      <td>18</td>\n",
              "      <td>1</td>\n",
              "      <td>0</td>\n",
              "      <td>0</td>\n",
              "      <td>0</td>\n",
              "      <td>0</td>\n",
              "      <td>0</td>\n",
              "      <td>1</td>\n",
              "      <td>0</td>\n",
              "      <td>0</td>\n",
              "      <td>...</td>\n",
              "      <td>0</td>\n",
              "      <td>0</td>\n",
              "      <td>0</td>\n",
              "      <td>0</td>\n",
              "      <td>0</td>\n",
              "      <td>0</td>\n",
              "      <td>0</td>\n",
              "      <td>0</td>\n",
              "      <td>0</td>\n",
              "      <td>0</td>\n",
              "    </tr>\n",
              "  </tbody>\n",
              "</table>\n",
              "<p>5 rows × 64 columns</p>\n",
              "</div>\n",
              "      <button class=\"colab-df-convert\" onclick=\"convertToInteractive('df-7938e90f-1a3c-4bb4-9c70-86079309f089')\"\n",
              "              title=\"Convert this dataframe to an interactive table.\"\n",
              "              style=\"display:none;\">\n",
              "        \n",
              "  <svg xmlns=\"http://www.w3.org/2000/svg\" height=\"24px\"viewBox=\"0 0 24 24\"\n",
              "       width=\"24px\">\n",
              "    <path d=\"M0 0h24v24H0V0z\" fill=\"none\"/>\n",
              "    <path d=\"M18.56 5.44l.94 2.06.94-2.06 2.06-.94-2.06-.94-.94-2.06-.94 2.06-2.06.94zm-11 1L8.5 8.5l.94-2.06 2.06-.94-2.06-.94L8.5 2.5l-.94 2.06-2.06.94zm10 10l.94 2.06.94-2.06 2.06-.94-2.06-.94-.94-2.06-.94 2.06-2.06.94z\"/><path d=\"M17.41 7.96l-1.37-1.37c-.4-.4-.92-.59-1.43-.59-.52 0-1.04.2-1.43.59L10.3 9.45l-7.72 7.72c-.78.78-.78 2.05 0 2.83L4 21.41c.39.39.9.59 1.41.59.51 0 1.02-.2 1.41-.59l7.78-7.78 2.81-2.81c.8-.78.8-2.07 0-2.86zM5.41 20L4 18.59l7.72-7.72 1.47 1.35L5.41 20z\"/>\n",
              "  </svg>\n",
              "      </button>\n",
              "      \n",
              "  <style>\n",
              "    .colab-df-container {\n",
              "      display:flex;\n",
              "      flex-wrap:wrap;\n",
              "      gap: 12px;\n",
              "    }\n",
              "\n",
              "    .colab-df-convert {\n",
              "      background-color: #E8F0FE;\n",
              "      border: none;\n",
              "      border-radius: 50%;\n",
              "      cursor: pointer;\n",
              "      display: none;\n",
              "      fill: #1967D2;\n",
              "      height: 32px;\n",
              "      padding: 0 0 0 0;\n",
              "      width: 32px;\n",
              "    }\n",
              "\n",
              "    .colab-df-convert:hover {\n",
              "      background-color: #E2EBFA;\n",
              "      box-shadow: 0px 1px 2px rgba(60, 64, 67, 0.3), 0px 1px 3px 1px rgba(60, 64, 67, 0.15);\n",
              "      fill: #174EA6;\n",
              "    }\n",
              "\n",
              "    [theme=dark] .colab-df-convert {\n",
              "      background-color: #3B4455;\n",
              "      fill: #D2E3FC;\n",
              "    }\n",
              "\n",
              "    [theme=dark] .colab-df-convert:hover {\n",
              "      background-color: #434B5C;\n",
              "      box-shadow: 0px 1px 3px 1px rgba(0, 0, 0, 0.15);\n",
              "      filter: drop-shadow(0px 1px 2px rgba(0, 0, 0, 0.3));\n",
              "      fill: #FFFFFF;\n",
              "    }\n",
              "  </style>\n",
              "\n",
              "      <script>\n",
              "        const buttonEl =\n",
              "          document.querySelector('#df-7938e90f-1a3c-4bb4-9c70-86079309f089 button.colab-df-convert');\n",
              "        buttonEl.style.display =\n",
              "          google.colab.kernel.accessAllowed ? 'block' : 'none';\n",
              "\n",
              "        async function convertToInteractive(key) {\n",
              "          const element = document.querySelector('#df-7938e90f-1a3c-4bb4-9c70-86079309f089');\n",
              "          const dataTable =\n",
              "            await google.colab.kernel.invokeFunction('convertToInteractive',\n",
              "                                                     [key], {});\n",
              "          if (!dataTable) return;\n",
              "\n",
              "          const docLinkHtml = 'Like what you see? Visit the ' +\n",
              "            '<a target=\"_blank\" href=https://colab.research.google.com/notebooks/data_table.ipynb>data table notebook</a>'\n",
              "            + ' to learn more about interactive tables.';\n",
              "          element.innerHTML = '';\n",
              "          dataTable['output_type'] = 'display_data';\n",
              "          await google.colab.output.renderOutput(dataTable, element);\n",
              "          const docLink = document.createElement('div');\n",
              "          docLink.innerHTML = docLinkHtml;\n",
              "          element.appendChild(docLink);\n",
              "        }\n",
              "      </script>\n",
              "    </div>\n",
              "  </div>\n",
              "  "
            ]
          },
          "metadata": {},
          "execution_count": 210
        }
      ]
    },
    {
      "cell_type": "code",
      "source": [
        "  #  Разбиение данных на тренировочный и валидационный датасет.\n",
        "  X_train, X_test, y_train, y_test = train_test_split(X, y, test_size = 0.25, random_state = 10)\n",
        "\n",
        "  print(f'Всего семплов: {X.shape[0]}. На тренировочную выборку отложено: {X_train.shape[0]} записей и на валидацию алгоритма: {X_test.shape[0]}')"
      ],
      "metadata": {
        "colab": {
          "base_uri": "https://localhost:8080/"
        },
        "id": "zzT0RdNUYq8L",
        "outputId": "317c1cef-1615-483c-83d1-03e4d6270a42"
      },
      "execution_count": null,
      "outputs": [
        {
          "output_type": "stream",
          "name": "stdout",
          "text": [
            "Всего семплов: 61. На тренировочную выборку отложено: 45 записей и на валидацию алгоритма: 16\n"
          ]
        }
      ]
    },
    {
      "cell_type": "code",
      "source": [
        "def model_linear_regression(X_train, X_test, y_train, y_test):\n",
        "\n",
        "  # инцилизация инстанса модели линейной регрессии\n",
        "  lr = LinearRegression()\n",
        "\n",
        "  # Обучение модели на X_train, y_train\n",
        "  lr.fit(X_train, y_train)\n",
        "\n",
        "  # Предсказание модели на отложенной тестовой выборке\n",
        "  y_pred = lr.predict(X_test)\n",
        "\n",
        "  # Ошибка модели MSE и RMSE:\n",
        "  mse = mean_squared_error(y_test, y_pred)\n",
        "  rmse = np.sqrt(mse)\n",
        "  print(f'mse: {mse}')\n",
        "  print(f'rmse: {rmse}')\n",
        "\n",
        "  # Коэффициент детерминации r2:\n",
        "  r2 = lr.score(X_test, y_test)\n",
        "  print(f'Коээфициент детерминации r2: {r2.round(2)}')\n",
        "\n",
        "  return y_pred"
      ],
      "metadata": {
        "id": "GzC9RfWhWbIp"
      },
      "execution_count": null,
      "outputs": []
    },
    {
      "cell_type": "code",
      "source": [
        "y_pred = model_linear_regression(X_train, X_test, y_train, y_test)"
      ],
      "metadata": {
        "colab": {
          "base_uri": "https://localhost:8080/"
        },
        "id": "7ZpNMgjbYE6C",
        "outputId": "0dc63b5b-7a89-415d-fac7-eaba3671024f"
      },
      "execution_count": null,
      "outputs": [
        {
          "output_type": "stream",
          "name": "stdout",
          "text": [
            "mse: 20319.434351488944\n",
            "rmse: 142.54625337583917\n",
            "Коээфициент детерминации r2: 0.57\n"
          ]
        }
      ]
    },
    {
      "cell_type": "code",
      "source": [
        "# Сравнение прогноза с фактом.\n",
        "pd.DataFrame({'Факт': y_test,\n",
        "              'Прогнозз': y_pred.round()\n",
        "             }).head()"
      ],
      "metadata": {
        "colab": {
          "base_uri": "https://localhost:8080/",
          "height": 206
        },
        "id": "n66AxD7-Sw4Y",
        "outputId": "f6325a73-92d1-4c69-de60-136916c85af7"
      },
      "execution_count": null,
      "outputs": [
        {
          "output_type": "execute_result",
          "data": {
            "text/plain": [
              "    Факт  Прогнозз\n",
              "20  1723    1598.0\n",
              "2   1466    1542.0\n",
              "26  1591    1658.0\n",
              "3   1800    1662.0\n",
              "6   1807    1660.0"
            ],
            "text/html": [
              "\n",
              "  <div id=\"df-f8042080-a5e0-44e0-8410-db4010a77883\">\n",
              "    <div class=\"colab-df-container\">\n",
              "      <div>\n",
              "<style scoped>\n",
              "    .dataframe tbody tr th:only-of-type {\n",
              "        vertical-align: middle;\n",
              "    }\n",
              "\n",
              "    .dataframe tbody tr th {\n",
              "        vertical-align: top;\n",
              "    }\n",
              "\n",
              "    .dataframe thead th {\n",
              "        text-align: right;\n",
              "    }\n",
              "</style>\n",
              "<table border=\"1\" class=\"dataframe\">\n",
              "  <thead>\n",
              "    <tr style=\"text-align: right;\">\n",
              "      <th></th>\n",
              "      <th>Факт</th>\n",
              "      <th>Прогнозз</th>\n",
              "    </tr>\n",
              "  </thead>\n",
              "  <tbody>\n",
              "    <tr>\n",
              "      <th>20</th>\n",
              "      <td>1723</td>\n",
              "      <td>1598.0</td>\n",
              "    </tr>\n",
              "    <tr>\n",
              "      <th>2</th>\n",
              "      <td>1466</td>\n",
              "      <td>1542.0</td>\n",
              "    </tr>\n",
              "    <tr>\n",
              "      <th>26</th>\n",
              "      <td>1591</td>\n",
              "      <td>1658.0</td>\n",
              "    </tr>\n",
              "    <tr>\n",
              "      <th>3</th>\n",
              "      <td>1800</td>\n",
              "      <td>1662.0</td>\n",
              "    </tr>\n",
              "    <tr>\n",
              "      <th>6</th>\n",
              "      <td>1807</td>\n",
              "      <td>1660.0</td>\n",
              "    </tr>\n",
              "  </tbody>\n",
              "</table>\n",
              "</div>\n",
              "      <button class=\"colab-df-convert\" onclick=\"convertToInteractive('df-f8042080-a5e0-44e0-8410-db4010a77883')\"\n",
              "              title=\"Convert this dataframe to an interactive table.\"\n",
              "              style=\"display:none;\">\n",
              "        \n",
              "  <svg xmlns=\"http://www.w3.org/2000/svg\" height=\"24px\"viewBox=\"0 0 24 24\"\n",
              "       width=\"24px\">\n",
              "    <path d=\"M0 0h24v24H0V0z\" fill=\"none\"/>\n",
              "    <path d=\"M18.56 5.44l.94 2.06.94-2.06 2.06-.94-2.06-.94-.94-2.06-.94 2.06-2.06.94zm-11 1L8.5 8.5l.94-2.06 2.06-.94-2.06-.94L8.5 2.5l-.94 2.06-2.06.94zm10 10l.94 2.06.94-2.06 2.06-.94-2.06-.94-.94-2.06-.94 2.06-2.06.94z\"/><path d=\"M17.41 7.96l-1.37-1.37c-.4-.4-.92-.59-1.43-.59-.52 0-1.04.2-1.43.59L10.3 9.45l-7.72 7.72c-.78.78-.78 2.05 0 2.83L4 21.41c.39.39.9.59 1.41.59.51 0 1.02-.2 1.41-.59l7.78-7.78 2.81-2.81c.8-.78.8-2.07 0-2.86zM5.41 20L4 18.59l7.72-7.72 1.47 1.35L5.41 20z\"/>\n",
              "  </svg>\n",
              "      </button>\n",
              "      \n",
              "  <style>\n",
              "    .colab-df-container {\n",
              "      display:flex;\n",
              "      flex-wrap:wrap;\n",
              "      gap: 12px;\n",
              "    }\n",
              "\n",
              "    .colab-df-convert {\n",
              "      background-color: #E8F0FE;\n",
              "      border: none;\n",
              "      border-radius: 50%;\n",
              "      cursor: pointer;\n",
              "      display: none;\n",
              "      fill: #1967D2;\n",
              "      height: 32px;\n",
              "      padding: 0 0 0 0;\n",
              "      width: 32px;\n",
              "    }\n",
              "\n",
              "    .colab-df-convert:hover {\n",
              "      background-color: #E2EBFA;\n",
              "      box-shadow: 0px 1px 2px rgba(60, 64, 67, 0.3), 0px 1px 3px 1px rgba(60, 64, 67, 0.15);\n",
              "      fill: #174EA6;\n",
              "    }\n",
              "\n",
              "    [theme=dark] .colab-df-convert {\n",
              "      background-color: #3B4455;\n",
              "      fill: #D2E3FC;\n",
              "    }\n",
              "\n",
              "    [theme=dark] .colab-df-convert:hover {\n",
              "      background-color: #434B5C;\n",
              "      box-shadow: 0px 1px 3px 1px rgba(0, 0, 0, 0.15);\n",
              "      filter: drop-shadow(0px 1px 2px rgba(0, 0, 0, 0.3));\n",
              "      fill: #FFFFFF;\n",
              "    }\n",
              "  </style>\n",
              "\n",
              "      <script>\n",
              "        const buttonEl =\n",
              "          document.querySelector('#df-f8042080-a5e0-44e0-8410-db4010a77883 button.colab-df-convert');\n",
              "        buttonEl.style.display =\n",
              "          google.colab.kernel.accessAllowed ? 'block' : 'none';\n",
              "\n",
              "        async function convertToInteractive(key) {\n",
              "          const element = document.querySelector('#df-f8042080-a5e0-44e0-8410-db4010a77883');\n",
              "          const dataTable =\n",
              "            await google.colab.kernel.invokeFunction('convertToInteractive',\n",
              "                                                     [key], {});\n",
              "          if (!dataTable) return;\n",
              "\n",
              "          const docLinkHtml = 'Like what you see? Visit the ' +\n",
              "            '<a target=\"_blank\" href=https://colab.research.google.com/notebooks/data_table.ipynb>data table notebook</a>'\n",
              "            + ' to learn more about interactive tables.';\n",
              "          element.innerHTML = '';\n",
              "          dataTable['output_type'] = 'display_data';\n",
              "          await google.colab.output.renderOutput(dataTable, element);\n",
              "          const docLink = document.createElement('div');\n",
              "          docLink.innerHTML = docLinkHtml;\n",
              "          element.appendChild(docLink);\n",
              "        }\n",
              "      </script>\n",
              "    </div>\n",
              "  </div>\n",
              "  "
            ]
          },
          "metadata": {},
          "execution_count": 214
        }
      ]
    },
    {
      "cell_type": "code",
      "source": [
        "# Визуализация попадания y_pred в y_test\n",
        "plt.scatter(y_test.index, y_test)\n",
        "plt.scatter(y_test.index, y_pred)\n",
        "plt.show()"
      ],
      "metadata": {
        "colab": {
          "base_uri": "https://localhost:8080/",
          "height": 265
        },
        "id": "6vm5ZVWyTPMS",
        "outputId": "bfb9e0a2-9137-4fc6-9491-70c9862c16e7"
      },
      "execution_count": null,
      "outputs": [
        {
          "output_type": "display_data",
          "data": {
            "text/plain": [
              "<Figure size 432x288 with 1 Axes>"
            ],
            "image/png": "[encoded data removed]"
          },
          "metadata": {
            "needs_background": "light"
          }
        }
      ]
    },
    {
      "cell_type": "code",
      "source": [
        "# Построение остатков\n",
        "residuals = y_test-y_pred\n",
        "plt.scatter(residuals, y_pred)\n",
        "plt.xlabel('Остатки')\n",
        "plt.ylabel('y_pred')\n",
        "plt.show()"
      ],
      "metadata": {
        "colab": {
          "base_uri": "https://localhost:8080/",
          "height": 279
        },
        "id": "-sh7EiIEQpaB",
        "outputId": "76510a77-823c-4e42-fc51-12122dc2028b"
      },
      "execution_count": null,
      "outputs": [
        {
          "output_type": "display_data",
          "data": {
            "text/plain": [
              "<Figure size 432x288 with 1 Axes>"
            ],
            "image/png": "[encoded data removed]"
          },
          "metadata": {
            "needs_background": "light"
          }
        }
      ]
    },
    {
      "cell_type": "markdown",
      "source": [
        "Из графика остатков видно, что отклонение y_test от y_pred находятся в диапазоне -300 до 300 и распределены без какой-либо закономерности."
      ],
      "metadata": {
        "id": "U8AqD0lyUzPp"
      }
    },
    {
      "cell_type": "markdown",
      "source": [
        "### Задание 2"
      ],
      "metadata": {
        "id": "JLT3fYeyQ4QB"
      }
    },
    {
      "cell_type": "markdown",
      "source": [
        "####2.1 Южные регионы"
      ],
      "metadata": {
        "id": "g7Zfy3tmdD2b"
      }
    },
    {
      "cell_type": "code",
      "source": [
        "south = df[df['location'] == 'South']\n",
        "south = south.drop('location', axis=1)\n",
        "\n",
        "pearson_south = south['mortality'].corr(south['hardness'], method='pearson')\n",
        "spearman_south = south['mortality'].corr(south['hardness'], method='spearman')\n",
        "\n",
        "print(f'Коээфициент Пирсона: {pearson_south.round(2)}')\n",
        "print(f'Коээфициент Спирмена: {spearman_south.round(2)}')"
      ],
      "metadata": {
        "colab": {
          "base_uri": "https://localhost:8080/"
        },
        "id": "JIqA-5d8Vzqy",
        "outputId": "36225196-99b7-45e5-de91-2ee4351a2eb1"
      },
      "execution_count": null,
      "outputs": [
        {
          "output_type": "stream",
          "name": "stdout",
          "text": [
            "Коээфициент Пирсона: -0.6\n",
            "Коээфициент Спирмена: -0.6\n"
          ]
        }
      ]
    },
    {
      "cell_type": "code",
      "source": [
        "# Подготовка данных и разбиение датасета на train и test\n",
        "X = south.drop('mortality', axis=1)\n",
        "y = south['mortality']\n",
        "\n",
        "X = pd.get_dummies(south.loc[:, ['town', 'hardness']])\n",
        "\n",
        "X_train, X_test, y_train, y_test = train_test_split(X, y, test_size = 0.3, random_state = 10)\n",
        "print(f'Всего семплов: {X.shape[0]}. На тренировочную выборку отложено: {X_train.shape[0]} записей и на валидацию алгоритма: {X_test.shape[0]}')"
      ],
      "metadata": {
        "colab": {
          "base_uri": "https://localhost:8080/"
        },
        "id": "VDvVLDlaKthY",
        "outputId": "f8a3c6b1-2054-49c6-af77-2f417d1aa9b9"
      },
      "execution_count": null,
      "outputs": [
        {
          "output_type": "stream",
          "name": "stdout",
          "text": [
            "Всего семплов: 26. На тренировочную выборку отложено: 18 записей и на валидацию алгоритма: 8\n"
          ]
        }
      ]
    },
    {
      "cell_type": "code",
      "source": [
        "# Оценка качества алгоритма\n",
        "y_pred_south = model_linear_regression(X_train, X_test, y_train, y_test)"
      ],
      "metadata": {
        "colab": {
          "base_uri": "https://localhost:8080/"
        },
        "id": "Brjj2NBlc4wK",
        "outputId": "6b9c126f-2cbf-48c1-fe46-391a7ec38bc2"
      },
      "execution_count": null,
      "outputs": [
        {
          "output_type": "stream",
          "name": "stdout",
          "text": [
            "mse: 7676.384672763932\n",
            "rmse: 87.61497972814884\n",
            "Коээфициент детерминации r2: 0.5\n"
          ]
        }
      ]
    },
    {
      "cell_type": "markdown",
      "source": [
        "####2.1 Северные регионы"
      ],
      "metadata": {
        "id": "Z_PtEZ8UdiLn"
      }
    },
    {
      "cell_type": "code",
      "source": [
        "north = df[df['location'] == 'North']\n",
        "north = df.drop('location', axis=1)\n",
        "\n",
        "pearson_north = north['mortality'].corr(north['hardness'], method='pearson')\n",
        "spearman_north = north['mortality'].corr(north['hardness'], method='spearman')\n",
        "\n",
        "print(f'Коээфициент Пирсона: {pearson_north.round(2)}')\n",
        "print(f'Коээфициент Спирмена: {spearman_north.round(2)}')"
      ],
      "metadata": {
        "colab": {
          "base_uri": "https://localhost:8080/"
        },
        "id": "3eIMk6sPdnS6",
        "outputId": "09b891de-578c-4999-d99e-e3d2eefc84df"
      },
      "execution_count": null,
      "outputs": [
        {
          "output_type": "stream",
          "name": "stdout",
          "text": [
            "Коээфициент Пирсона: -0.65\n",
            "Коээфициент Спирмена: -0.63\n"
          ]
        }
      ]
    },
    {
      "cell_type": "code",
      "source": [
        "X = north.drop('mortality', axis=1)\n",
        "y = north['mortality']\n",
        "\n",
        "X = pd.get_dummies(north.loc[:, ['town', 'hardness']])\n",
        "\n",
        "X_train, X_test, y_train, y_test = train_test_split(X, y, test_size = 0.25, random_state = 10)\n",
        "print(f'Всего семплов: {X.shape[0]}. На тренировочную выборку отложено: {X_train.shape[0]} записей и на валидацию алгоритма: {X_test.shape[0]}')"
      ],
      "metadata": {
        "colab": {
          "base_uri": "https://localhost:8080/"
        },
        "id": "KOmq1Y5OlNJL",
        "outputId": "6c1b1085-28ca-49bd-ab2c-c39363d09209"
      },
      "execution_count": null,
      "outputs": [
        {
          "output_type": "stream",
          "name": "stdout",
          "text": [
            "Всего семплов: 61. На тренировочную выборку отложено: 45 записей и на валидацию алгоритма: 16\n"
          ]
        }
      ]
    },
    {
      "cell_type": "code",
      "source": [
        "y_pred_north= model_linear_regression(X_train, X_test, y_train, y_test)"
      ],
      "metadata": {
        "colab": {
          "base_uri": "https://localhost:8080/"
        },
        "id": "gCG-z5WzllkT",
        "outputId": "eec6dfee-baaa-49fc-86c8-2aa87573a6b2"
      },
      "execution_count": null,
      "outputs": [
        {
          "output_type": "stream",
          "name": "stdout",
          "text": [
            "mse: 31102.385709725837\n",
            "rmse: 176.35868481513984\n",
            "Коээфициент детерминации r2: 0.34\n"
          ]
        }
      ]
    },
    {
      "cell_type": "markdown",
      "source": [
        "При разделении данных на южные и северные территории точность модели падает (r2_score, rmse). Вероятно, это связано с тем, что требуется больше данных для выявления закономерностей. В качестве улучшения r2_score рекомендуется собрать больше наблюдений по указанным регионам, либо попробовать применить кросс-валидацию."
      ],
      "metadata": {
        "id": "hGMR6jKcm1BL"
      }
    }
  ]
}