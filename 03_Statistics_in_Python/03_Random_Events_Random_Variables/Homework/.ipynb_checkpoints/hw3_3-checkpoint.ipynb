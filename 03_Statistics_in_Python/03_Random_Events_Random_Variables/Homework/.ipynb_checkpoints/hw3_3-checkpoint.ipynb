{
 "cells": [
  {
   "cell_type": "markdown",
   "metadata": {},
   "source": [
    "# Домашнее задание к лекции «Случайные события. Случайные величины»\n",
    "\n",
    "Вам предстоит смоделировать игру против лотерейного автомата типа “777”. \n",
    "\n",
    "## Правила игры\n",
    "\n",
    "1. Игрок платит 1 руб., после чего выпадает случайное целое число, равномерно распределенное от 0 до 999. \n",
    "2. При некоторых значениях числа игрок получает выигрыш.\n",
    "\n",
    "- 777: 200 руб.\n",
    "- 999: 100 руб.\n",
    "- 555: 50 руб.\n",
    "- 333: 15 руб.\n",
    "- 111: 10 руб.\n",
    "- *77: 5 руб.\n",
    "- **7: 3 руб.\n",
    "- *00: 2 руб.\n",
    "- **0: 1 руб.\n",
    "\n",
    "'*' - любая цифра\n",
    "\n",
    "## Вопросы:\n",
    "\n",
    "1. Выгодна ли игра игроку?\n",
    "2. Сколько в среднем приобретает или теряет игрок за одну игру?\n",
    "\n",
    "## Дополнительное задание повышенной сложности\n",
    "\n",
    "Теоретически рассчитать средний выигрыш (проигрыш) и сравнить с результатами моделирования.\n"
   ]
  },
  {
   "cell_type": "markdown",
   "metadata": {
    "id": "UpXO8-ju4bPu"
   },
   "source": [
    "# Основная часть задания"
   ]
  },
  {
   "cell_type": "markdown",
   "metadata": {
    "id": "cUfPZoF4pb9d"
   },
   "source": [
    "Смоделировать игру против лотерейного автомата типа “777”. Игрок платит 1 руб., после чего выпадает случайное целое число, равномерно распределенное от 0 до 999. При некоторых значениях числа игрок получает выигрыш.\n",
    "\n",
    "- 777: 200 руб.\n",
    "- 999: 100 руб.\n",
    "- 555: 50 руб.\n",
    "- 333: 15 руб.\n",
    "- 111: 10 руб.\n",
    "- *77: 5 руб.\n",
    "- **7: 3 руб.\n",
    "- *00: 2 руб.\n",
    "- **0: 1 руб.\n",
    "\n",
    "Вопросы:\n",
    "\n",
    "1. Выгодна ли игра игроку?\n",
    "2. Сколько в среднем приобретает или теряет игрок за одну игру?\n",
    "3. **Дополнительное задание повышенной сложности. **\n",
    "\n",
    "Теоретически рассчитать средний выигрыш (проигрыш) и сравнить с результатами моделирования\n",
    "\n",
    "– любая цифра"
   ]
  },
  {
   "cell_type": "code",
   "execution_count": null,
   "metadata": {
    "colab": {
     "base_uri": "https://localhost:8080/"
    },
    "id": "zQhGCT6WppeG",
    "outputId": "1af57e12-25ba-4cbb-fbf1-64d01a147892"
   },
   "outputs": [
    {
     "name": "stdout",
     "output_type": "stream",
     "text": [
      "Игра не выгодна. В среднем игрок теряет за одну игру -0.192556  усл.ед. (мат.ожидание)\n"
     ]
    }
   ],
   "source": [
    "import numpy as np\n",
    "\n",
    "trails = 1000000\n",
    "cost = 0\n",
    "prize = 0\n",
    "\n",
    "for i in range(trails):\n",
    "    rand_num = np.random.randint(0, 1000)\n",
    "    cost += 1\n",
    "\n",
    "    if rand_num == 777:\n",
    "        prize += 200\n",
    "    elif rand_num == 999:\n",
    "        prize += 100\n",
    "    elif rand_num == 555:\n",
    "        prize += 50\n",
    "    elif rand_num == 333:\n",
    "        prize += 15\n",
    "    elif rand_num == 111:\n",
    "        prize += 10\n",
    "    elif rand_num % 100 == 77:\n",
    "        prize += 5\n",
    "    elif rand_num % 10 == 7:\n",
    "        prize += 3\n",
    "    elif rand_num % 100 == 0:\n",
    "        prize += 2\n",
    "    elif rand_num % 10 == 0:\n",
    "        prize += 1\n",
    "\n",
    "# Проверим выгодна ли игра\n",
    "if prize <= cost:\n",
    "  print(f'Игра не выгодна. В среднем игрок теряет за одну игру {(prize - cost) / trails}  усл.ед. (мат.ожидание)')\n",
    "else:\n",
    "  print(f'Игра выгодна. В среднем игрок зарабатыавет за одну игру {(prize - cost) / trails} усл.ед. (мат.ожидание)')"
   ]
  },
  {
   "cell_type": "markdown",
   "metadata": {
    "id": "B9GGnZY64gpO"
   },
   "source": [
    "# Дополнительная часть задания"
   ]
  },
  {
   "cell_type": "code",
   "execution_count": null,
   "metadata": {
    "colab": {
     "base_uri": "https://localhost:8080/"
    },
    "id": "ARPl6gKpyV2W",
    "outputId": "ad2cd275-5e34-4d27-8aab-e782f5d679a9"
   },
   "outputs": [
    {
     "data": {
      "text/plain": [
       "-0.20000000000000007"
      ]
     },
     "execution_count": 35,
     "metadata": {},
     "output_type": "execute_result"
    }
   ],
   "source": [
    "expected_value = 1e-3*(200 + 100 + 50 + 15 + 10) + (9 * 1e-3) * 5 + (90 * 1e-3) * 3 + (10 *1e-3) * 2 + (90 * 1e-3)  - 1*1\n",
    "expected_value"
   ]
  },
  {
   "cell_type": "code",
   "execution_count": null,
   "metadata": {
    "colab": {
     "base_uri": "https://localhost:8080/"
    },
    "id": "oRk0Nb_Z1oE2",
    "outputId": "835226e8-cc9b-4922-829c-fcddb0b109fd"
   },
   "outputs": [
    {
     "data": {
      "text/plain": [
       "-0.192556"
      ]
     },
     "execution_count": 39,
     "metadata": {},
     "output_type": "execute_result"
    }
   ],
   "source": [
    "model_expected_value = (prize - cost) / trails\n",
    "model_expected_value"
   ]
  },
  {
   "cell_type": "code",
   "execution_count": null,
   "metadata": {
    "colab": {
     "base_uri": "https://localhost:8080/"
    },
    "id": "rPV5MzHA2EaG",
    "outputId": "31e43b24-3ca6-4f72-9d6b-b5960ce9a9f5"
   },
   "outputs": [
    {
     "data": {
      "text/plain": [
       "0.007444000000000062"
      ]
     },
     "execution_count": 41,
     "metadata": {},
     "output_type": "execute_result"
    }
   ],
   "source": [
    "delta = abs(expected_value - model_expected_value)\n",
    "delta"
   ]
  },
  {
   "cell_type": "code",
   "execution_count": null,
   "metadata": {
    "colab": {
     "base_uri": "https://localhost:8080/"
    },
    "id": "pDPj5uSC2zsn",
    "outputId": "aaa120c1-973e-4560-a8fc-d582dd6a9a67"
   },
   "outputs": [
    {
     "data": {
      "text/plain": [
       "3.865888364943215"
      ]
     },
     "execution_count": 44,
     "metadata": {},
     "output_type": "execute_result"
    }
   ],
   "source": [
    "procentage_delta = abs( (expected_value /  model_expected_value) - 1) * 100\n",
    "procentage_delta"
   ]
  },
  {
   "cell_type": "code",
   "execution_count": null,
   "metadata": {
    "colab": {
     "base_uri": "https://localhost:8080/"
    },
    "id": "Del1tKYg1_dH",
    "outputId": "8b2e5728-f604-4630-b20f-4f5e4f12b901"
   },
   "outputs": [
    {
     "name": "stdout",
     "output_type": "stream",
     "text": [
      "При 1,000,000 испытаний, погрешнность между теоретическим значением и моделным получилась в абсолютных единица: 0.0074; в относительных единицах: 3.87%\n"
     ]
    }
   ],
   "source": [
    "print(f'При {trails:,} испытаний, погрешнность между теоретическим значением и моделным получилась в абсолютных единица: {round(delta, 4)}; в относительных единицах: {round(procentage_delta, 2)}%')"
   ]
  }
 ],
 "metadata": {
  "colab": {
   "provenance": [],
   "toc_visible": true
  },
  "kernelspec": {
   "display_name": "Python 3 (ipykernel)",
   "language": "python",
   "name": "python3"
  },
  "language_info": {
   "codemirror_mode": {
    "name": "ipython",
    "version": 3
   },
   "file_extension": ".py",
   "mimetype": "text/x-python",
   "name": "python",
   "nbconvert_exporter": "python",
   "pygments_lexer": "ipython3",
   "version": "3.10.9"
  }
 },
 "nbformat": 4,
 "nbformat_minor": 1
}
