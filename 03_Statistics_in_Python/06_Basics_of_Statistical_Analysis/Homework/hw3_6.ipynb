{
  "nbformat": 4,
  "nbformat_minor": 0,
  "metadata": {
    "colab": {
      "provenance": []
    },
    "kernelspec": {
      "name": "python3",
      "display_name": "Python 3"
    },
    "language_info": {
      "name": "python"
    }
  },
  "cells": [
    {
      "cell_type": "code",
      "source": [
        "import numpy as np\n",
        "import pandas as pd\n",
        "import matplotlib.pyplot as plt\n",
        "\n",
        "import scipy.stats as stats"
      ],
      "metadata": {
        "id": "1ogaNVTqDfuz"
      },
      "execution_count": null,
      "outputs": []
    },
    {
      "cell_type": "markdown",
      "source": [
        "<div class=\"alert alert-info\">\n",
        "<b>Задание № 0</b>\n",
        "\n",
        "Найдите минимально необходимый объем выборки для построения интервальной оценки среднего.\n",
        "\n",
        "- желаемая точность $\\Delta$ = 3;\n",
        "- дисперсия $\\sigma^2$  = 225;\n",
        "- уровень доверия $\\beta$ = 0.95.\n",
        "    \n",
        "Ответ округлите до целого\n",
        "</div>"
      ],
      "metadata": {
        "id": "AGv2X8TkTHpJ"
      }
    },
    {
      "cell_type": "code",
      "source": [
        "delta = 3\n",
        "variation = 225\n",
        "standard_deviation = variation ** 0.5\n",
        "beta = 0.95\n",
        "alpha = 1 - beta # alpha = 0.05 - уровень значимости, обратная величина от уровня доверия."
      ],
      "metadata": {
        "id": "ksca5WVQJkka"
      },
      "execution_count": null,
      "outputs": []
    },
    {
      "cell_type": "code",
      "source": [
        "level = 1 - alpha / 2\n",
        "level"
      ],
      "metadata": {
        "colab": {
          "base_uri": "https://localhost:8080/"
        },
        "id": "wI8hnxucJl5_",
        "outputId": "bf06370e-034d-4dc2-fec7-23ab944897da"
      },
      "execution_count": null,
      "outputs": [
        {
          "output_type": "execute_result",
          "data": {
            "text/plain": [
              "0.975"
            ]
          },
          "metadata": {},
          "execution_count": 18
        }
      ]
    },
    {
      "cell_type": "code",
      "source": [
        "import scipy.stats as st\n",
        "Zalpha = round(st.norm.ppf(0.975 ), 2) # Одностороннее табличное значение для уровня = 0.0975\n",
        "Zalpha"
      ],
      "metadata": {
        "colab": {
          "base_uri": "https://localhost:8080/"
        },
        "id": "CNUVhFjlJ2Ig",
        "outputId": "72306433-3910-4850-e131-05a75263c578"
      },
      "execution_count": null,
      "outputs": [
        {
          "output_type": "execute_result",
          "data": {
            "text/plain": [
              "1.96"
            ]
          },
          "metadata": {},
          "execution_count": 23
        }
      ]
    },
    {
      "cell_type": "code",
      "source": [
        "n = int(((standard_deviation * Zalpha) / delta )**2)\n",
        "print(f' Минимальная выборка должна состоять из {n} семплов для построения интервальной оценки среднего')\n"
      ],
      "metadata": {
        "colab": {
          "base_uri": "https://localhost:8080/"
        },
        "id": "zjnZc3u-HAwt",
        "outputId": "7b31c886-02e5-4137-b33c-7b77753f7c1a"
      },
      "execution_count": null,
      "outputs": [
        {
          "output_type": "stream",
          "name": "stdout",
          "text": [
            " Минимальная выборка должна состоять из 96 семплов для построения интервальной оценки среднего\n"
          ]
        }
      ]
    },
    {
      "cell_type": "markdown",
      "source": [
        "<div class=\"alert alert-info\">\n",
        "<b>Задание № 1</b>\n",
        "\n",
        "Постройте `98% доверительный интервал` для среднего значения, если известно, что\n",
        "\n",
        "- объем выборки n = 25;\n",
        "- среднее значение по выборке $\\overline x$ = 130;\n",
        "- Из достоверных источников известно стандартное отклонение $\\sigma = 15$.\n",
        "    \n",
        "В ответ укажите длину полученного доверительного интервала (разницу между правым и левым концом), окруленную до целого\n",
        "</div>"
      ],
      "metadata": {
        "id": "fl_ZJ5ztUUmY"
      }
    },
    {
      "cell_type": "code",
      "source": [
        "def len_confidentatil_interval(n, mean_value, sigma, z):\n",
        "    \"\"\"\n",
        "    Функция рассчитывает длину доверительного интервала (разницу между правым и левым концом), окруленную до целого.\n",
        "    На вход функция принимает следующие параметры:\n",
        "\n",
        "    n - размер выборки\n",
        "    mean_value - ср.зн. количественного признака\n",
        "    sigma - стандартное отклонение выборки\n",
        "    z - квантиль нормального распределения\n",
        "    \"\"\"\n",
        "    se = sigma / n ** 0.5  # Стандартная ошибка среднего\n",
        "\n",
        "    left_bound = mean_value - z * se\n",
        "    right_bound =  mean_value + z * se\n",
        "\n",
        "    len_ci = round(right_bound - left_bound)\n",
        "\n",
        "    print(f'Нижняя граница интервала: {left_bound}, верхняя граница: {right_bound}')\n",
        "    print(f'Длина полученого интервала (разница между правым и леваым концом): {int(len_ci)} ед.')\n"
      ],
      "metadata": {
        "id": "gd5uThKLUWCA"
      },
      "execution_count": null,
      "outputs": []
    },
    {
      "cell_type": "code",
      "source": [
        "n = 25\n",
        "mean_value = 130\n",
        "sigma = 15\n",
        "alpha = 0.02\n",
        "level  = 1 - alpha / 2\n",
        "Zalpha = round(st.norm.ppf(level), 2)\n",
        "Zalpha"
      ],
      "metadata": {
        "colab": {
          "base_uri": "https://localhost:8080/"
        },
        "id": "H4LILMU3RUab",
        "outputId": "424967bf-932c-43b6-cd89-afcdd771c66c"
      },
      "execution_count": null,
      "outputs": [
        {
          "output_type": "execute_result",
          "data": {
            "text/plain": [
              "2.33"
            ]
          },
          "metadata": {},
          "execution_count": 55
        }
      ]
    },
    {
      "cell_type": "code",
      "source": [
        "len_confidentatil_interval(n, mean_value, sigma, Zalpha)"
      ],
      "metadata": {
        "colab": {
          "base_uri": "https://localhost:8080/"
        },
        "id": "ab6n9D1qUkhC",
        "outputId": "ded8a079-3e77-469f-e226-0cd4141eb534"
      },
      "execution_count": null,
      "outputs": [
        {
          "output_type": "stream",
          "name": "stdout",
          "text": [
            "Нижняя граница интервала: 123.01, верхняя граница: 136.99\n",
            "Длина полученого интервала (разница между правым и леваым концом): 14 ед.\n"
          ]
        }
      ]
    },
    {
      "cell_type": "markdown",
      "source": [
        "<div class=\"alert alert-info\">\n",
        "<b>Задание № 2</b>\n",
        "\n",
        "Даны две выборки роста мужчин и женщин.\n",
        "- Докажите, используя `t-Тест Стьдента`, что различие между выборками незначительно, если уровень значимости равен $\\alpha$ `= 0.001`.\n",
        "- Покажите различия визуально\n",
        "</div>"
      ],
      "metadata": {
        "id": "TzU6shIDBdxj"
      }
    },
    {
      "cell_type": "markdown",
      "source": [
        "Сформируем гипотезы:\n",
        "\n",
        "H0: средний рост у мужчин и женщин одинаковый\n",
        "\n",
        "H1: средний рост между мужчинами и женщинами различается"
      ],
      "metadata": {
        "id": "qna3G7B6-axU"
      }
    },
    {
      "cell_type": "markdown",
      "source": [
        "Здесь нам уже нужен двухвыборочный двухсторонний критерий.\n",
        "\n",
        "По условию задания alpha принимаем 0.001"
      ],
      "metadata": {
        "id": "diIvAFcS_Y-5"
      }
    },
    {
      "cell_type": "code",
      "source": [
        "\n",
        "np.random.seed(42) #фиксация случайности\n",
        "\n",
        "mens  = stats.norm.rvs(loc=171, scale=100, size=150000)  # Выборка мужчин со средним ростом 171\n",
        "womens = stats.norm.rvs(loc=170, scale=100, size=150000)  # Выборка женщин со средним ростом 170\n",
        "#В двух строчках выше генерируется две выбороки, где loc это среднее значение, а scale это дисперсия\n",
        "\n",
        "# Принменяю T-test для несвязанных выборок\n",
        "\n",
        "t, p_value = stats.ttest_ind(mens, womens, equal_var=False) # Ставлю поправку на случай, если дисперсии не равны. Даже если они равны это никак не ухудшить результат (об этом рассказывал Олег Бульгин)\n",
        "t, p_value\n",
        "\n",
        "alpha = 0.001\n",
        "\n",
        "if (p_value < alpha):\n",
        "    print(f'p-value:{round(p_value, 5)} vs alpha: {alpha}')\n",
        "    print('-------------------------------')\n",
        "    print(f'Мы получили p-value < alpha и, таким образом, мы отклоняем нулевую гипотезу, то есть, средние значения роста между мужчинами и женщинами различаются и это различие статистически значимо на уровне значимости alpha = 0.001')\n",
        "else:\n",
        "    print('Не отвергаем нулевую гипотезу')\n"
      ],
      "metadata": {
        "colab": {
          "base_uri": "https://localhost:8080/"
        },
        "id": "L0f75cvoBps0",
        "outputId": "17f70ca0-e86a-4376-ae42-abfac6e6ad66"
      },
      "execution_count": null,
      "outputs": [
        {
          "output_type": "stream",
          "name": "stdout",
          "text": [
            "p-value:0.00025 vs alpha: 0.001\n",
            "-------------------------------\n",
            "Мы получили p-value < alpha и, таким образом, мы отклоняем нулевую гипотезу, то есть, средние значения роста между мужчинами и женщинами различаются и это различие статистически значимо на уровне значимости alpha = 0.001\n"
          ]
        }
      ]
    },
    {
      "cell_type": "code",
      "source": [
        "# plt.figure(figsize=(12, 7))\n",
        "plt.hist(mens, bins=25);\n",
        "plt.hist(womens, bins=25);"
      ],
      "metadata": {
        "colab": {
          "base_uri": "https://localhost:8080/",
          "height": 265
        },
        "id": "L1Q2U2XLTUXx",
        "outputId": "67c96645-5d5f-46a2-fc67-cecbd150ac74"
      },
      "execution_count": null,
      "outputs": [
        {
          "output_type": "display_data",
          "data": {
            "text/plain": [
              "<Figure size 432x288 with 1 Axes>"
            ],
            "image/png": "[encoded data removed]"
          },
          "metadata": {
            "needs_background": "light"
          }
        }
      ]
    },
    {
      "cell_type": "markdown",
      "source": [
        "### <b>Задание № 3</b>\n",
        "Определите объем необходимой выборки для исследования среднего чека за кофе в случайном городе, если известно, что в этом городе стандартное отклонение = 150, уровень доверия = 95%. Погрешность 50 рублей."
      ],
      "metadata": {
        "id": "brL_24vLEaNV"
      }
    },
    {
      "cell_type": "markdown",
      "source": [
        "<div class=\"alert alert-info\">\n",
        "<b>Задание № 3</b>\n",
        "\n",
        "Определите объем необходимой выборки для исследования среднего чека за кофе в случайном городе если известно, что в этом городе:\n",
        "\n",
        "- стандартное отклонение $\\sigma = 150$;\n",
        "- уровень доверия $\\beta$  = 95%;\n",
        "- Погрешность $\\Delta = 50$ рублей.\n",
        "</div>"
      ],
      "metadata": {
        "id": "Nk9kDJMMErWj"
      }
    },
    {
      "cell_type": "code",
      "source": [
        "delta = 50\n",
        "sigma = 150\n",
        "beta = 0.95\n",
        "alpha = (1-beta) # alpha урровень значимости - обратная величина от уровня доверия.\n",
        "z = 1.96  #  %   # Квантиль нормального распределения для уровня значимости alpha = 0.05\n",
        "\n",
        "n = round(((sigma * z) / delta )**2)\n",
        "print(f' Минимальная выборка должна состоять из {n} семплов')"
      ],
      "metadata": {
        "colab": {
          "base_uri": "https://localhost:8080/"
        },
        "id": "7zVfA2zDE9hu",
        "outputId": "37493425-b826-4980-b807-006e89c4078e"
      },
      "execution_count": null,
      "outputs": [
        {
          "output_type": "stream",
          "name": "stdout",
          "text": [
            " Минимальная выборка должна состоять из 35 семплов\n"
          ]
        }
      ]
    },
    {
      "cell_type": "markdown",
      "source": [
        "<div class=\"alert alert-info\">\n",
        "<b>Задание № 4</b>\n",
        "\n",
        "Представьте, что вы хотите разоблачить \"волшебника\" который считает, что умеет предсказывать погоду на завтра, отвечая просто: дождь или солнце. Вы пронаблюдали за ответами \"волшебника\" в течении какого-то периода времени и получили некие результаты (см.ниже).\n",
        "\n",
        "Можно ли сказать, что маг действительно умеет предсказывать погоду? Уровень значимости принять за `0.05` ($\\alpha=0.05$).\n",
        "</div>"
      ],
      "metadata": {
        "id": "o4mV8FBrGOO0"
      }
    },
    {
      "cell_type": "code",
      "source": [
        "observations = pd.DataFrame([[10, 15],[39, 34]],\n",
        "                            index=['Дождь','Солнце'],\n",
        "                            columns=['Верные ответы волшебника','Неверные ответы'])\n",
        "observations"
      ],
      "metadata": {
        "colab": {
          "base_uri": "https://localhost:8080/",
          "height": 112
        },
        "id": "h-PgHqTIUMtO",
        "outputId": "a7939a23-ad9e-46b2-f88b-0a90a90c9ee7"
      },
      "execution_count": null,
      "outputs": [
        {
          "output_type": "execute_result",
          "data": {
            "text/plain": [
              "        Верные ответы волшебника  Неверные ответы\n",
              "Дождь                         10               15\n",
              "Солнце                        39               34"
            ],
            "text/html": [
              "\n",
              "  <div id=\"df-06896fa1-8fb1-42dc-a40f-73f2d6fb7def\">\n",
              "    <div class=\"colab-df-container\">\n",
              "      <div>\n",
              "<style scoped>\n",
              "    .dataframe tbody tr th:only-of-type {\n",
              "        vertical-align: middle;\n",
              "    }\n",
              "\n",
              "    .dataframe tbody tr th {\n",
              "        vertical-align: top;\n",
              "    }\n",
              "\n",
              "    .dataframe thead th {\n",
              "        text-align: right;\n",
              "    }\n",
              "</style>\n",
              "<table border=\"1\" class=\"dataframe\">\n",
              "  <thead>\n",
              "    <tr style=\"text-align: right;\">\n",
              "      <th></th>\n",
              "      <th>Верные ответы волшебника</th>\n",
              "      <th>Неверные ответы</th>\n",
              "    </tr>\n",
              "  </thead>\n",
              "  <tbody>\n",
              "    <tr>\n",
              "      <th>Дождь</th>\n",
              "      <td>10</td>\n",
              "      <td>15</td>\n",
              "    </tr>\n",
              "    <tr>\n",
              "      <th>Солнце</th>\n",
              "      <td>39</td>\n",
              "      <td>34</td>\n",
              "    </tr>\n",
              "  </tbody>\n",
              "</table>\n",
              "</div>\n",
              "      <button class=\"colab-df-convert\" onclick=\"convertToInteractive('df-06896fa1-8fb1-42dc-a40f-73f2d6fb7def')\"\n",
              "              title=\"Convert this dataframe to an interactive table.\"\n",
              "              style=\"display:none;\">\n",
              "        \n",
              "  <svg xmlns=\"http://www.w3.org/2000/svg\" height=\"24px\"viewBox=\"0 0 24 24\"\n",
              "       width=\"24px\">\n",
              "    <path d=\"M0 0h24v24H0V0z\" fill=\"none\"/>\n",
              "    <path d=\"M18.56 5.44l.94 2.06.94-2.06 2.06-.94-2.06-.94-.94-2.06-.94 2.06-2.06.94zm-11 1L8.5 8.5l.94-2.06 2.06-.94-2.06-.94L8.5 2.5l-.94 2.06-2.06.94zm10 10l.94 2.06.94-2.06 2.06-.94-2.06-.94-.94-2.06-.94 2.06-2.06.94z\"/><path d=\"M17.41 7.96l-1.37-1.37c-.4-.4-.92-.59-1.43-.59-.52 0-1.04.2-1.43.59L10.3 9.45l-7.72 7.72c-.78.78-.78 2.05 0 2.83L4 21.41c.39.39.9.59 1.41.59.51 0 1.02-.2 1.41-.59l7.78-7.78 2.81-2.81c.8-.78.8-2.07 0-2.86zM5.41 20L4 18.59l7.72-7.72 1.47 1.35L5.41 20z\"/>\n",
              "  </svg>\n",
              "      </button>\n",
              "      \n",
              "  <style>\n",
              "    .colab-df-container {\n",
              "      display:flex;\n",
              "      flex-wrap:wrap;\n",
              "      gap: 12px;\n",
              "    }\n",
              "\n",
              "    .colab-df-convert {\n",
              "      background-color: #E8F0FE;\n",
              "      border: none;\n",
              "      border-radius: 50%;\n",
              "      cursor: pointer;\n",
              "      display: none;\n",
              "      fill: #1967D2;\n",
              "      height: 32px;\n",
              "      padding: 0 0 0 0;\n",
              "      width: 32px;\n",
              "    }\n",
              "\n",
              "    .colab-df-convert:hover {\n",
              "      background-color: #E2EBFA;\n",
              "      box-shadow: 0px 1px 2px rgba(60, 64, 67, 0.3), 0px 1px 3px 1px rgba(60, 64, 67, 0.15);\n",
              "      fill: #174EA6;\n",
              "    }\n",
              "\n",
              "    [theme=dark] .colab-df-convert {\n",
              "      background-color: #3B4455;\n",
              "      fill: #D2E3FC;\n",
              "    }\n",
              "\n",
              "    [theme=dark] .colab-df-convert:hover {\n",
              "      background-color: #434B5C;\n",
              "      box-shadow: 0px 1px 3px 1px rgba(0, 0, 0, 0.15);\n",
              "      filter: drop-shadow(0px 1px 2px rgba(0, 0, 0, 0.3));\n",
              "      fill: #FFFFFF;\n",
              "    }\n",
              "  </style>\n",
              "\n",
              "      <script>\n",
              "        const buttonEl =\n",
              "          document.querySelector('#df-06896fa1-8fb1-42dc-a40f-73f2d6fb7def button.colab-df-convert');\n",
              "        buttonEl.style.display =\n",
              "          google.colab.kernel.accessAllowed ? 'block' : 'none';\n",
              "\n",
              "        async function convertToInteractive(key) {\n",
              "          const element = document.querySelector('#df-06896fa1-8fb1-42dc-a40f-73f2d6fb7def');\n",
              "          const dataTable =\n",
              "            await google.colab.kernel.invokeFunction('convertToInteractive',\n",
              "                                                     [key], {});\n",
              "          if (!dataTable) return;\n",
              "\n",
              "          const docLinkHtml = 'Like what you see? Visit the ' +\n",
              "            '<a target=\"_blank\" href=https://colab.research.google.com/notebooks/data_table.ipynb>data table notebook</a>'\n",
              "            + ' to learn more about interactive tables.';\n",
              "          element.innerHTML = '';\n",
              "          dataTable['output_type'] = 'display_data';\n",
              "          await google.colab.output.renderOutput(dataTable, element);\n",
              "          const docLink = document.createElement('div');\n",
              "          docLink.innerHTML = docLinkHtml;\n",
              "          element.appendChild(docLink);\n",
              "        }\n",
              "      </script>\n",
              "    </div>\n",
              "  </div>\n",
              "  "
            ]
          },
          "metadata": {},
          "execution_count": 62
        }
      ]
    },
    {
      "cell_type": "markdown",
      "source": [
        "Выдвинем гипотезы:\n",
        "\n",
        "H0: Отсутствуют статистически значимые отличия между двумя группами\n",
        "H1: Наблюдаются статистически значимые различия в сторону правилных ответов волшебника (односторонний критерий)."
      ],
      "metadata": {
        "id": "7JqVnO9GWN0U"
      }
    },
    {
      "cell_type": "code",
      "source": [
        "import scipy as spy\n",
        "\n",
        "\n",
        "oddsratio, pvalue = spy.stats.fisher_exact(observations)\n",
        "\n",
        "oddsratio, pvalue"
      ],
      "metadata": {
        "colab": {
          "base_uri": "https://localhost:8080/"
        },
        "id": "t5lb-7CSU84c",
        "outputId": "ce9c473c-979f-45f9-c715-82eb990bdfb1"
      },
      "execution_count": null,
      "outputs": [
        {
          "output_type": "execute_result",
          "data": {
            "text/plain": [
              "(0.5811965811965812, 0.35417955365927367)"
            ]
          },
          "metadata": {},
          "execution_count": 63
        }
      ]
    },
    {
      "cell_type": "markdown",
      "source": [
        "В данном случае P-value > 0.05 , в связи с чем мы принимаем нулевую гипотезу и делаем вывод об отсутствии статистически значимых различиях в пользу того, что маг умеет предсказывать погоду с уровнем значимости alpha = 5%.\n",
        "\n",
        "\n",
        "\n"
      ],
      "metadata": {
        "id": "hbtntf0SYCIE"
      }
    },
    {
      "cell_type": "markdown",
      "source": [
        "<div class=\"alert alert-info\">\n",
        "<b>Задание № 5</b>\n",
        "\n",
        "Используя функцию mean_confidence_interval(data, confidence), постройте доверительный интервал с уровнем доверия $\\beta = 90\\%$ для выборки:\n",
        "\n",
        "</div>"
      ],
      "metadata": {
        "id": "O1GraKz8Zfpi"
      }
    },
    {
      "cell_type": "code",
      "source": [
        "import math\n",
        "data = [4,5,8,9,6,7,5,6,7,8,5,6,7,0,9,8,4,6,\n",
        "        7,9,8,6,5,7,8,9,6,7,5,8,6,7,9,5,10]\n",
        "\n",
        "\n",
        "def mean_confidence_interval(data, confidence=0.90):\n",
        "    avg = np.mean(data)\n",
        "    std =  np.std(data, ddof = 1) #\n",
        "    Zalpha = stats.norm.ppf((1 + confidence) / 2)\n",
        "\n",
        "    delta = std * Zalpha / len(data)**0.5\n",
        "\n",
        "    return round(avg - delta, 2), round(avg + delta, 2)\n",
        "\n",
        "print('Доверительный интервал c уровнем доверия beta = 0.9:', mean_confidence_interval(data, 0.90))"
      ],
      "metadata": {
        "colab": {
          "base_uri": "https://localhost:8080/"
        },
        "id": "cZBC9N0XZrnB",
        "outputId": "9d2b09c3-e7d9-4f42-95f0-bd50e61b5c4d"
      },
      "execution_count": null,
      "outputs": [
        {
          "output_type": "stream",
          "name": "stdout",
          "text": [
            "Доверительный интервал c уровнем доверия beta = 0.9: (6.09, 7.17)\n"
          ]
        }
      ]
    },
    {
      "cell_type": "markdown",
      "source": [
        "Задание № 6\n",
        "Принадлежат ли выборки A и B одному множеству?\n",
        "\n",
        "Оцените это с помощью известных вам тестов для проверок статистических гипотез;\n",
        "Покажите различия визуально."
      ],
      "metadata": {
        "id": "aB81fUID8ExK"
      }
    },
    {
      "cell_type": "code",
      "source": [
        "A = [4,5,8,9,6,7,5,6,7,6,8,5,6,7,8,4,\n",
        "    6,7,9,8,6,5,7,8,6,7,5,6,8,6,7,5,\n",
        "    4,5,8,9,6,7,5,6,7,6,8,5,6,7,8,4,\n",
        "    6,7,9,8,6,5,7,8,6,7,5,6,8,6,7,5,\n",
        "    4,5,8,9,6,7,5,6,7,6,8,5,6,7,8,4,\n",
        "    6,7,9,8,6,5,7,8,6,7,5,6,8,6,7,5,\n",
        "    4,5,8,9,6,7,5,6,7,6,8,5,6,7,8,4]\n",
        "\n",
        "B = [5,6,7,8,4,6,7,2,6,5,7,5,3,5,3,\n",
        "    5,3,5,5,8,7,6,4,5,3,5,4,6,4,5,3,\n",
        "    2,6,4,3,5,4,3,4,5,4,3,4,5,4,3,4,\n",
        "    2,6,4,3,5,4,3,4,5,4,3,4,5,4,3,4,\n",
        "    3,4,4,1,2,4,3,2,4,3,2,1,5,3,4,6,\n",
        "    3,2,4,5,6,4,3,3,5,3,4,4,4,2,5,3]\n",
        "\n"
      ],
      "metadata": {
        "id": "PzojO1Bd8L2t"
      },
      "execution_count": null,
      "outputs": []
    },
    {
      "cell_type": "markdown",
      "source": [
        "Когда отправлял задание, этот код еще был не дописан, поэтому в ЛК я задал вопрос. В любом случае интересно какие еще есть подходы для решения данной задачи? :)"
      ],
      "metadata": {
        "id": "pmiRkEUb8jRu"
      }
    },
    {
      "cell_type": "markdown",
      "source": [
        "Решение 1.\n",
        "\n",
        "Пробую применить алгоритм, который считает частоты значений в обеих выборках, а потом сравниваю эти частоты с помощью критерия Хи-квадрат.  "
      ],
      "metadata": {
        "id": "nk-RxjWK5uUm"
      }
    },
    {
      "cell_type": "code",
      "source": [
        "# Оценим объем обеих выборок\n",
        "\n",
        "len_A = len(A)\n",
        "len_B = len(B)\n",
        "\n",
        "print(f' Кол-во семплов в A: {len_A}')\n",
        "print(f' Кол-во семплов в B: {len_B}')"
      ],
      "metadata": {
        "colab": {
          "base_uri": "https://localhost:8080/"
        },
        "id": "dBTdkWhdyJTk",
        "outputId": "ca6df366-601b-41b4-c8f7-1f5add99a8d6"
      },
      "execution_count": null,
      "outputs": [
        {
          "output_type": "stream",
          "name": "stdout",
          "text": [
            " Кол-во семплов в A: 112\n",
            " Кол-во семплов в B: 95\n"
          ]
        }
      ]
    },
    {
      "cell_type": "code",
      "source": [
        "# Приведем объем выборок к одному размеру. Отберем из выборки А слуайным образом столько элементов, сколько и выборке B.\n",
        "\n",
        "A = np.random.choice(A, len(B))\n",
        "\n",
        "len_A = len(A)\n",
        "len_B = len(B)\n",
        "\n",
        "print(f' Кол-во семплов в A: {len_A}')\n",
        "print(f' Кол-во семплов в B: {len_B}')"
      ],
      "metadata": {
        "colab": {
          "base_uri": "https://localhost:8080/"
        },
        "id": "l5GL1pQayRER",
        "outputId": "3438bb2b-b724-48bf-b870-4d179be60098"
      },
      "execution_count": null,
      "outputs": [
        {
          "output_type": "stream",
          "name": "stdout",
          "text": [
            " Кол-во семплов в A: 95\n",
            " Кол-во семплов в B: 95\n"
          ]
        }
      ]
    },
    {
      "cell_type": "code",
      "source": [
        "# Считаю частотность вхождения каждой цифры в выборку A и B\n",
        "\n",
        "d_a = {}\n",
        "d_b = {}\n",
        "\n",
        "for item in A:\n",
        "  if item in d_a:\n",
        "    d_a[item] = d_a.get(item) + 1\n",
        "  else:\n",
        "    d_a[item] = 1\n",
        "\n",
        "for item in B:\n",
        "  if item in d_b:\n",
        "    d_b[item] = d_b.get(item) + 1\n",
        "  else:\n",
        "    d_b[item] = 1\n",
        "\n",
        "print(d_a)\n",
        "print(d_b)\n"
      ],
      "metadata": {
        "colab": {
          "base_uri": "https://localhost:8080/"
        },
        "id": "zDS_F7r4ixKy",
        "outputId": "60f4ab39-555c-44ae-feca-0188c2418174"
      },
      "execution_count": null,
      "outputs": [
        {
          "output_type": "stream",
          "name": "stdout",
          "text": [
            "{7: 20, 5: 16, 6: 25, 9: 6, 8: 21, 4: 7}\n",
            "{5: 20, 6: 9, 7: 4, 8: 2, 4: 28, 2: 8, 3: 22, 1: 2}\n"
          ]
        }
      ]
    },
    {
      "cell_type": "code",
      "source": [
        "# Формирую единый датафрейм с значениями и соответствующими частотами по выборке А и B\n",
        "\n",
        "df1 = pd.DataFrame(d_a, index=[0]).T.reset_index()\n",
        "df1 = df1.rename(columns={'index': 'num_A', 0:'freq_A'})\n",
        "\n",
        "df2 = pd.DataFrame(d_b, index=[0]).T.reset_index()\n",
        "df2 = df2.rename(columns={'index': 'num_B', 0:'freq_B'})\n",
        "\n",
        "merge_data = df1.merge(df2, left_on='num_A', right_on='num_B', how='outer')\n",
        "merge_data\n",
        "\n"
      ],
      "metadata": {
        "colab": {
          "base_uri": "https://localhost:8080/",
          "height": 331
        },
        "id": "0H_8BKwsk_fB",
        "outputId": "79473af8-1ff7-4bba-97fb-565248790c12"
      },
      "execution_count": null,
      "outputs": [
        {
          "output_type": "execute_result",
          "data": {
            "text/plain": [
              "   num_A  freq_A  num_B  freq_B\n",
              "0    7.0    20.0    7.0     4.0\n",
              "1    5.0    16.0    5.0    20.0\n",
              "2    6.0    25.0    6.0     9.0\n",
              "3    9.0     6.0    NaN     NaN\n",
              "4    8.0    21.0    8.0     2.0\n",
              "5    4.0     7.0    4.0    28.0\n",
              "6    NaN     NaN    2.0     8.0\n",
              "7    NaN     NaN    3.0    22.0\n",
              "8    NaN     NaN    1.0     2.0"
            ],
            "text/html": [
              "\n",
              "  <div id=\"df-9d07e146-7934-4ef0-aa53-24f349987b73\">\n",
              "    <div class=\"colab-df-container\">\n",
              "      <div>\n",
              "<style scoped>\n",
              "    .dataframe tbody tr th:only-of-type {\n",
              "        vertical-align: middle;\n",
              "    }\n",
              "\n",
              "    .dataframe tbody tr th {\n",
              "        vertical-align: top;\n",
              "    }\n",
              "\n",
              "    .dataframe thead th {\n",
              "        text-align: right;\n",
              "    }\n",
              "</style>\n",
              "<table border=\"1\" class=\"dataframe\">\n",
              "  <thead>\n",
              "    <tr style=\"text-align: right;\">\n",
              "      <th></th>\n",
              "      <th>num_A</th>\n",
              "      <th>freq_A</th>\n",
              "      <th>num_B</th>\n",
              "      <th>freq_B</th>\n",
              "    </tr>\n",
              "  </thead>\n",
              "  <tbody>\n",
              "    <tr>\n",
              "      <th>0</th>\n",
              "      <td>7.0</td>\n",
              "      <td>20.0</td>\n",
              "      <td>7.0</td>\n",
              "      <td>4.0</td>\n",
              "    </tr>\n",
              "    <tr>\n",
              "      <th>1</th>\n",
              "      <td>5.0</td>\n",
              "      <td>16.0</td>\n",
              "      <td>5.0</td>\n",
              "      <td>20.0</td>\n",
              "    </tr>\n",
              "    <tr>\n",
              "      <th>2</th>\n",
              "      <td>6.0</td>\n",
              "      <td>25.0</td>\n",
              "      <td>6.0</td>\n",
              "      <td>9.0</td>\n",
              "    </tr>\n",
              "    <tr>\n",
              "      <th>3</th>\n",
              "      <td>9.0</td>\n",
              "      <td>6.0</td>\n",
              "      <td>NaN</td>\n",
              "      <td>NaN</td>\n",
              "    </tr>\n",
              "    <tr>\n",
              "      <th>4</th>\n",
              "      <td>8.0</td>\n",
              "      <td>21.0</td>\n",
              "      <td>8.0</td>\n",
              "      <td>2.0</td>\n",
              "    </tr>\n",
              "    <tr>\n",
              "      <th>5</th>\n",
              "      <td>4.0</td>\n",
              "      <td>7.0</td>\n",
              "      <td>4.0</td>\n",
              "      <td>28.0</td>\n",
              "    </tr>\n",
              "    <tr>\n",
              "      <th>6</th>\n",
              "      <td>NaN</td>\n",
              "      <td>NaN</td>\n",
              "      <td>2.0</td>\n",
              "      <td>8.0</td>\n",
              "    </tr>\n",
              "    <tr>\n",
              "      <th>7</th>\n",
              "      <td>NaN</td>\n",
              "      <td>NaN</td>\n",
              "      <td>3.0</td>\n",
              "      <td>22.0</td>\n",
              "    </tr>\n",
              "    <tr>\n",
              "      <th>8</th>\n",
              "      <td>NaN</td>\n",
              "      <td>NaN</td>\n",
              "      <td>1.0</td>\n",
              "      <td>2.0</td>\n",
              "    </tr>\n",
              "  </tbody>\n",
              "</table>\n",
              "</div>\n",
              "      <button class=\"colab-df-convert\" onclick=\"convertToInteractive('df-9d07e146-7934-4ef0-aa53-24f349987b73')\"\n",
              "              title=\"Convert this dataframe to an interactive table.\"\n",
              "              style=\"display:none;\">\n",
              "        \n",
              "  <svg xmlns=\"http://www.w3.org/2000/svg\" height=\"24px\"viewBox=\"0 0 24 24\"\n",
              "       width=\"24px\">\n",
              "    <path d=\"M0 0h24v24H0V0z\" fill=\"none\"/>\n",
              "    <path d=\"M18.56 5.44l.94 2.06.94-2.06 2.06-.94-2.06-.94-.94-2.06-.94 2.06-2.06.94zm-11 1L8.5 8.5l.94-2.06 2.06-.94-2.06-.94L8.5 2.5l-.94 2.06-2.06.94zm10 10l.94 2.06.94-2.06 2.06-.94-2.06-.94-.94-2.06-.94 2.06-2.06.94z\"/><path d=\"M17.41 7.96l-1.37-1.37c-.4-.4-.92-.59-1.43-.59-.52 0-1.04.2-1.43.59L10.3 9.45l-7.72 7.72c-.78.78-.78 2.05 0 2.83L4 21.41c.39.39.9.59 1.41.59.51 0 1.02-.2 1.41-.59l7.78-7.78 2.81-2.81c.8-.78.8-2.07 0-2.86zM5.41 20L4 18.59l7.72-7.72 1.47 1.35L5.41 20z\"/>\n",
              "  </svg>\n",
              "      </button>\n",
              "      \n",
              "  <style>\n",
              "    .colab-df-container {\n",
              "      display:flex;\n",
              "      flex-wrap:wrap;\n",
              "      gap: 12px;\n",
              "    }\n",
              "\n",
              "    .colab-df-convert {\n",
              "      background-color: #E8F0FE;\n",
              "      border: none;\n",
              "      border-radius: 50%;\n",
              "      cursor: pointer;\n",
              "      display: none;\n",
              "      fill: #1967D2;\n",
              "      height: 32px;\n",
              "      padding: 0 0 0 0;\n",
              "      width: 32px;\n",
              "    }\n",
              "\n",
              "    .colab-df-convert:hover {\n",
              "      background-color: #E2EBFA;\n",
              "      box-shadow: 0px 1px 2px rgba(60, 64, 67, 0.3), 0px 1px 3px 1px rgba(60, 64, 67, 0.15);\n",
              "      fill: #174EA6;\n",
              "    }\n",
              "\n",
              "    [theme=dark] .colab-df-convert {\n",
              "      background-color: #3B4455;\n",
              "      fill: #D2E3FC;\n",
              "    }\n",
              "\n",
              "    [theme=dark] .colab-df-convert:hover {\n",
              "      background-color: #434B5C;\n",
              "      box-shadow: 0px 1px 3px 1px rgba(0, 0, 0, 0.15);\n",
              "      filter: drop-shadow(0px 1px 2px rgba(0, 0, 0, 0.3));\n",
              "      fill: #FFFFFF;\n",
              "    }\n",
              "  </style>\n",
              "\n",
              "      <script>\n",
              "        const buttonEl =\n",
              "          document.querySelector('#df-9d07e146-7934-4ef0-aa53-24f349987b73 button.colab-df-convert');\n",
              "        buttonEl.style.display =\n",
              "          google.colab.kernel.accessAllowed ? 'block' : 'none';\n",
              "\n",
              "        async function convertToInteractive(key) {\n",
              "          const element = document.querySelector('#df-9d07e146-7934-4ef0-aa53-24f349987b73');\n",
              "          const dataTable =\n",
              "            await google.colab.kernel.invokeFunction('convertToInteractive',\n",
              "                                                     [key], {});\n",
              "          if (!dataTable) return;\n",
              "\n",
              "          const docLinkHtml = 'Like what you see? Visit the ' +\n",
              "            '<a target=\"_blank\" href=https://colab.research.google.com/notebooks/data_table.ipynb>data table notebook</a>'\n",
              "            + ' to learn more about interactive tables.';\n",
              "          element.innerHTML = '';\n",
              "          dataTable['output_type'] = 'display_data';\n",
              "          await google.colab.output.renderOutput(dataTable, element);\n",
              "          const docLink = document.createElement('div');\n",
              "          docLink.innerHTML = docLinkHtml;\n",
              "          element.appendChild(docLink);\n",
              "        }\n",
              "      </script>\n",
              "    </div>\n",
              "  </div>\n",
              "  "
            ]
          },
          "metadata": {},
          "execution_count": 89
        }
      ]
    },
    {
      "cell_type": "code",
      "source": [
        "# Отсутствующие значения частот заменяю на 0 в столбцах Freq_A и Freq_B.\n",
        "\n",
        "merge_data['freq_A'] = merge_data.freq_A.fillna(value=0)\n",
        "merge_data['freq_B'] = merge_data.freq_B.fillna(value=0)\n",
        "\n",
        "merge_data"
      ],
      "metadata": {
        "colab": {
          "base_uri": "https://localhost:8080/",
          "height": 331
        },
        "id": "AQqH4UVFzFW-",
        "outputId": "68ee2b4d-f818-45a9-e798-16c3c20a21eb"
      },
      "execution_count": null,
      "outputs": [
        {
          "output_type": "execute_result",
          "data": {
            "text/plain": [
              "   num_A  freq_A  num_B  freq_B\n",
              "0    7.0    20.0    7.0     4.0\n",
              "1    5.0    16.0    5.0    20.0\n",
              "2    6.0    25.0    6.0     9.0\n",
              "3    9.0     6.0    NaN     0.0\n",
              "4    8.0    21.0    8.0     2.0\n",
              "5    4.0     7.0    4.0    28.0\n",
              "6    NaN     0.0    2.0     8.0\n",
              "7    NaN     0.0    3.0    22.0\n",
              "8    NaN     0.0    1.0     2.0"
            ],
            "text/html": [
              "\n",
              "  <div id=\"df-3db6c003-e9d6-42b5-96c5-5d8919fb600e\">\n",
              "    <div class=\"colab-df-container\">\n",
              "      <div>\n",
              "<style scoped>\n",
              "    .dataframe tbody tr th:only-of-type {\n",
              "        vertical-align: middle;\n",
              "    }\n",
              "\n",
              "    .dataframe tbody tr th {\n",
              "        vertical-align: top;\n",
              "    }\n",
              "\n",
              "    .dataframe thead th {\n",
              "        text-align: right;\n",
              "    }\n",
              "</style>\n",
              "<table border=\"1\" class=\"dataframe\">\n",
              "  <thead>\n",
              "    <tr style=\"text-align: right;\">\n",
              "      <th></th>\n",
              "      <th>num_A</th>\n",
              "      <th>freq_A</th>\n",
              "      <th>num_B</th>\n",
              "      <th>freq_B</th>\n",
              "    </tr>\n",
              "  </thead>\n",
              "  <tbody>\n",
              "    <tr>\n",
              "      <th>0</th>\n",
              "      <td>7.0</td>\n",
              "      <td>20.0</td>\n",
              "      <td>7.0</td>\n",
              "      <td>4.0</td>\n",
              "    </tr>\n",
              "    <tr>\n",
              "      <th>1</th>\n",
              "      <td>5.0</td>\n",
              "      <td>16.0</td>\n",
              "      <td>5.0</td>\n",
              "      <td>20.0</td>\n",
              "    </tr>\n",
              "    <tr>\n",
              "      <th>2</th>\n",
              "      <td>6.0</td>\n",
              "      <td>25.0</td>\n",
              "      <td>6.0</td>\n",
              "      <td>9.0</td>\n",
              "    </tr>\n",
              "    <tr>\n",
              "      <th>3</th>\n",
              "      <td>9.0</td>\n",
              "      <td>6.0</td>\n",
              "      <td>NaN</td>\n",
              "      <td>0.0</td>\n",
              "    </tr>\n",
              "    <tr>\n",
              "      <th>4</th>\n",
              "      <td>8.0</td>\n",
              "      <td>21.0</td>\n",
              "      <td>8.0</td>\n",
              "      <td>2.0</td>\n",
              "    </tr>\n",
              "    <tr>\n",
              "      <th>5</th>\n",
              "      <td>4.0</td>\n",
              "      <td>7.0</td>\n",
              "      <td>4.0</td>\n",
              "      <td>28.0</td>\n",
              "    </tr>\n",
              "    <tr>\n",
              "      <th>6</th>\n",
              "      <td>NaN</td>\n",
              "      <td>0.0</td>\n",
              "      <td>2.0</td>\n",
              "      <td>8.0</td>\n",
              "    </tr>\n",
              "    <tr>\n",
              "      <th>7</th>\n",
              "      <td>NaN</td>\n",
              "      <td>0.0</td>\n",
              "      <td>3.0</td>\n",
              "      <td>22.0</td>\n",
              "    </tr>\n",
              "    <tr>\n",
              "      <th>8</th>\n",
              "      <td>NaN</td>\n",
              "      <td>0.0</td>\n",
              "      <td>1.0</td>\n",
              "      <td>2.0</td>\n",
              "    </tr>\n",
              "  </tbody>\n",
              "</table>\n",
              "</div>\n",
              "      <button class=\"colab-df-convert\" onclick=\"convertToInteractive('df-3db6c003-e9d6-42b5-96c5-5d8919fb600e')\"\n",
              "              title=\"Convert this dataframe to an interactive table.\"\n",
              "              style=\"display:none;\">\n",
              "        \n",
              "  <svg xmlns=\"http://www.w3.org/2000/svg\" height=\"24px\"viewBox=\"0 0 24 24\"\n",
              "       width=\"24px\">\n",
              "    <path d=\"M0 0h24v24H0V0z\" fill=\"none\"/>\n",
              "    <path d=\"M18.56 5.44l.94 2.06.94-2.06 2.06-.94-2.06-.94-.94-2.06-.94 2.06-2.06.94zm-11 1L8.5 8.5l.94-2.06 2.06-.94-2.06-.94L8.5 2.5l-.94 2.06-2.06.94zm10 10l.94 2.06.94-2.06 2.06-.94-2.06-.94-.94-2.06-.94 2.06-2.06.94z\"/><path d=\"M17.41 7.96l-1.37-1.37c-.4-.4-.92-.59-1.43-.59-.52 0-1.04.2-1.43.59L10.3 9.45l-7.72 7.72c-.78.78-.78 2.05 0 2.83L4 21.41c.39.39.9.59 1.41.59.51 0 1.02-.2 1.41-.59l7.78-7.78 2.81-2.81c.8-.78.8-2.07 0-2.86zM5.41 20L4 18.59l7.72-7.72 1.47 1.35L5.41 20z\"/>\n",
              "  </svg>\n",
              "      </button>\n",
              "      \n",
              "  <style>\n",
              "    .colab-df-container {\n",
              "      display:flex;\n",
              "      flex-wrap:wrap;\n",
              "      gap: 12px;\n",
              "    }\n",
              "\n",
              "    .colab-df-convert {\n",
              "      background-color: #E8F0FE;\n",
              "      border: none;\n",
              "      border-radius: 50%;\n",
              "      cursor: pointer;\n",
              "      display: none;\n",
              "      fill: #1967D2;\n",
              "      height: 32px;\n",
              "      padding: 0 0 0 0;\n",
              "      width: 32px;\n",
              "    }\n",
              "\n",
              "    .colab-df-convert:hover {\n",
              "      background-color: #E2EBFA;\n",
              "      box-shadow: 0px 1px 2px rgba(60, 64, 67, 0.3), 0px 1px 3px 1px rgba(60, 64, 67, 0.15);\n",
              "      fill: #174EA6;\n",
              "    }\n",
              "\n",
              "    [theme=dark] .colab-df-convert {\n",
              "      background-color: #3B4455;\n",
              "      fill: #D2E3FC;\n",
              "    }\n",
              "\n",
              "    [theme=dark] .colab-df-convert:hover {\n",
              "      background-color: #434B5C;\n",
              "      box-shadow: 0px 1px 3px 1px rgba(0, 0, 0, 0.15);\n",
              "      filter: drop-shadow(0px 1px 2px rgba(0, 0, 0, 0.3));\n",
              "      fill: #FFFFFF;\n",
              "    }\n",
              "  </style>\n",
              "\n",
              "      <script>\n",
              "        const buttonEl =\n",
              "          document.querySelector('#df-3db6c003-e9d6-42b5-96c5-5d8919fb600e button.colab-df-convert');\n",
              "        buttonEl.style.display =\n",
              "          google.colab.kernel.accessAllowed ? 'block' : 'none';\n",
              "\n",
              "        async function convertToInteractive(key) {\n",
              "          const element = document.querySelector('#df-3db6c003-e9d6-42b5-96c5-5d8919fb600e');\n",
              "          const dataTable =\n",
              "            await google.colab.kernel.invokeFunction('convertToInteractive',\n",
              "                                                     [key], {});\n",
              "          if (!dataTable) return;\n",
              "\n",
              "          const docLinkHtml = 'Like what you see? Visit the ' +\n",
              "            '<a target=\"_blank\" href=https://colab.research.google.com/notebooks/data_table.ipynb>data table notebook</a>'\n",
              "            + ' to learn more about interactive tables.';\n",
              "          element.innerHTML = '';\n",
              "          dataTable['output_type'] = 'display_data';\n",
              "          await google.colab.output.renderOutput(dataTable, element);\n",
              "          const docLink = document.createElement('div');\n",
              "          docLink.innerHTML = docLinkHtml;\n",
              "          element.appendChild(docLink);\n",
              "        }\n",
              "      </script>\n",
              "    </div>\n",
              "  </div>\n",
              "  "
            ]
          },
          "metadata": {},
          "execution_count": 90
        }
      ]
    },
    {
      "cell_type": "code",
      "source": [
        "# Формирую новую колонку, которая содержит все уникальные значения из обоих выборок.\n",
        "# считаю по ней частоты freq_A и Freq_B:\n",
        "\n",
        "def change_null_value(row):\n",
        "  if row['freq_B'] == 0:\n",
        "    return row['num_A']\n",
        "  else:\n",
        "    return row['num_B']\n",
        "\n",
        "merge_data['num_in_both_sets'] = merge_data.apply(change_null_value, axis=1)\n",
        "merge_data"
      ],
      "metadata": {
        "colab": {
          "base_uri": "https://localhost:8080/",
          "height": 331
        },
        "id": "18gH2ZTt4G6Z",
        "outputId": "6d681123-1883-4e2d-97c6-fcf05e4839bb"
      },
      "execution_count": null,
      "outputs": [
        {
          "output_type": "execute_result",
          "data": {
            "text/plain": [
              "   num_A  freq_A  num_B  freq_B  num_in_both_sets\n",
              "0    7.0    20.0    7.0     4.0               7.0\n",
              "1    5.0    16.0    5.0    20.0               5.0\n",
              "2    6.0    25.0    6.0     9.0               6.0\n",
              "3    9.0     6.0    NaN     0.0               9.0\n",
              "4    8.0    21.0    8.0     2.0               8.0\n",
              "5    4.0     7.0    4.0    28.0               4.0\n",
              "6    NaN     0.0    2.0     8.0               2.0\n",
              "7    NaN     0.0    3.0    22.0               3.0\n",
              "8    NaN     0.0    1.0     2.0               1.0"
            ],
            "text/html": [
              "\n",
              "  <div id=\"df-80d56c05-dbcc-4575-9148-eb5ac3dca52b\">\n",
              "    <div class=\"colab-df-container\">\n",
              "      <div>\n",
              "<style scoped>\n",
              "    .dataframe tbody tr th:only-of-type {\n",
              "        vertical-align: middle;\n",
              "    }\n",
              "\n",
              "    .dataframe tbody tr th {\n",
              "        vertical-align: top;\n",
              "    }\n",
              "\n",
              "    .dataframe thead th {\n",
              "        text-align: right;\n",
              "    }\n",
              "</style>\n",
              "<table border=\"1\" class=\"dataframe\">\n",
              "  <thead>\n",
              "    <tr style=\"text-align: right;\">\n",
              "      <th></th>\n",
              "      <th>num_A</th>\n",
              "      <th>freq_A</th>\n",
              "      <th>num_B</th>\n",
              "      <th>freq_B</th>\n",
              "      <th>num_in_both_sets</th>\n",
              "    </tr>\n",
              "  </thead>\n",
              "  <tbody>\n",
              "    <tr>\n",
              "      <th>0</th>\n",
              "      <td>7.0</td>\n",
              "      <td>20.0</td>\n",
              "      <td>7.0</td>\n",
              "      <td>4.0</td>\n",
              "      <td>7.0</td>\n",
              "    </tr>\n",
              "    <tr>\n",
              "      <th>1</th>\n",
              "      <td>5.0</td>\n",
              "      <td>16.0</td>\n",
              "      <td>5.0</td>\n",
              "      <td>20.0</td>\n",
              "      <td>5.0</td>\n",
              "    </tr>\n",
              "    <tr>\n",
              "      <th>2</th>\n",
              "      <td>6.0</td>\n",
              "      <td>25.0</td>\n",
              "      <td>6.0</td>\n",
              "      <td>9.0</td>\n",
              "      <td>6.0</td>\n",
              "    </tr>\n",
              "    <tr>\n",
              "      <th>3</th>\n",
              "      <td>9.0</td>\n",
              "      <td>6.0</td>\n",
              "      <td>NaN</td>\n",
              "      <td>0.0</td>\n",
              "      <td>9.0</td>\n",
              "    </tr>\n",
              "    <tr>\n",
              "      <th>4</th>\n",
              "      <td>8.0</td>\n",
              "      <td>21.0</td>\n",
              "      <td>8.0</td>\n",
              "      <td>2.0</td>\n",
              "      <td>8.0</td>\n",
              "    </tr>\n",
              "    <tr>\n",
              "      <th>5</th>\n",
              "      <td>4.0</td>\n",
              "      <td>7.0</td>\n",
              "      <td>4.0</td>\n",
              "      <td>28.0</td>\n",
              "      <td>4.0</td>\n",
              "    </tr>\n",
              "    <tr>\n",
              "      <th>6</th>\n",
              "      <td>NaN</td>\n",
              "      <td>0.0</td>\n",
              "      <td>2.0</td>\n",
              "      <td>8.0</td>\n",
              "      <td>2.0</td>\n",
              "    </tr>\n",
              "    <tr>\n",
              "      <th>7</th>\n",
              "      <td>NaN</td>\n",
              "      <td>0.0</td>\n",
              "      <td>3.0</td>\n",
              "      <td>22.0</td>\n",
              "      <td>3.0</td>\n",
              "    </tr>\n",
              "    <tr>\n",
              "      <th>8</th>\n",
              "      <td>NaN</td>\n",
              "      <td>0.0</td>\n",
              "      <td>1.0</td>\n",
              "      <td>2.0</td>\n",
              "      <td>1.0</td>\n",
              "    </tr>\n",
              "  </tbody>\n",
              "</table>\n",
              "</div>\n",
              "      <button class=\"colab-df-convert\" onclick=\"convertToInteractive('df-80d56c05-dbcc-4575-9148-eb5ac3dca52b')\"\n",
              "              title=\"Convert this dataframe to an interactive table.\"\n",
              "              style=\"display:none;\">\n",
              "        \n",
              "  <svg xmlns=\"http://www.w3.org/2000/svg\" height=\"24px\"viewBox=\"0 0 24 24\"\n",
              "       width=\"24px\">\n",
              "    <path d=\"M0 0h24v24H0V0z\" fill=\"none\"/>\n",
              "    <path d=\"M18.56 5.44l.94 2.06.94-2.06 2.06-.94-2.06-.94-.94-2.06-.94 2.06-2.06.94zm-11 1L8.5 8.5l.94-2.06 2.06-.94-2.06-.94L8.5 2.5l-.94 2.06-2.06.94zm10 10l.94 2.06.94-2.06 2.06-.94-2.06-.94-.94-2.06-.94 2.06-2.06.94z\"/><path d=\"M17.41 7.96l-1.37-1.37c-.4-.4-.92-.59-1.43-.59-.52 0-1.04.2-1.43.59L10.3 9.45l-7.72 7.72c-.78.78-.78 2.05 0 2.83L4 21.41c.39.39.9.59 1.41.59.51 0 1.02-.2 1.41-.59l7.78-7.78 2.81-2.81c.8-.78.8-2.07 0-2.86zM5.41 20L4 18.59l7.72-7.72 1.47 1.35L5.41 20z\"/>\n",
              "  </svg>\n",
              "      </button>\n",
              "      \n",
              "  <style>\n",
              "    .colab-df-container {\n",
              "      display:flex;\n",
              "      flex-wrap:wrap;\n",
              "      gap: 12px;\n",
              "    }\n",
              "\n",
              "    .colab-df-convert {\n",
              "      background-color: #E8F0FE;\n",
              "      border: none;\n",
              "      border-radius: 50%;\n",
              "      cursor: pointer;\n",
              "      display: none;\n",
              "      fill: #1967D2;\n",
              "      height: 32px;\n",
              "      padding: 0 0 0 0;\n",
              "      width: 32px;\n",
              "    }\n",
              "\n",
              "    .colab-df-convert:hover {\n",
              "      background-color: #E2EBFA;\n",
              "      box-shadow: 0px 1px 2px rgba(60, 64, 67, 0.3), 0px 1px 3px 1px rgba(60, 64, 67, 0.15);\n",
              "      fill: #174EA6;\n",
              "    }\n",
              "\n",
              "    [theme=dark] .colab-df-convert {\n",
              "      background-color: #3B4455;\n",
              "      fill: #D2E3FC;\n",
              "    }\n",
              "\n",
              "    [theme=dark] .colab-df-convert:hover {\n",
              "      background-color: #434B5C;\n",
              "      box-shadow: 0px 1px 3px 1px rgba(0, 0, 0, 0.15);\n",
              "      filter: drop-shadow(0px 1px 2px rgba(0, 0, 0, 0.3));\n",
              "      fill: #FFFFFF;\n",
              "    }\n",
              "  </style>\n",
              "\n",
              "      <script>\n",
              "        const buttonEl =\n",
              "          document.querySelector('#df-80d56c05-dbcc-4575-9148-eb5ac3dca52b button.colab-df-convert');\n",
              "        buttonEl.style.display =\n",
              "          google.colab.kernel.accessAllowed ? 'block' : 'none';\n",
              "\n",
              "        async function convertToInteractive(key) {\n",
              "          const element = document.querySelector('#df-80d56c05-dbcc-4575-9148-eb5ac3dca52b');\n",
              "          const dataTable =\n",
              "            await google.colab.kernel.invokeFunction('convertToInteractive',\n",
              "                                                     [key], {});\n",
              "          if (!dataTable) return;\n",
              "\n",
              "          const docLinkHtml = 'Like what you see? Visit the ' +\n",
              "            '<a target=\"_blank\" href=https://colab.research.google.com/notebooks/data_table.ipynb>data table notebook</a>'\n",
              "            + ' to learn more about interactive tables.';\n",
              "          element.innerHTML = '';\n",
              "          dataTable['output_type'] = 'display_data';\n",
              "          await google.colab.output.renderOutput(dataTable, element);\n",
              "          const docLink = document.createElement('div');\n",
              "          docLink.innerHTML = docLinkHtml;\n",
              "          element.appendChild(docLink);\n",
              "        }\n",
              "      </script>\n",
              "    </div>\n",
              "  </div>\n",
              "  "
            ]
          },
          "metadata": {},
          "execution_count": 92
        }
      ]
    },
    {
      "cell_type": "code",
      "source": [
        "merge_data['num_in_both_sets'] = merge_data['num_in_both_sets'].astype(int)\n",
        "merge_data['freq_A'] = merge_data['freq_A'].astype(int)\n",
        "merge_data['freq_B'] = merge_data['freq_B'].astype(int)\n",
        "\n",
        "contingency_table = merge_data[ ['num_in_both_sets', 'freq_A', 'freq_B']]\n",
        "contingency_table"
      ],
      "metadata": {
        "colab": {
          "base_uri": "https://localhost:8080/",
          "height": 331
        },
        "id": "T9e4Jt1fD_e1",
        "outputId": "c322c130-008a-405a-f015-1fda318a283f"
      },
      "execution_count": null,
      "outputs": [
        {
          "output_type": "execute_result",
          "data": {
            "text/plain": [
              "   num_in_both_sets  freq_A  freq_B\n",
              "0                 7      20       4\n",
              "1                 5      16      20\n",
              "2                 6      25       9\n",
              "3                 9       6       0\n",
              "4                 8      21       2\n",
              "5                 4       7      28\n",
              "6                 2       0       8\n",
              "7                 3       0      22\n",
              "8                 1       0       2"
            ],
            "text/html": [
              "\n",
              "  <div id=\"df-c3a27002-f5fa-4b71-a7af-7f60784c2b5c\">\n",
              "    <div class=\"colab-df-container\">\n",
              "      <div>\n",
              "<style scoped>\n",
              "    .dataframe tbody tr th:only-of-type {\n",
              "        vertical-align: middle;\n",
              "    }\n",
              "\n",
              "    .dataframe tbody tr th {\n",
              "        vertical-align: top;\n",
              "    }\n",
              "\n",
              "    .dataframe thead th {\n",
              "        text-align: right;\n",
              "    }\n",
              "</style>\n",
              "<table border=\"1\" class=\"dataframe\">\n",
              "  <thead>\n",
              "    <tr style=\"text-align: right;\">\n",
              "      <th></th>\n",
              "      <th>num_in_both_sets</th>\n",
              "      <th>freq_A</th>\n",
              "      <th>freq_B</th>\n",
              "    </tr>\n",
              "  </thead>\n",
              "  <tbody>\n",
              "    <tr>\n",
              "      <th>0</th>\n",
              "      <td>7</td>\n",
              "      <td>20</td>\n",
              "      <td>4</td>\n",
              "    </tr>\n",
              "    <tr>\n",
              "      <th>1</th>\n",
              "      <td>5</td>\n",
              "      <td>16</td>\n",
              "      <td>20</td>\n",
              "    </tr>\n",
              "    <tr>\n",
              "      <th>2</th>\n",
              "      <td>6</td>\n",
              "      <td>25</td>\n",
              "      <td>9</td>\n",
              "    </tr>\n",
              "    <tr>\n",
              "      <th>3</th>\n",
              "      <td>9</td>\n",
              "      <td>6</td>\n",
              "      <td>0</td>\n",
              "    </tr>\n",
              "    <tr>\n",
              "      <th>4</th>\n",
              "      <td>8</td>\n",
              "      <td>21</td>\n",
              "      <td>2</td>\n",
              "    </tr>\n",
              "    <tr>\n",
              "      <th>5</th>\n",
              "      <td>4</td>\n",
              "      <td>7</td>\n",
              "      <td>28</td>\n",
              "    </tr>\n",
              "    <tr>\n",
              "      <th>6</th>\n",
              "      <td>2</td>\n",
              "      <td>0</td>\n",
              "      <td>8</td>\n",
              "    </tr>\n",
              "    <tr>\n",
              "      <th>7</th>\n",
              "      <td>3</td>\n",
              "      <td>0</td>\n",
              "      <td>22</td>\n",
              "    </tr>\n",
              "    <tr>\n",
              "      <th>8</th>\n",
              "      <td>1</td>\n",
              "      <td>0</td>\n",
              "      <td>2</td>\n",
              "    </tr>\n",
              "  </tbody>\n",
              "</table>\n",
              "</div>\n",
              "      <button class=\"colab-df-convert\" onclick=\"convertToInteractive('df-c3a27002-f5fa-4b71-a7af-7f60784c2b5c')\"\n",
              "              title=\"Convert this dataframe to an interactive table.\"\n",
              "              style=\"display:none;\">\n",
              "        \n",
              "  <svg xmlns=\"http://www.w3.org/2000/svg\" height=\"24px\"viewBox=\"0 0 24 24\"\n",
              "       width=\"24px\">\n",
              "    <path d=\"M0 0h24v24H0V0z\" fill=\"none\"/>\n",
              "    <path d=\"M18.56 5.44l.94 2.06.94-2.06 2.06-.94-2.06-.94-.94-2.06-.94 2.06-2.06.94zm-11 1L8.5 8.5l.94-2.06 2.06-.94-2.06-.94L8.5 2.5l-.94 2.06-2.06.94zm10 10l.94 2.06.94-2.06 2.06-.94-2.06-.94-.94-2.06-.94 2.06-2.06.94z\"/><path d=\"M17.41 7.96l-1.37-1.37c-.4-.4-.92-.59-1.43-.59-.52 0-1.04.2-1.43.59L10.3 9.45l-7.72 7.72c-.78.78-.78 2.05 0 2.83L4 21.41c.39.39.9.59 1.41.59.51 0 1.02-.2 1.41-.59l7.78-7.78 2.81-2.81c.8-.78.8-2.07 0-2.86zM5.41 20L4 18.59l7.72-7.72 1.47 1.35L5.41 20z\"/>\n",
              "  </svg>\n",
              "      </button>\n",
              "      \n",
              "  <style>\n",
              "    .colab-df-container {\n",
              "      display:flex;\n",
              "      flex-wrap:wrap;\n",
              "      gap: 12px;\n",
              "    }\n",
              "\n",
              "    .colab-df-convert {\n",
              "      background-color: #E8F0FE;\n",
              "      border: none;\n",
              "      border-radius: 50%;\n",
              "      cursor: pointer;\n",
              "      display: none;\n",
              "      fill: #1967D2;\n",
              "      height: 32px;\n",
              "      padding: 0 0 0 0;\n",
              "      width: 32px;\n",
              "    }\n",
              "\n",
              "    .colab-df-convert:hover {\n",
              "      background-color: #E2EBFA;\n",
              "      box-shadow: 0px 1px 2px rgba(60, 64, 67, 0.3), 0px 1px 3px 1px rgba(60, 64, 67, 0.15);\n",
              "      fill: #174EA6;\n",
              "    }\n",
              "\n",
              "    [theme=dark] .colab-df-convert {\n",
              "      background-color: #3B4455;\n",
              "      fill: #D2E3FC;\n",
              "    }\n",
              "\n",
              "    [theme=dark] .colab-df-convert:hover {\n",
              "      background-color: #434B5C;\n",
              "      box-shadow: 0px 1px 3px 1px rgba(0, 0, 0, 0.15);\n",
              "      filter: drop-shadow(0px 1px 2px rgba(0, 0, 0, 0.3));\n",
              "      fill: #FFFFFF;\n",
              "    }\n",
              "  </style>\n",
              "\n",
              "      <script>\n",
              "        const buttonEl =\n",
              "          document.querySelector('#df-c3a27002-f5fa-4b71-a7af-7f60784c2b5c button.colab-df-convert');\n",
              "        buttonEl.style.display =\n",
              "          google.colab.kernel.accessAllowed ? 'block' : 'none';\n",
              "\n",
              "        async function convertToInteractive(key) {\n",
              "          const element = document.querySelector('#df-c3a27002-f5fa-4b71-a7af-7f60784c2b5c');\n",
              "          const dataTable =\n",
              "            await google.colab.kernel.invokeFunction('convertToInteractive',\n",
              "                                                     [key], {});\n",
              "          if (!dataTable) return;\n",
              "\n",
              "          const docLinkHtml = 'Like what you see? Visit the ' +\n",
              "            '<a target=\"_blank\" href=https://colab.research.google.com/notebooks/data_table.ipynb>data table notebook</a>'\n",
              "            + ' to learn more about interactive tables.';\n",
              "          element.innerHTML = '';\n",
              "          dataTable['output_type'] = 'display_data';\n",
              "          await google.colab.output.renderOutput(dataTable, element);\n",
              "          const docLink = document.createElement('div');\n",
              "          docLink.innerHTML = docLinkHtml;\n",
              "          element.appendChild(docLink);\n",
              "        }\n",
              "      </script>\n",
              "    </div>\n",
              "  </div>\n",
              "  "
            ]
          },
          "metadata": {},
          "execution_count": 99
        }
      ]
    },
    {
      "cell_type": "markdown",
      "source": [
        "Пояснение на примере первой строчки: мы получили, что число 6 попадало в первую выборку (А) 22 раза, а в выборку (B) 9 раз."
      ],
      "metadata": {
        "id": "n_yOZF7K8HDh"
      }
    },
    {
      "cell_type": "markdown",
      "source": [
        "Вписываются ли набюдаемые частоты в пределы естественных отклонений от ожидаемых частот?\n",
        "\n",
        "Перенесем данный вопрос в термины проверки гипотез:\n",
        "\n",
        " - H0: Наблюдается согласие наблюдаемых частот\n",
        " - H1: полученные частоты из разных генеральных совокупностей"
      ],
      "metadata": {
        "id": "KUfdTOGz9JAo"
      }
    },
    {
      "cell_type": "code",
      "source": [
        "contingency_table['freq_A'].values"
      ],
      "metadata": {
        "colab": {
          "base_uri": "https://localhost:8080/"
        },
        "id": "rMORp-hcBlZy",
        "outputId": "b6ad3fa2-2478-40d5-d2f9-8e39f891ce2c"
      },
      "execution_count": null,
      "outputs": [
        {
          "output_type": "execute_result",
          "data": {
            "text/plain": [
              "array([20, 16, 25,  6, 21,  7,  0,  0,  0])"
            ]
          },
          "metadata": {},
          "execution_count": 100
        }
      ]
    },
    {
      "cell_type": "code",
      "source": [
        "#Критерий Пирсона (хи квадрат)\n",
        "\n",
        "chi, pval, dof, exp = stats.chi2_contingency([contingency_table['freq_A'].values, contingency_table['freq_B'].values])\n",
        "\n",
        "significance = 0.05\n",
        "print('p-value=%.18f, significance=%.2f\\n' % (pval, significance))"
      ],
      "metadata": {
        "colab": {
          "base_uri": "https://localhost:8080/"
        },
        "id": "3uhrxu4rAK9r",
        "outputId": "61a3e02e-6c59-468e-d68a-2fd28a79cdfb"
      },
      "execution_count": null,
      "outputs": [
        {
          "output_type": "stream",
          "name": "stdout",
          "text": [
            "p-value=0.000000000000004936, significance=0.05\n",
            "\n"
          ]
        }
      ]
    },
    {
      "cell_type": "markdown",
      "source": [
        "Вывод: Получаем крайне низкое p-value, а значит, выборки из разных гс."
      ],
      "metadata": {
        "id": "33MlI-3wEtk9"
      }
    },
    {
      "cell_type": "markdown",
      "source": [
        "Решение № 2"
      ],
      "metadata": {
        "id": "h3iKtvD-_4sY"
      }
    },
    {
      "cell_type": "code",
      "source": [
        "# Проверим объем выборок\n",
        "\n",
        "len_A = len(A)\n",
        "len_B = len(B)\n",
        "\n",
        "print(f' Кол-во семплов в A: {len_A}')\n",
        "print(f' Кол-во семплов в B: {len_B}')"
      ],
      "metadata": {
        "colab": {
          "base_uri": "https://localhost:8080/"
        },
        "id": "1QDqO2ZQ8_L6",
        "outputId": "acbd2184-6a55-43c9-990f-c5e2f59bdbfd"
      },
      "execution_count": null,
      "outputs": [
        {
          "output_type": "stream",
          "name": "stdout",
          "text": [
            " Кол-во семплов в A: 112\n",
            " Кол-во семплов в B: 95\n"
          ]
        }
      ]
    },
    {
      "cell_type": "code",
      "source": [
        "# Приведем выборки к однинаковму размеру, для этого в выборке А оставим столько же элементов, сколько и в выборке B:\n",
        "A_resized = np.random.choice(A, len(B))\n",
        "len(A_resized)"
      ],
      "metadata": {
        "colab": {
          "base_uri": "https://localhost:8080/"
        },
        "id": "ChgDweMUBULk",
        "outputId": "42a5fd32-792a-43f4-be67-5ba59067cf6c"
      },
      "execution_count": null,
      "outputs": [
        {
          "output_type": "execute_result",
          "data": {
            "text/plain": [
              "95"
            ]
          },
          "metadata": {},
          "execution_count": 4
        }
      ]
    },
    {
      "cell_type": "code",
      "source": [
        "# Мы предполагаем, что выборки принадлежат одному множеству, следовательно, эти выборки должны быть свявзанными, а значит используем парные тесты.\n",
        "# Проверим равенство средних через критерий согласия Стюдента. Для связных выборок используем: scipy.stats.ttest_rel\n",
        "\n",
        "res = stats.ttest_rel(A_resized, B)\n",
        "print(f'p-value: {res[1]}')"
      ],
      "metadata": {
        "colab": {
          "base_uri": "https://localhost:8080/"
        },
        "id": "1fmvt6wrDf2Q",
        "outputId": "12c3c762-c8a9-4e56-ecbf-fecdcffb561d"
      },
      "execution_count": null,
      "outputs": [
        {
          "output_type": "stream",
          "name": "stdout",
          "text": [
            "p-value: 3.1584295814620577e-19\n"
          ]
        }
      ]
    },
    {
      "cell_type": "markdown",
      "source": [
        "p-value получилось очень низким (p_v = 4.17e-19), следовательно, средние значения выборок сильно различаются, что свидетельствует о том, что выборки не принадлежат одному множеству. Даже на уровне значимости 0.01 гипотеза будет отвергнута."
      ],
      "metadata": {
        "id": "XlxVnuLE9wmh"
      }
    },
    {
      "cell_type": "code",
      "source": [
        "# Проверим это визуально\n",
        "plt.hist(A_resized, bins=20);\n",
        "plt.hist(B, bins=20)\n",
        "plt.show()"
      ],
      "metadata": {
        "colab": {
          "base_uri": "https://localhost:8080/",
          "height": 266
        },
        "id": "Bchr94Oa8uJ-",
        "outputId": "975834f0-249f-4277-ae35-3b8aa5738f2e"
      },
      "execution_count": null,
      "outputs": [
        {
          "output_type": "display_data",
          "data": {
            "text/plain": [
              "<Figure size 432x288 with 1 Axes>"
            ],
            "image/png": "[encoded data removed]"
          },
          "metadata": {
            "needs_background": "light"
          }
        }
      ]
    },
    {
      "cell_type": "markdown",
      "source": [
        "<div class=\"alert alert-info\">\n",
        "<b>Задание № 7 (задание без подвоха)</b>\n",
        "\n",
        "На примере датасета про жилье в New York City, мы сталкивались с примером, когда переменная имеет не совсем нормальное распределение.\n",
        "\n",
        "- Предположим, Вы сформировали две гипотезы:\n",
        "    - нулевая гипотеза - распределение нормальное;\n",
        "    - альтернативная гипотеза - распределение ненормальное.\n",
        "- допустим, вы применили какой-то тест (сейчас неважно какой), который показал уровень значимости  `p-value = 0.03`. Каковы будут ваши выводы? Будем считать что у нас нормальное распределение или все-таки нет?)\n",
        "    \n",
        "</div>"
      ],
      "metadata": {
        "id": "uS_1EymvJjKO"
      }
    },
    {
      "cell_type": "markdown",
      "source": [
        "**Решение**:\n",
        "\n",
        "P-value = 0.03 - это пограничный случай при уровне значимости alpha = 0.05. В большинстве задач нет цели получить полностью идеальное, академическое нормальное распределение в данных, поэтому я бы сделал допущение и стал с таким распределением работать как с нормальным. При уровне значимости alpha = 0.01 мы уже не могли отвергнуть H0, подразумевая, что распределение нормальное."
      ],
      "metadata": {
        "id": "S5gXprY-JllN"
      }
    },
    {
      "cell_type": "markdown",
      "source": [
        "<div class=\"alert alert-info\">\n",
        "<b>Задание № 8</b>\n",
        "    \n",
        "Первая выборка — это пациенты, которых лечили препаратом `А`.  Вторая выборка — пациенты, которых лечили препаратом `B`.\n",
        "\n",
        "Значения в выборках — это некоторая характеристика эффективности лечения (уровень метаболита в крови, температура через три дня после начала лечения, срок выздоровления, число койко-дней, и т.д.)\n",
        "\n",
        "- Требуется выяснить, имеется ли значимое различие эффективности препаратов `А` и `B`, или различия являются чисто случайными и объясняются «естественной» дисперсией выбранной характеристики?  (`уровень значимости принять за 0.05 (5%)`)\n",
        "\n",
        "- При каком минимальном p-value различия были бы уже значимы?\n",
        "    \n",
        "- Если выборки незначительно отличаются, то продемонстрируйте это визуально\n",
        "</div>"
      ],
      "metadata": {
        "id": "trIfUYI4Mxvk"
      }
    },
    {
      "cell_type": "code",
      "source": [
        "np.random.seed(11)\n",
        "A = stats.norm.rvs(scale=15, loc=169, size=300)\n",
        "B = stats.norm.rvs(scale=14, loc=171.4, size=300)\n",
        "\n",
        "### Ваш код:\n",
        "# Подсказка, обратите внимание на Two-sample T-test"
      ],
      "metadata": {
        "id": "v5dqdeOINNg3"
      },
      "execution_count": null,
      "outputs": []
    },
    {
      "cell_type": "code",
      "source": [
        "# Применяю двухсторонний T-test\n",
        "\n",
        "t, p_value = stats.ttest_ind(A, B, equal_var=False)\n",
        "\n",
        "t, round(p_value, 2)"
      ],
      "metadata": {
        "id": "i5sOH9RoNpzx",
        "outputId": "42019b7c-1b33-4d14-c865-ea77c1278fc8",
        "colab": {
          "base_uri": "https://localhost:8080/"
        }
      },
      "execution_count": null,
      "outputs": [
        {
          "output_type": "execute_result",
          "data": {
            "text/plain": [
              "(-1.95300880485141, 0.05)"
            ]
          },
          "metadata": {},
          "execution_count": 8
        }
      ]
    },
    {
      "cell_type": "markdown",
      "source": [
        "p_value Находится на уровне значимости alpha = 0.05. Мы получили пограничное значение, в силу специфики задачи целесооразно не отклонять нулевую гипотезу, т.к в противном случае мы можем сделать неправильный выод о эффекте лекарства и от этого потенциально могут пострадать больные при переходе на новое лекарство. При минимальном значении p-value = 0.01 отличия были бы значимы."
      ],
      "metadata": {
        "id": "6x9vMPtW0qyb"
      }
    },
    {
      "cell_type": "code",
      "source": [
        "plt.figure(figsize=(25, 15))\n",
        "plt.hist(A, bins=15, alpha=0.5)\n",
        "plt.hist(B, bins=15, alpha=0.5)\n",
        "plt.bar(A.mean(), 35, alpha=0.8, color='red', width=0.3, linestyle= 'dashed')\n",
        "plt.bar(B.mean(), 35, alpha=0.8, color='blue',width=0.3, linestyle='dashed')\n",
        "plt.show()"
      ],
      "metadata": {
        "colab": {
          "base_uri": "https://localhost:8080/",
          "height": 863
        },
        "id": "cplf242STN5c",
        "outputId": "c404b24e-b901-428d-a905-76cb8f1103c8"
      },
      "execution_count": null,
      "outputs": [
        {
          "output_type": "display_data",
          "data": {
            "text/plain": [
              "<Figure size 1800x1080 with 1 Axes>"
            ],
            "image/png": "[encoded data removed]"
          },
          "metadata": {
            "needs_background": "light"
          }
        }
      ]
    },
    {
      "cell_type": "code",
      "source": [
        "print(f'Среднее значение выборки А: {A.mean()}')\n",
        "print(f'Среднее значение выборки B: {B.mean()}')"
      ],
      "metadata": {
        "colab": {
          "base_uri": "https://localhost:8080/"
        },
        "id": "2bLpS324Yg20",
        "outputId": "66c987e5-1b97-4a5b-eb4b-aaf6eb5cc2bb"
      },
      "execution_count": null,
      "outputs": [
        {
          "output_type": "stream",
          "name": "stdout",
          "text": [
            "Среднее значение выборки А: 168.99662278483498\n",
            "Среднее значение выборки B: 171.27935065741218\n"
          ]
        }
      ]
    },
    {
      "cell_type": "markdown",
      "source": [
        "Из графика незаметно значимого отличия в средних значениях по двум выборкам"
      ],
      "metadata": {
        "id": "rr1Tl2GEYDa7"
      }
    }
  ]
}