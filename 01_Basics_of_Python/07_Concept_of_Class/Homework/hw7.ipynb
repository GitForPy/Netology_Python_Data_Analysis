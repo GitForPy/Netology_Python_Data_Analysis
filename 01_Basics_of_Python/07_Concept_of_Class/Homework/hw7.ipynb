{
 "cells": [
  {
   "cell_type": "markdown",
   "metadata": {},
   "source": [
    "# Домашнее задание"
   ]
  },
  {
   "cell_type": "markdown",
   "metadata": {},
   "source": [
    "## Задание 1\n",
    "\n",
    "Напишите функцию, которая возвращает название валюты (поле ‘Name’) с максимальным значением курса с помощью сервиса www.cbr-xml-daily.ru...ly_json.js\n",
    "\n",
    "## Задание 2\n",
    "Добавьте в класс Rate параметр diff (со значениями True или False), который в случае значения True в методах курсов валют (eur, usd итд) будет возвращать не курс валюты, а изменение по сравнению в прошлым значением. Считайте, self.diff будет принимать значение True только при возврате значения курса. При отображении всей информации о валюте он не используется.\n",
    "\n",
    "## Задание 3\n",
    "Напишите класс Designer, который учитывает количество международных премий для дизайнеров (из презентации: “Повышение на 1 грейд за каждые 7 баллов. Получение международной премии – это +2 балла”). Считайте, что при выходе на работу сотрудник уже имеет две премии и их количество не меняется со стажем (конечно если хотите это можно вручную менять).\n",
    "\n",
    "Класс Designer пишется по аналогии с классом Developer из материалов занятия."
   ]
  },
  {
   "cell_type": "code",
   "execution_count": null,
   "metadata": {
    "id": "-LNoZ3I3xxBb"
   },
   "outputs": [],
   "source": [
    "import requests"
   ]
  },
  {
   "cell_type": "markdown",
   "metadata": {
    "id": "_bC9mmpWxmu8"
   },
   "source": [
    "# Задание 1\n",
    "Напишите функцию, которая возвращает название валюты (поле ‘Name’) с максимальным значением курса с помощью сервиса www.cbr-xml-daily.ru...ly_json.js"
   ]
  },
  {
   "cell_type": "code",
   "execution_count": null,
   "metadata": {
    "id": "eRwGyrV5xxN6"
   },
   "outputs": [],
   "source": [
    "import requests\n",
    "\n",
    "def max_valute_value(url):\n",
    "  \"\"\"\n",
    "  Функция позволяет найти валюту с максимальным курсом на текущую дату\n",
    "  \"\"\"\n",
    "  r = requests.get(url)\n",
    "\n",
    "  # Проверка статуса ответа\n",
    "  if r.status_code != 200:\n",
    "    print(f\"Ошибка получения данных. Статус код: {r.status_code}\")\n",
    "    return\n",
    "  \n",
    "  response = r.json()['Valute']\n",
    "  max_value = 0\n",
    "\n",
    "  for k, v in response.items():\n",
    "    value = v['Value']\n",
    "    currency_name = v['Name']\n",
    "    if  value > max_value:\n",
    "      max_value = value\n",
    "      max_currency = currency_name\n",
    "  \n",
    "  print(f'Валюта с максимальным значением курса: {max_currency}: {max_value}')\n"
   ]
  },
  {
   "cell_type": "code",
   "execution_count": null,
   "metadata": {
    "colab": {
     "base_uri": "https://localhost:8080/"
    },
    "id": "HwhTzXHexxR7",
    "outputId": "2a91cbcf-4cf0-4b26-b700-96f9d70e1fee"
   },
   "outputs": [
    {
     "name": "stdout",
     "output_type": "stream",
     "text": [
      "Валюта с максимальным значением курса: СДР (специальные права заимствования): 113.6631\n"
     ]
    }
   ],
   "source": [
    "max_valute_value('https://www.cbr-xml-daily.ru/daily_json.js')"
   ]
  },
  {
   "cell_type": "markdown",
   "metadata": {
    "id": "xVgZYJYz1A4H"
   },
   "source": [
    "# Задание 2\n",
    "\n",
    "Добавьте в класс Rate параметр diff (со значениями True или False), который в случае значения True в методах курсов валют (eur, usd итд) будет возвращать не курс валюты, а изменение по сравнению в прошлым значением. Считайте, self.diff будет принимать значение True только при возврате значения курса. При отображении всей информации о валюте он не используется.\n"
   ]
  },
  {
   "cell_type": "code",
   "execution_count": null,
   "metadata": {
    "id": "IgIoy_JlxxUz"
   },
   "outputs": [],
   "source": [
    "import requests\n",
    "\n",
    "class Rate:\n",
    "    def __init__(self, format_='value', diff=False):\n",
    "        self.format = format_\n",
    "        self.diff = diff\n",
    "\n",
    "    def exchange_rates(self):\n",
    "        \"\"\"\n",
    "        Возвращает ответ сервиса с информацией о валютах\n",
    "        \"\"\"\n",
    "        r = requests.get('https://www.cbr-xml-daily.ru/daily_json.js')\n",
    "        return r.json()['Valute']\n",
    "\n",
    "    def make_format(self, currency):\n",
    "        \"\"\"\n",
    "        Возвращает информацию о валюте currency в двух вариантах:\n",
    "        - полная информация о валюте при self.format = 'full'\n",
    "        - курс валюты при self.format = 'value'\n",
    "        - разницу курса с предыдущим значением при self.diff = True\n",
    "        \"\"\"\n",
    "        response = self.exchange_rates()\n",
    "        \n",
    "        if currency in response:\n",
    "            if self.format == 'full':\n",
    "                return response[currency]\n",
    "            if self.format == 'value':\n",
    "                if self.diff:\n",
    "                    return response[currency]['Value'] - response[currency]['Previous']\n",
    "                else:\n",
    "                    return response[currency]['Value']\n",
    "        \n",
    "        return 'Error'\n",
    "\n",
    "    def eur(self):\n",
    "        \"\"\"Возвращает курс евро на сегодня в формате self.format\"\"\"\n",
    "        return self.make_format('EUR')\n",
    "\n",
    "    def usd(self):\n",
    "        \"\"\"Возвращает курс доллара на сегодня в формате self.format\"\"\"\n",
    "        return self.make_format('USD')\n",
    "\n",
    "    def brl(self):\n",
    "        \"\"\"Возвращает курс бразильского реала на сегодня в формате self.format\"\"\"\n",
    "        return self.make_format('BRL')\n"
   ]
  },
  {
   "cell_type": "code",
   "execution_count": null,
   "metadata": {
    "id": "FLA9Bl3DxxXs"
   },
   "outputs": [],
   "source": [
    "full_information = Rate('full')"
   ]
  },
  {
   "cell_type": "code",
   "execution_count": null,
   "metadata": {
    "colab": {
     "base_uri": "https://localhost:8080/"
    },
    "id": "m5BXH4oy1qTw",
    "outputId": "39960e96-f1ad-4527-81f7-2e3bfb38dbe6"
   },
   "outputs": [
    {
     "data": {
      "text/plain": [
       "{'CharCode': 'EUR',\n",
       " 'ID': 'R01239',\n",
       " 'Name': 'Евро',\n",
       " 'Nominal': 1,\n",
       " 'NumCode': '978',\n",
       " 'Previous': 91.7289,\n",
       " 'Value': 90.5998}"
      ]
     },
     "execution_count": 36,
     "metadata": {},
     "output_type": "execute_result"
    }
   ],
   "source": [
    "full_information.eur()"
   ]
  },
  {
   "cell_type": "code",
   "execution_count": null,
   "metadata": {
    "id": "748c1Ur51sVI"
   },
   "outputs": [],
   "source": [
    "current_rate = Rate('value', False)"
   ]
  },
  {
   "cell_type": "code",
   "execution_count": null,
   "metadata": {
    "colab": {
     "base_uri": "https://localhost:8080/"
    },
    "id": "BRhqet6D1sXn",
    "outputId": "06af87e7-7992-4660-9ec3-370c2c43a7f1"
   },
   "outputs": [
    {
     "data": {
      "text/plain": [
       "90.5998"
      ]
     },
     "execution_count": 38,
     "metadata": {},
     "output_type": "execute_result"
    }
   ],
   "source": [
    "current_rate.eur()"
   ]
  },
  {
   "cell_type": "code",
   "execution_count": null,
   "metadata": {
    "id": "Rhe8aKKO1saK"
   },
   "outputs": [],
   "source": [
    "previous_rate = Rate('value', True)"
   ]
  },
  {
   "cell_type": "code",
   "execution_count": null,
   "metadata": {
    "colab": {
     "base_uri": "https://localhost:8080/"
    },
    "id": "z_-W4Jnb10BC",
    "outputId": "b4b63db2-75c8-406a-c720-1f337e78a4ff"
   },
   "outputs": [
    {
     "data": {
      "text/plain": [
       "91.7289"
      ]
     },
     "execution_count": 41,
     "metadata": {},
     "output_type": "execute_result"
    }
   ],
   "source": [
    "previous_rate.eur()"
   ]
  },
  {
   "cell_type": "code",
   "execution_count": null,
   "metadata": {
    "id": "0xpqBy-KcCBQ"
   },
   "outputs": [],
   "source": [
    "Fin_block = Rate('full')"
   ]
  },
  {
   "cell_type": "code",
   "execution_count": null,
   "metadata": {
    "colab": {
     "base_uri": "https://localhost:8080/"
    },
    "id": "M-qdKuHhcLCW",
    "outputId": "0360bf9b-7970-4798-8e3f-60389b71f4c4"
   },
   "outputs": [
    {
     "data": {
      "text/plain": [
       "{'CharCode': 'USD',\n",
       " 'ID': 'R01235',\n",
       " 'Name': 'Доллар США',\n",
       " 'Nominal': 1,\n",
       " 'NumCode': '840',\n",
       " 'Previous': 74.8501,\n",
       " 'Value': 79.1596}"
      ]
     },
     "execution_count": 5,
     "metadata": {},
     "output_type": "execute_result"
    }
   ],
   "source": [
    "Fin_block.usd()"
   ]
  },
  {
   "cell_type": "code",
   "execution_count": null,
   "metadata": {
    "id": "8FfoBUu_cRIt"
   },
   "outputs": [],
   "source": [
    "DZ = Rate()"
   ]
  },
  {
   "cell_type": "code",
   "execution_count": null,
   "metadata": {
    "colab": {
     "base_uri": "https://localhost:8080/"
    },
    "id": "RDL28ElTcWam",
    "outputId": "9660a354-b574-435a-ba97-9ef6e23d30e4"
   },
   "outputs": [
    {
     "data": {
      "text/plain": [
       "79.1596"
      ]
     },
     "execution_count": 7,
     "metadata": {},
     "output_type": "execute_result"
    }
   ],
   "source": [
    "DZ.usd()"
   ]
  },
  {
   "cell_type": "code",
   "execution_count": null,
   "metadata": {
    "id": "y0ojnGjdcb4c"
   },
   "outputs": [],
   "source": [
    "Oleg = Rate(diff=True)"
   ]
  },
  {
   "cell_type": "code",
   "execution_count": null,
   "metadata": {
    "colab": {
     "base_uri": "https://localhost:8080/"
    },
    "id": "6CHwl4kZcl1a",
    "outputId": "d6375440-f593-4f35-cf81-0f91a753afe1"
   },
   "outputs": [
    {
     "data": {
      "text/plain": [
       "74.8501"
      ]
     },
     "execution_count": 9,
     "metadata": {},
     "output_type": "execute_result"
    }
   ],
   "source": [
    "Oleg.usd()"
   ]
  },
  {
   "cell_type": "markdown",
   "metadata": {
    "id": "N480tau4129H"
   },
   "source": [
    "# Задание 3\n",
    "Задание 3\n",
    "Напишите класс Designer, который учитывает количество международных премий. Подсказки в коде занятия в разделе “Домашнее задание задача 3”.\n",
    "\n",
    "Комментарий по классу Designer такой:\n",
    "Напишите класс Designer, который учитывает количество международных премий для дизайнеров (из презентации: “Повышение на 1 грейд за каждые 7 баллов. Получение международной премии – это +2 балла”). Считайте, что при выходе на работу сотрудник уже имеет две премии и их количество не меняется со стажем (конечно если хотите это можно вручную менять).\n",
    "\n",
    "Класс Designer пишется по аналогии с классом Developer из материалов занятия."
   ]
  },
  {
   "cell_type": "code",
   "execution_count": null,
   "metadata": {
    "id": "pzDRlKau2CuR"
   },
   "outputs": [],
   "source": [
    "# Общий класс, подходящий для любого сотрудника\n",
    "\n",
    "class Employee:\n",
    "    def __init__(self, name, seniority=None):\n",
    "        self.name = name\n",
    "        self.seniority = seniority\n",
    "\n",
    "        self.grade = 1\n",
    "\n",
    "    def grade_up(self):\n",
    "        \"\"\"Повышает уровень сотрудника\"\"\"\n",
    "        self.grade += 1\n",
    "\n",
    "    def publish_grade(self):\n",
    "        \"\"\"Публикация результатов аккредитации сотрудников\"\"\"\n",
    "        print(self.name, self.grade)\n",
    "\n",
    "    def check_if_it_is_time_for_upgrade(self):\n",
    "        pass"
   ]
  },
  {
   "cell_type": "code",
   "execution_count": null,
   "metadata": {
    "id": "tflFvKD72CyQ"
   },
   "outputs": [],
   "source": [
    "# Изначально любой сотрудник имеет 2 международные премии\n",
    "# Что соответствует inter_prize = 2 и scores = 4 (балла)\n",
    "\n",
    "class Designer(Employee):\n",
    "    def __init__(self, name, inter_prize = 2, scores=4):\n",
    "        super().__init__(name)\n",
    "        self.scores = scores\n",
    "        self.inter_prize= inter_prize\n",
    "\n",
    "    def print_scores(self):\n",
    "        print(f'Кол-во баллов: {self.scores}')\n",
    "\n",
    "    def check_the_time_upgrade_inter_prize(self):\n",
    "        self.inter_prize += 1\n",
    "        self.scores += 2\n",
    "\n",
    "        self.print_scores()\n",
    "\n",
    "        # Условие при котором идет смена грейда.\n",
    "        if self.scores % 7 ==  0 or self.scores % 7 == 1 :\n",
    "            self.grade_up()\n",
    "            self.publish_grade()\n"
   ]
  },
  {
   "cell_type": "code",
   "execution_count": null,
   "metadata": {
    "id": "0K7oEL4h2C1I"
   },
   "outputs": [],
   "source": [
    "maria = Designer('Maria')"
   ]
  },
  {
   "cell_type": "code",
   "execution_count": null,
   "metadata": {
    "colab": {
     "base_uri": "https://localhost:8080/"
    },
    "id": "FDqhjkwN2C3q",
    "outputId": "b6b00b98-096a-4222-fbfa-0c64bd4ba19c"
   },
   "outputs": [
    {
     "name": "stdout",
     "output_type": "stream",
     "text": [
      "Кол-во баллов: 6\n",
      "Кол-во баллов: 8\n",
      "Maria 2\n",
      "Кол-во баллов: 10\n",
      "Кол-во баллов: 12\n",
      "Кол-во баллов: 14\n",
      "Maria 3\n",
      "Кол-во баллов: 16\n",
      "Кол-во баллов: 18\n",
      "Кол-во баллов: 20\n",
      "Кол-во баллов: 22\n",
      "Maria 4\n",
      "Кол-во баллов: 24\n",
      "Кол-во баллов: 26\n",
      "Кол-во баллов: 28\n",
      "Maria 5\n",
      "Кол-во баллов: 30\n",
      "Кол-во баллов: 32\n",
      "Кол-во баллов: 34\n",
      "Кол-во баллов: 36\n",
      "Maria 6\n",
      "Кол-во баллов: 38\n",
      "Кол-во баллов: 40\n",
      "Кол-во баллов: 42\n",
      "Maria 7\n",
      "Кол-во баллов: 44\n"
     ]
    }
   ],
   "source": [
    "for i in range(20):\n",
    "    maria.check_the_time_upgrade_inter_prize()"
   ]
  }
 ],
 "metadata": {
  "colab": {
   "provenance": [],
   "toc_visible": true
  },
  "kernelspec": {
   "display_name": "Python 3 (ipykernel)",
   "language": "python",
   "name": "python3"
  },
  "language_info": {
   "codemirror_mode": {
    "name": "ipython",
    "version": 3
   },
   "file_extension": ".py",
   "mimetype": "text/x-python",
   "name": "python",
   "nbconvert_exporter": "python",
   "pygments_lexer": "ipython3",
   "version": "3.10.9"
  }
 },
 "nbformat": 4,
 "nbformat_minor": 1
}
