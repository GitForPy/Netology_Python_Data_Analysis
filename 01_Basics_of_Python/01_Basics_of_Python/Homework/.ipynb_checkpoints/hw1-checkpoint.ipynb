{
 "cells": [
  {
   "cell_type": "markdown",
   "id": "ad49bad3",
   "metadata": {},
   "source": [
    "# Домашнее задание к лекции \"Основы Python\""
   ]
  },
  {
   "cell_type": "markdown",
   "id": "16856a99",
   "metadata": {},
   "source": [
    "# Задание 1"
   ]
  },
  {
   "cell_type": "markdown",
   "id": "93bd8bfc",
   "metadata": {},
   "source": [
    "Даны 2 переменных, в которых хранятся строки произвольной длины: phrase_1 и phrase_2.\n",
    "Напишите код, который проверяет какая из этих строк длиннее.\n"
   ]
  },
  {
   "cell_type": "code",
   "execution_count": 2,
   "id": "9aea6f73",
   "metadata": {},
   "outputs": [
    {
     "name": "stdout",
     "output_type": "stream",
     "text": [
      "Фраза 1 длиннее фразы 2\n"
     ]
    }
   ],
   "source": [
    "phrase_1 = 'Насколько проще было бы писать программы, если бы не заказчики'\n",
    "phrase_2 = '640Кб должно хватить для любых задач. Билл Гейтс (по легенде)'\n",
    "\n",
    "if len(phrase_1) > len(phrase_2):\n",
    "    print('Фраза 1 длиннее фразы 2')\n",
    "elif len(phrase_1) < len(phrase_2):\n",
    "    print('Фраза 2 длиннее фразы 1')\n",
    "else:\n",
    "    print('Фразы равной длины')\n"
   ]
  },
  {
   "cell_type": "markdown",
   "id": "53ffa1cc",
   "metadata": {},
   "source": [
    "# Задание 2"
   ]
  },
  {
   "cell_type": "markdown",
   "id": "9569d02a",
   "metadata": {},
   "source": [
    "\n",
    "Дана переменная, в которой хранится число (год). Необходимо написать программу, которая выведет, является ли данный год високосным или обычным.\n",
    "\n",
    "Пример работы программы:"
   ]
  },
  {
   "cell_type": "code",
   "execution_count": 4,
   "id": "86b2300b",
   "metadata": {},
   "outputs": [
    {
     "name": "stdout",
     "output_type": "stream",
     "text": [
      "Введите год: 2023\n",
      "Обычный год\n"
     ]
    }
   ],
   "source": [
    "year = int(input(\"Введите год: \"))\n",
    "\n",
    "if (year % 4 == 0 and year % 100 != 0) or (year % 400 == 0):\n",
    "    print('Високосный год')\n",
    "else:\n",
    "    print('Обычный год')\n"
   ]
  },
  {
   "cell_type": "markdown",
   "id": "25db1d59",
   "metadata": {},
   "source": [
    "# Задание 3\n"
   ]
  },
  {
   "cell_type": "markdown",
   "id": "5f5c647b",
   "metadata": {},
   "source": [
    "Необходимо написать программу, которая будет запрашивать у пользователя месяц и дату рождения и выводить соответствующий знак зодиака.\n",
    "\n",
    "Пример работы программы:\n",
    "\n",
    "Введите день:\n",
    "30\n",
    "\n",
    "Введите месяц:\n",
    "Август\n",
    "Результат:"
   ]
  },
  {
   "cell_type": "code",
   "execution_count": 7,
   "id": "10f009d0",
   "metadata": {},
   "outputs": [
    {
     "name": "stdout",
     "output_type": "stream",
     "text": [
      "Введите день рождения:9\n",
      "Введите номер месяца рождения (например, 1 для Января):10\n",
      "Знак зодиака:Весы\n"
     ]
    }
   ],
   "source": [
    "date = int(input(\"Введите день рождения:\"))\n",
    "month = int(input(\"Введите номер месяца рождения (например, 1 для Января):\"))\n",
    "\n",
    "if (21 <= date <= 31 and month == 3) or (1 <= date <= 19 and month == 4):\n",
    "    print(\"Знак зодиака:Овен\")\n",
    "elif (20 <= date <= 30 and month == 4) or (1 <= date <= 20 and month == 5):\n",
    "    print(\"Знак зодиака:Телец\")\n",
    "elif (21 <= date <= 31 and month == 5) or (1 <= date <= 21 and month == 6):\n",
    "    print(\"Знак зодиака:Близнецы\")\n",
    "elif (22 <= date <= 30 and month == 6) or (1 <= date <= 22 and month == 7):\n",
    "    print(\"Знак зодиака:Рак\")\n",
    "elif (23 <= date <= 31 and month == 7) or (1 <= date <= 22 and month == 8):\n",
    "    print(\"Знак зодиака:Лев\")\n",
    "elif (23 <= date <= 31 and month == 8) or (1 <= date <= 22 and month == 9):\n",
    "    print(\"Знак зодиака:Дева\")\n",
    "elif (23 <= date <= 30 and month == 9) or (1 <= date <= 23 and month == 10):\n",
    "    print(\"Знак зодиака:Весы\")\n",
    "elif (24 <= date <= 31 and month == 10) or (1 <= date <= 22 and month == 11):\n",
    "    print(\"Знак зодиака:Скорпион\")\n",
    "elif (23 <= date <= 30 and month == 11) or (1 <= date <= 21 and month == 12):\n",
    "    print(\"Знак зодиака:Стрелец\")\n",
    "elif (22 <= date <= 31 and month == 12) or (1 <= date <= 20 and month == 1):\n",
    "    print(\"Знак зодиака:Козерог\")\n",
    "elif (21 <= date <= 31 and month == 1) or (1 <= date <= 18 and month == 2):\n",
    "    print(\"Знак зодиака:Водолей\")\n",
    "elif (19 <= date <= 29 and month == 2) or (1 <= date <= 20 and month == 3):\n",
    "    print(\"Знак зодиака:Рыбы\")\n"
   ]
  },
  {
   "cell_type": "markdown",
   "id": "3c1825b9",
   "metadata": {},
   "source": [
    "# Задание 4"
   ]
  },
  {
   "cell_type": "markdown",
   "id": "b1ffd85d",
   "metadata": {},
   "source": [
    "Задание 4\n",
    "Вам нужно написать программу для подбора упаковок по размерам товара. Размеры (ширина, длина, высота) хранятся в переменных (в сантиметрах):\n",
    "\n",
    "Используйте следующие правила:\n",
    "\n",
    "если каждое из трех измерений менее или равно 15 сантиметрам, то выведите на экран \"Коробка №1\";\n",
    "если хотя бы одно из измерений больше 2 метров, то выводите \"Упаковка для лыж\";\n",
    "если хотя бы одно из измерений больше 15 сантиметров, но менее 50 сантиметров, то выводите \"Коробка №2\";\n",
    "во всех остальных случаях выводите \"Коробка №3\".\n",
    "Пример работы программы:\n",
    "\n",
    "width = 15\n",
    "length = 55\n",
    "height = 15\n",
    "Результат:\n",
    "Стандартная коробка №3\n",
    "\n",
    "width = 45\n",
    "length = 205\n",
    "height = 45\n",
    "Результат:\n",
    "Ищите упаковку для лыж"
   ]
  },
  {
   "cell_type": "code",
   "execution_count": 8,
   "id": "7214dd52",
   "metadata": {},
   "outputs": [
    {
     "name": "stdout",
     "output_type": "stream",
     "text": [
      "Стандартная коробка №3\n"
     ]
    }
   ],
   "source": [
    "# Упаковка\n",
    "width = 15\n",
    "length = 50\n",
    "height = 15\n",
    "\n",
    "if length >= 200:\n",
    "    print('Упаковка для лыж')\n",
    "elif width < 15 and length < 15 and height < 15:\n",
    "    print('Коробка №1')\n",
    "elif 15 < width < 50 or 15 < length < 50 or 15 < height < 50:\n",
    "    print('Коробка №2')\n",
    "else:\n",
    "    print('Стандартная коробка №3')\n"
   ]
  },
  {
   "cell_type": "code",
   "execution_count": 38,
   "id": "7375f284",
   "metadata": {},
   "outputs": [
    {
     "name": "stdout",
     "output_type": "stream",
     "text": [
      "123312\n",
      "Счастливый\n"
     ]
    }
   ],
   "source": [
    "s = str(input())\n",
    "sum1=int(s[0])+int(s[1])+int(s[2])\n",
    "sum2=int(s[3])+int(s[4])+int(s[5])\n",
    "if sum1==sum2:\n",
    "  print('Счастливый')\n",
    "else:\n",
    "  print('Обычный')"
   ]
  },
  {
   "cell_type": "markdown",
   "id": "57a84b42",
   "metadata": {},
   "source": [
    "# Задание 5 (необязательное)"
   ]
  },
  {
   "cell_type": "markdown",
   "id": "10946b95",
   "metadata": {},
   "source": [
    "Дана переменная, в которой хранится шестизначное число (номер проездного билета). Напишите программу, которая будет определять, является ли данный билет \"счастливым\". Билет считается счастливым, если сумма первых трех цифр совпадает с суммой последних трех цифр номера.\n",
    "\n",
    "Примеры работы программы:\n",
    "\n",
    "number = 123456\n",
    "Результат:\n",
    "Несчастливый билет\n",
    "\n",
    "number = 123321\n",
    "Результат:\n",
    "Счастливый билет"
   ]
  },
  {
   "cell_type": "code",
   "execution_count": 9,
   "id": "c393322e",
   "metadata": {},
   "outputs": [
    {
     "name": "stdout",
     "output_type": "stream",
     "text": [
      "123321\n",
      "Счастливый\n"
     ]
    }
   ],
   "source": [
    "# Счастливый билет\n",
    "number = int(input())\n",
    "num_1 = number // 100000\n",
    "num_2 = number % 100000 // 10000\n",
    "num_3 = number % 10000 // 1000\n",
    "num_4 = number % 1000 // 100\n",
    "num_5 = number % 100 // 10\n",
    "num_6 = number % 10\n",
    "print('Счастливый' if num_1 + num_2 + num_3 == num_4 + num_5 + num_6 else 'Обычный')"
   ]
  }
 ],
 "metadata": {
  "kernelspec": {
   "display_name": "Python 3 (ipykernel)",
   "language": "python",
   "name": "python3"
  },
  "language_info": {
   "codemirror_mode": {
    "name": "ipython",
    "version": 3
   },
   "file_extension": ".py",
   "mimetype": "text/x-python",
   "name": "python",
   "nbconvert_exporter": "python",
   "pygments_lexer": "ipython3",
   "version": "3.10.9"
  }
 },
 "nbformat": 4,
 "nbformat_minor": 5
}
