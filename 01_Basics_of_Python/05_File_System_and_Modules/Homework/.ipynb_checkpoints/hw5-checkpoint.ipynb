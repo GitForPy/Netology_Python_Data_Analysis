{
 "cells": [
  {
   "cell_type": "markdown",
   "id": "72b9711b",
   "metadata": {},
   "source": [
    "Переведите содержимое файла purchase_log.txt* в словарь purchases вида:\n",
    "\n",
    " - {‘1840e0b9d4’: ‘Продукты’, …}\n",
    "\n",
    "Для каждого user_id в файле **visit_log.csv** определите третий столбец с категорией покупки, если покупка была, сам файл visit_log.csv* изменять не надо. Запишите в файл **funnel.csv** визиты из файла visit_log.csv*, в которых были покупки с указанием категории.\n",
    "\n",
    "Учтите условия на данные:\n",
    "    \n",
    "- содержимое purchase_log.txt* помещается в оперативную память компьютера;\n",
    "- содержимое visit_log.csv* — нет; используйте только построчную обработку этого файла.\n",
    "\n",
    "*Все файлы, необходимые для выполнения домашнего задания, находятся в разделе “Дополнительные материалы к домашнему заданию” (нужно скачать архив)."
   ]
  },
  {
   "cell_type": "markdown",
   "id": "34f0816d",
   "metadata": {},
   "source": [
    "# Задание 1 \n",
    "\n"
   ]
  },
  {
   "cell_type": "code",
   "execution_count": null,
   "id": "6b10cda0",
   "metadata": {},
   "outputs": [],
   "source": [
    "# Переведите содержимое файла purchase_log.txt в словарь purchases вида:\n",
    "# {‘1840e0b9d4’: ‘Продукты’, …}"
   ]
  },
  {
   "cell_type": "code",
   "execution_count": null,
   "id": "8fb5b019",
   "metadata": {},
   "outputs": [],
   "source": [
    "import json     "
   ]
  },
  {
   "cell_type": "code",
   "execution_count": null,
   "id": "aa2b9b03",
   "metadata": {},
   "outputs": [],
   "source": [
    "purchases_dict = {}\n",
    "\n",
    "with open('purchase_log.txt', 'r') as input_file:\n",
    "    next(input_file)  # пропускаем первую строку\n",
    "    for line in input_file:\n",
    "        parsed_line = json.loads(line)\n",
    "        purchases_dict[parsed_line['user_id']] = parsed_line['category']\n",
    "\n",
    "with open('purchases.txt', 'w') as output_file:\n",
    "    output_file.write(str(purchases_dict))\n"
   ]
  },
  {
   "cell_type": "markdown",
   "id": "f0de312c",
   "metadata": {},
   "source": [
    "# Задание 2\n"
   ]
  },
  {
   "cell_type": "code",
   "execution_count": null,
   "id": "2a4eb823",
   "metadata": {},
   "outputs": [],
   "source": [
    "import json\n",
    "\n",
    "# Для каждого user_id в visit_log.csv добавляем категорию из purchases_dict, если она есть\n",
    "with open('result.txt', 'w') as result_file:\n",
    "    with open('visit_log.csv', 'r') as visit_file: \n",
    "        for line in visit_file:\n",
    "            user_id = line.split(',')[0]\n",
    "            category = purchases_dict.get(user_id)\n",
    "            if category:\n",
    "                result_line = line.rstrip() + ', ' + category + '\\n'\n",
    "                result_file.write(result_line)"
   ]
  }
 ],
 "metadata": {
  "kernelspec": {
   "display_name": "Python 3 (ipykernel)",
   "language": "python",
   "name": "python3"
  },
  "language_info": {
   "codemirror_mode": {
    "name": "ipython",
    "version": 3
   },
   "file_extension": ".py",
   "mimetype": "text/x-python",
   "name": "python",
   "nbconvert_exporter": "python",
   "pygments_lexer": "ipython3",
   "version": "3.10.9"
  }
 },
 "nbformat": 4,
 "nbformat_minor": 5
}
