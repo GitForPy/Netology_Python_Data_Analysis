{
 "cells": [
  {
   "cell_type": "markdown",
   "id": "38246aa2",
   "metadata": {},
   "source": [
    "# Домашнее задание к лекции \"Введение в типы данных и циклы. Часть 1\""
   ]
  },
  {
   "cell_type": "markdown",
   "id": "aff98102",
   "metadata": {},
   "source": [
    "# Задание 1\n",
    "\n",
    "Дана переменная, в которой хранится слово из латинских букв. Напишите код, который выводит на экран:\n",
    "\n",
    "- среднюю букву, если число букв в слове нечетное;\n",
    "- две средних буквы, если число букв четное.\n",
    "Примеры работы программы:\n",
    "\n",
    "word = 'test'\n",
    "Результат:\n",
    "es\n",
    "\n",
    "word = 'testing'\n",
    "\n",
    "Результат:\n",
    "t\n"
   ]
  },
  {
   "cell_type": "code",
   "execution_count": 1,
   "id": "adb1ccc7",
   "metadata": {},
   "outputs": [
    {
     "name": "stdout",
     "output_type": "stream",
     "text": [
      "Введите слово: testing\n",
      "t\n"
     ]
    }
   ],
   "source": [
    "word = input(\"Введите слово: \")\n",
    "\n",
    "length = len(word)\n",
    "if length % 2 == 0:\n",
    "    print(word[length // 2 - 1 : length // 2 + 1])\n",
    "else:\n",
    "    print(word[length // 2])\n"
   ]
  },
  {
   "cell_type": "markdown",
   "id": "4e273c23",
   "metadata": {},
   "source": [
    "# Задание 2"
   ]
  },
  {
   "cell_type": "markdown",
   "id": "c437e01f",
   "metadata": {},
   "source": [
    "Напишите программу, которая последовательно запрашивает у пользователя числа (по одному за раз) и после первого нуля выводит сумму всех ранее введенных чисел.\n",
    "\n",
    "Примеры работы программы:\n",
    "\n",
    "Введите число:  \n",
    "1\n",
    "\n",
    "Введите число:  \n",
    "4\n",
    "\n",
    "Введите число:  \n",
    "6\n",
    "\n",
    "Введите число:  \n",
    "0\n",
    "Результат:\n",
    "11\n",
    "\n",
    "Введите число:  \n",
    "0\n",
    "Результат:\n",
    "0"
   ]
  },
  {
   "cell_type": "code",
   "execution_count": 2,
   "id": "53b4b6d2",
   "metadata": {},
   "outputs": [
    {
     "name": "stdout",
     "output_type": "stream",
     "text": [
      "Введите число: 1\n",
      "Введите число: 2\n",
      "Введите число: 0\n",
      "Результат:  3\n"
     ]
    }
   ],
   "source": [
    "sum_ = 0\n",
    "while True:\n",
    "    number = int(input(\"Введите число: \"))\n",
    "    if number == 0:\n",
    "        break\n",
    "    sum_ += number\n",
    "print(\"Результат: \", sum_)\n"
   ]
  },
  {
   "cell_type": "markdown",
   "id": "a89d1f65",
   "metadata": {},
   "source": [
    "# Задание 3"
   ]
  },
  {
   "cell_type": "markdown",
   "id": "2f04eb79",
   "metadata": {},
   "source": [
    "Мы делаем MVP dating-сервиса, и у нас есть список парней и девушек.\n",
    "Выдвигаем гипотезу: лучшие рекомендации мы получим, если просто отсортируем имена по алфавиту и познакомим людей с одинаковыми индексами после сортировки! Но мы не будем никого знакомить, если кто-то может остаться без пары:\n",
    "\n",
    "Примеры работы программы:\n",
    "\n",
    "1.\n",
    "\n",
    "boys = ['Peter', 'Alex', 'John', 'Arthur', 'Richard']\n",
    "girls = ['Kate', 'Liza', 'Kira', 'Emma', 'Trisha']\n",
    "Результат:\n",
    "\n",
    "Идеальные пары:  \n",
    "Alex и Emma  \n",
    "Arthur и Kate  \n",
    "John и Kira  \n",
    "Peter и Liza  \n",
    "Richard и Trisha\n",
    "\n",
    "2.\n",
    "boys = ['Peter', 'Alex', 'John', 'Arthur', 'Richard', 'Michael']\n",
    "girls = ['Kate', 'Liza', 'Kira', 'Emma', 'Trisha']\n",
    "Результат:\n",
    "Внимание, кто-то может остаться без пары!"
   ]
  },
  {
   "cell_type": "code",
   "execution_count": 4,
   "id": "473eb22f",
   "metadata": {},
   "outputs": [
    {
     "name": "stdout",
     "output_type": "stream",
     "text": [
      "Идеальные пары:\n",
      "Alex и Emma\n",
      "Arthur и Kate\n",
      "John и Kira\n",
      "Peter и Liza\n",
      "Richard и Trisha\n"
     ]
    }
   ],
   "source": [
    "boys = ['Peter', 'Alex', 'John', 'Arthur', 'Richard']\n",
    "girls = ['Kate', 'Liza', 'Kira', 'Emma', 'Trisha']\n",
    "\n",
    "if len(boys) == len(girls):\n",
    "    boys.sort()\n",
    "    girls.sort()\n",
    "    print(\"Идеальные пары:\")\n",
    "    for boy, girl in zip(boys, girls):\n",
    "        print(boy, \"и\", girl)\n",
    "else:\n",
    "    print(\"Внимание, кто-то может остаться без пары!\")\n"
   ]
  },
  {
   "cell_type": "markdown",
   "id": "6033f544",
   "metadata": {},
   "source": [
    "# Задача 4\n"
   ]
  },
  {
   "cell_type": "markdown",
   "id": "428ea055",
   "metadata": {},
   "source": [
    "У нас есть список, содержащий информацию о среднедневной температуре в Фаренгейтах за произвольный период по странам (структура данных в примере). Необходимо написать код, который рассчитает среднюю температуру за период в Цельсиях(!) для каждой страны.\n",
    "\n",
    "Пример работы программы:\n",
    "\n",
    "countries_temperature = [\n",
    "    \n",
    "    ['Таиланд', [75.2, 77, 78.8, 73.4, 68, 75.2, 77]],\n",
    "    \n",
    "    ['Германия', [57.2, 55.4, 59, 59, 53.6]],\n",
    "    \n",
    "    ['Россия', [35.6, 37.4, 39.2, 41, 42.8, 39.2, 35.6]],\n",
    "    \n",
    "    ['Польша', [50, 50, 53.6, 57.2, 55.4, 55.4]]\n",
    "]\n",
    "\n",
    "\n",
    "Результат:\n",
    "\n",
    "Средняя температура в странах:\n",
    "Таиланд  -  23.9 С\n",
    "Германия  -  13.8 С\n",
    "Россия  -  3.7 С\n",
    "Польша  -  12.0 С"
   ]
  },
  {
   "cell_type": "code",
   "execution_count": 6,
   "id": "29db2d4f",
   "metadata": {},
   "outputs": [
    {
     "name": "stdout",
     "output_type": "stream",
     "text": [
      "Средняя температура в странах:\n",
      "Таиланд - 23.9 C\n",
      "Германия - 13.8 C\n",
      "Россия - 3.7 C\n",
      "Польша - 12.0 C\n"
     ]
    }
   ],
   "source": [
    "countries_temperature = [\n",
    "    ['Таиланд', [75.2, 77, 78.8, 73.4, 68, 75.2, 77]],\n",
    "    ['Германия', [57.2, 55.4, 59, 59, 53.6]],\n",
    "    ['Россия', [35.6, 37.4, 39.2, 41, 42.8, 39.2, 35.6]],\n",
    "    ['Польша', [50, 50, 53.6, 57.2, 55.4, 55.4]]\n",
    "]\n",
    "\n",
    "print(\"Средняя температура в странах:\")\n",
    "for country_info in countries_temperature:\n",
    "    avg_temp = sum(country_info[1]) / len(country_info[1])\n",
    "    avg_temp_celsius = (avg_temp - 32) * 5 / 9\n",
    "    print(f\"{country_info[0]} - {avg_temp_celsius:.1f} C\")\n"
   ]
  },
  {
   "cell_type": "markdown",
   "id": "b3e32867",
   "metadata": {},
   "source": [
    "# Задание 5 (необязательное)"
   ]
  },
  {
   "cell_type": "markdown",
   "id": "f62c2366",
   "metadata": {},
   "source": [
    "\n",
    "Имеется список с транспортными номерами. Необходимо написать код, который проверит каждый номер на валидность (1 буква, 3 цифры, 2 буквы, 2-3 цифры). Обратите внимание, что не все буквы кириллического алфавита используются в транспортных номерах.\n",
    "\n",
    "Если номер валиден, то вывести его в нужном формавте (пример ниже), а если не валиден — вывести текст. При решении помогут регулярные выражения, с которыми будет знакомство на практике.\n",
    "\n",
    "Примеры работы программы:\n",
    "\n",
    "car_ids = ['А222ВС96', 'АБ22ВВ193']\n",
    "\n",
    "Результат:\n",
    "\n",
    "Номер А222ВС валиден. Регион: 96\n",
    "Номер АБ22ВВ193 не валиден"
   ]
  },
  {
   "cell_type": "code",
   "execution_count": 16,
   "id": "dedeccaf",
   "metadata": {},
   "outputs": [
    {
     "name": "stdout",
     "output_type": "stream",
     "text": [
      "Номер А222ВС валиден. Регион: 96\n",
      "Номер АБ22ВВ193 не валиден\n"
     ]
    }
   ],
   "source": [
    "import re\n",
    "\n",
    "car_ids = ['А222ВС96', 'АБ22ВВ193']\n",
    "pattern = r'([АВЕКМНОРСТУХ]\\d{3}[АВЕКМНОРСТУХ]{2})(\\d{2,3})'\n",
    "\n",
    "for car_id in car_ids:\n",
    "    result = re.match(pattern, car_id)\n",
    "\n",
    "    if result:\n",
    "        print(f'Номер {result.group(1)} валиден. Регион: {result.group(2)}')\n",
    "    else:\n",
    "        print(f'Номер {car_id} не валиден')\n"
   ]
  },
  {
   "cell_type": "markdown",
   "id": "bf8ce2fa",
   "metadata": {},
   "source": [
    "# Задание 6 (необязательное)"
   ]
  },
  {
   "cell_type": "markdown",
   "id": "22443fa1",
   "metadata": {},
   "source": [
    "Дан поток логов по количеству просмотренных страниц для каждого пользователя (пользователь,дата;просмотры). Вам необходимо написать алгоритм, который считает среднее значение просмотров на пользователя. Т. е. надо посчитать отношение суммы всех просмотров к количеству уникальных пользователей. И тут регулярные выражения облегчат немного реализацию.\n",
    "\n",
    "Примеры работы программы:\n",
    "\n",
    "stream = [\n",
    "\n",
    "    'user4,2021-01-01;3',\n",
    "    \n",
    "    'user3,2022-01-07;4',\n",
    "    \n",
    "    'user2,2022-03-29;1',\n",
    "    \n",
    "    'user1,2020-04-04;13',\n",
    "    \n",
    "    'user2,2022-01-05;7',\n",
    "    \n",
    "    'user1,2021-06-14;4',\n",
    "    \n",
    "    'user3,2022-07-02;10',\n",
    "    \n",
    "    'user4,2021-03-21;19',\n",
    "    \n",
    "    'user4,2022-03-22;4',\n",
    "    \n",
    "    'user4,2022-04-22;8',\n",
    "    \n",
    "    'user4,2021-05-03;9',\n",
    "    \n",
    "    'user4,2022-05-11;11'\n",
    "]\n",
    "\n",
    "Результат:\n",
    "Среднее количество просмотров на уникального пользователя: 23.25\n",
    "\n",
    "stream = [\n",
    "    'user100,2022-01-01;150',\n",
    "    'user99,2022-01-07;205',\n",
    "    'user1001,2022-03-29;81'\n",
    "]\n",
    "\n",
    "Результат: Среднее количество просмотров на уникального пользователя: 145.33"
   ]
  },
  {
   "cell_type": "code",
   "execution_count": 12,
   "id": "849f4147",
   "metadata": {},
   "outputs": [
    {
     "name": "stdout",
     "output_type": "stream",
     "text": [
      "Среднее количество просмотров на уникального пользователя: 145.33\n"
     ]
    }
   ],
   "source": [
    "stream = [\n",
    "    'user100,2022-01-01;150',\n",
    "    'user99,2022-01-07;205',\n",
    "    'user1001,2022-03-29;81'\n",
    "]\n",
    "\n",
    "total_views = 0\n",
    "unique_users = set()\n",
    "\n",
    "for log in stream:\n",
    "    log_parts = log.split(\";\")\n",
    "    user = log_parts[0]\n",
    "    views = int(log_parts[1])\n",
    "\n",
    "    unique_users.add(user)\n",
    "    total_views += views\n",
    "\n",
    "avg_views = total_views / len(unique_users)\n",
    "\n",
    "print(f\"Среднее количество просмотров на уникального пользователя: {avg_views:.2f}\")\n"
   ]
  }
 ],
 "metadata": {
  "kernelspec": {
   "display_name": "Python 3 (ipykernel)",
   "language": "python",
   "name": "python3"
  },
  "language_info": {
   "codemirror_mode": {
    "name": "ipython",
    "version": 3
   },
   "file_extension": ".py",
   "mimetype": "text/x-python",
   "name": "python",
   "nbconvert_exporter": "python",
   "pygments_lexer": "ipython3",
   "version": "3.10.9"
  }
 },
 "nbformat": 4,
 "nbformat_minor": 5
}
