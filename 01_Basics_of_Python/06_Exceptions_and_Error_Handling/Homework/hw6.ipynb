{
  "nbformat": 4,
  "nbformat_minor": 0,
  "metadata": {
    "colab": {
      "provenance": [],
      "toc_visible": true
    },
    "kernelspec": {
      "name": "python3",
      "display_name": "Python 3"
    },
    "language_info": {
      "name": "python"
    }
  },
  "cells": [
    {
      "cell_type": "markdown",
      "source": [
        "# Задание 1\n",
        "\n",
        "Печатные газеты использовали свой формат дат для каждого выпуска. Для каждой газеты из списка напишите формат указанной даты для перевода в объект datetime:\n",
        "\n",
        "The Moscow Times - Wednesday, October 2, 2002\n",
        "The Guardian - Friday, 11.10.13\n",
        "Daily News - Thursday, 18 August 1977"
      ],
      "metadata": {
        "id": "G4Qr9dM6qWid"
      }
    },
    {
      "cell_type": "code",
      "source": [
        "from datetime import datetime\n",
        "from datetime import timedelta"
      ],
      "metadata": {
        "id": "l-J8rzUjqxfD"
      },
      "execution_count": null,
      "outputs": []
    },
    {
      "cell_type": "code",
      "source": [
        "releases = ['The Moscow Times - Wednesday, October 2, 2002',\n",
        "             'The Guardian - Friday, 11.10.13',\n",
        "             'Daily News - Thursday, 18 August 1977'\n",
        "           ]"
      ],
      "metadata": {
        "id": "Qj3SHeXEqqqE"
      },
      "execution_count": null,
      "outputs": []
    },
    {
      "cell_type": "code",
      "source": [
        "dt1, dt2, dt3 = [release.split('-')[1].strip() for release in releases]\n",
        "\n",
        "date_Moscow_Times = datetime.strptime(dt1, '%A, %B %d, %Y')\n",
        "date_The_Guaridan = datetime.strptime(dt2, '%A, %d.%m.%y')\n",
        "date_Daily_News = datetime.strptime(dt3, '%A, %d %B %Y')"
      ],
      "metadata": {
        "id": "v-KBoCUOq20a"
      },
      "execution_count": null,
      "outputs": []
    },
    {
      "cell_type": "code",
      "source": [
        "print(f'- Moscow_Times: {date_Moscow_Times}\\n- The_Guaridan: {date_The_Guaridan}\\n- Daily_News: {date_Daily_News}')"
      ],
      "metadata": {
        "colab": {
          "base_uri": "https://localhost:8080/"
        },
        "id": "A28Y6teCq19O",
        "outputId": "29876bdd-527c-4fa4-a83b-72263831f672"
      },
      "execution_count": null,
      "outputs": [
        {
          "output_type": "stream",
          "name": "stdout",
          "text": [
            "- Moscow_Times: 2002-10-02 00:00:00\n",
            "- The_Guaridan: 2013-10-11 00:00:00\n",
            "- Daily_News: 1977-08-18 00:00:00\n"
          ]
        }
      ]
    },
    {
      "cell_type": "markdown",
      "source": [
        "# Задание 2\n",
        "\n",
        "Дан поток дат в формате YYYY-MM-DD, в которых встречаются некорректные значения:\n",
        "\n",
        "stream = [‘2018-04-02’, ‘2018-02-29’, ‘2018-19-02’]\n",
        "\n",
        "\n",
        "Напишите функцию, которая проверяет эти даты на корректность. Т. е. для каждой даты возвращает True (дата корректна) или False (некорректная дата)."
      ],
      "metadata": {
        "id": "clgQ8PiMq8-6"
      }
    },
    {
      "cell_type": "code",
      "source": [
        "stream = ['2018-04-02', '2018-02-29', '2018-19-02']"
      ],
      "metadata": {
        "id": "QbyxmQD2rP1j"
      },
      "execution_count": null,
      "outputs": []
    },
    {
      "cell_type": "code",
      "source": [
        "def check_correct_dates(stream):\n",
        "    \"\"\"\n",
        "    Функция check_correct_date позволяет проверять даты на корректность.\n",
        "    Для каждой даты возвращает True(дата корректна или False)\n",
        "    \"\"\"\n",
        "    error_date = []\n",
        "    total_errors = 0\n",
        "\n",
        "    for date in stream:\n",
        "        try:\n",
        "          # Преобразование строки в формат datetime\n",
        "            date_dt = datetime.strptime(date, '%Y-%m-%d')\n",
        "            print(f'{date_dt} - True')\n",
        "        except ValueError:\n",
        "            print(f'{date} - False')\n",
        "            error_date.append(date)\n",
        "            total_errors += 1\n",
        "    # Расчет % ошибок в данных.\n",
        "    error_rate = 100 * total_errors / len(stream)\n",
        "\n",
        "    print(f'Процент ошибок в данных: {error_rate:.2f}%')"
      ],
      "metadata": {
        "id": "r05Fv3O5rXOt"
      },
      "execution_count": null,
      "outputs": []
    },
    {
      "cell_type": "code",
      "source": [
        "# ? check_correct_dates - Docstring"
      ],
      "metadata": {
        "id": "B59TagH16-gd"
      },
      "execution_count": null,
      "outputs": []
    },
    {
      "cell_type": "code",
      "source": [
        "check_correct_dates(stream)"
      ],
      "metadata": {
        "colab": {
          "base_uri": "https://localhost:8080/"
        },
        "id": "eQQLeV7IrY27",
        "outputId": "9b16872f-c8e2-4cd4-e354-06333ad433f3"
      },
      "execution_count": null,
      "outputs": [
        {
          "output_type": "stream",
          "name": "stdout",
          "text": [
            "2018-04-02 00:00:00 - True\n",
            "2018-02-29 - False\n",
            "2018-19-02 - False\n",
            "Процент ошибок в данных: 66.67%\n"
          ]
        }
      ]
    },
    {
      "cell_type": "code",
      "source": [],
      "metadata": {
        "id": "o1iiSCIXrZNj"
      },
      "execution_count": null,
      "outputs": []
    },
    {
      "cell_type": "markdown",
      "source": [
        "# Задание 3\n",
        "\n",
        "Напишите функцию date_range, которая возвращает список дат за период от start_date до end_date. Даты должны вводиться в формате YYYY-MM-DD. В случае неверного формата или при start_date > end_date должен возвращаться пустой список."
      ],
      "metadata": {
        "id": "s7Hj5iQnrcZL"
      }
    },
    {
      "cell_type": "code",
      "source": [
        "def date_range():\n",
        "    \"\"\"\n",
        "    Функция возвращает список дат за период от start_date до end_date.\n",
        "    Даты должны вводиться в формате YYYY-MM-DD. В случае неверного формата\n",
        "    или при start_date > end_date функция возвращает пустой список.\n",
        "    \"\"\"\n",
        "\n",
        "    start_date = input('Введите начальную дату в формате YYYY-MM-DD ')\n",
        "    end_date = input('Введите конечную дату в формате YYYY-MM-DD ')\n",
        "\n",
        "    try:\n",
        "#         Перевод строк в дату\n",
        "        start_date_dt = datetime.strptime(start_date, '%Y-%m-%d')\n",
        "        end_date_dt = datetime.strptime(end_date, '%Y-%m-%d')\n",
        "\n",
        "    except ValueError:\n",
        "          return []\n",
        "\n",
        "        current_date = start_date_dt\n",
        "        dates = []\n",
        "\n",
        "        if start_date_dt < end_date_dt:\n",
        "            # print('Условие выполнено!') - для отладки\n",
        "\n",
        "            while current_date <= end_date_dt:\n",
        "                dates.append(datetime.strftime(current_date, '%Y-%m-%d' ))\n",
        "                current_date += timedelta(days=1)\n",
        "\n",
        "            return dates\n",
        "\n",
        "        else:\n",
        "            return []\n",
        "\n"
      ],
      "metadata": {
        "id": "fk6khykOrZTr"
      },
      "execution_count": null,
      "outputs": []
    },
    {
      "cell_type": "code",
      "source": [
        "# Тестирование функции:\n",
        "date_range()"
      ],
      "metadata": {
        "colab": {
          "base_uri": "https://localhost:8080/"
        },
        "id": "OaeDG1eSrZWr",
        "outputId": "06b1d6de-a493-4dd2-b01f-4db45634a167"
      },
      "execution_count": null,
      "outputs": [
        {
          "name": "stdout",
          "output_type": "stream",
          "text": [
            "Введите начальную дату в формате YYYY-MM-DD 2022-01-01\n",
            "Введите конечную дату в формате YYYY-MM-DD 2022-01-06\n"
          ]
        },
        {
          "output_type": "execute_result",
          "data": {
            "text/plain": [
              "['2022-01-01',\n",
              " '2022-01-02',\n",
              " '2022-01-03',\n",
              " '2022-01-04',\n",
              " '2022-01-05',\n",
              " '2022-01-06']"
            ]
          },
          "metadata": {},
          "execution_count": 22
        }
      ]
    },
    {
      "cell_type": "markdown",
      "source": [],
      "metadata": {
        "id": "BhRDP7fypPf8"
      }
    },
    {
      "cell_type": "code",
      "source": [
        "# start_date > end_date\n",
        "date_range()"
      ],
      "metadata": {
        "colab": {
          "base_uri": "https://localhost:8080/"
        },
        "id": "qfCLjsqb5XRK",
        "outputId": "65c930dd-d37f-4543-8382-7a3e16422054"
      },
      "execution_count": null,
      "outputs": [
        {
          "name": "stdout",
          "output_type": "stream",
          "text": [
            "Введите начальную дату в формате YYYY-MM-DD 2022-12-01\n",
            "Введите конечную дату в формате YYYY-MM-DD 2022-01-01\n"
          ]
        },
        {
          "output_type": "execute_result",
          "data": {
            "text/plain": [
              "[]"
            ]
          },
          "metadata": {},
          "execution_count": 19
        }
      ]
    },
    {
      "cell_type": "code",
      "source": [
        "# Неправильно задан формат даты\n",
        "date_range()"
      ],
      "metadata": {
        "colab": {
          "base_uri": "https://localhost:8080/"
        },
        "id": "nY_EPLrC5nfU",
        "outputId": "b1c3d333-e6e5-4c14-d618-6ee5b80f6c3a"
      },
      "execution_count": null,
      "outputs": [
        {
          "name": "stdout",
          "output_type": "stream",
          "text": [
            "Введите начальную дату в формате YYYY-MM-DD 01-01-2022\n",
            "Введите конечную дату в формате YYYY-MM-DD 01-06-2022\n"
          ]
        },
        {
          "output_type": "execute_result",
          "data": {
            "text/plain": [
              "[]"
            ]
          },
          "metadata": {},
          "execution_count": 24
        }
      ]
    }
  ]
}